{
 "cells": [
  {
   "cell_type": "markdown",
   "metadata": {},
   "source": [
    "<h1 class=\"list-group-item list-group-item-action active\" data-toggle=\"list\"  role=\"tab\" aria-controls=\"home\">SUPERVISED LEARNING REGRESSION MINI PROJECT </h1>\n",
    "     \n"
   ]
  },
  {
   "cell_type": "code",
   "execution_count": 1019,
   "metadata": {},
   "outputs": [],
   "source": [
    "import pandas as pd\n",
    "import numpy as np\n",
    "\n",
    "import warnings\n",
    "warnings.filterwarnings(action='ignore')\n",
    "\n",
    "import matplotlib.pyplot as plt\n",
    "%matplotlib inline\n",
    "import seaborn as sns\n",
    "sns.set()\n",
    "\n",
    "from scipy import stats"
   ]
  },
  {
   "cell_type": "code",
   "execution_count": 1020,
   "metadata": {},
   "outputs": [],
   "source": [
    "plt.rcParams['figure.figsize'] = (15,8)"
   ]
  },
  {
   "cell_type": "code",
   "execution_count": 1021,
   "metadata": {},
   "outputs": [],
   "source": [
    "import statsmodels \n",
    "import statsmodels.api as sm\n",
    "import statsmodels.stats.api as sms\n",
    "import statsmodels.formula.api as smf\n",
    "\n",
    "\n",
    "from statsmodels.stats.outliers_influence import variance_inflation_factor\n",
    "from statsmodels.graphics.gofplots import qqplot\n"
   ]
  },
  {
   "cell_type": "code",
   "execution_count": 1022,
   "metadata": {},
   "outputs": [],
   "source": [
    "from sklearn.preprocessing import StandardScaler\n",
    "from sklearn.model_selection import train_test_split,KFold,LeaveOneOut,cross_val_score\n",
    "from sklearn.metrics import mean_absolute_error,mean_absolute_percentage_error,mean_squared_error\n",
    "from sklearn.feature_selection import RFE\n",
    "from sklearn.linear_model import LinearRegression,Ridge,Lasso"
   ]
  },
  {
   "cell_type": "code",
   "execution_count": 1023,
   "metadata": {},
   "outputs": [],
   "source": [
    "from mlxtend.feature_selection import SequentialFeatureSelector as sfs"
   ]
  },
  {
   "cell_type": "markdown",
   "metadata": {},
   "source": [
    "<h2 class=\"list-group-item list-group-item-action active\" >1. Read the dataset likes.csv </h2>"
   ]
  },
  {
   "cell_type": "code",
   "execution_count": 1024,
   "metadata": {
    "scrolled": true
   },
   "outputs": [
    {
     "data": {
      "text/html": [
       "<div>\n",
       "<style scoped>\n",
       "    .dataframe tbody tr th:only-of-type {\n",
       "        vertical-align: middle;\n",
       "    }\n",
       "\n",
       "    .dataframe tbody tr th {\n",
       "        vertical-align: top;\n",
       "    }\n",
       "\n",
       "    .dataframe thead th {\n",
       "        text-align: right;\n",
       "    }\n",
       "</style>\n",
       "<table border=\"1\" class=\"dataframe\">\n",
       "  <thead>\n",
       "    <tr style=\"text-align: right;\">\n",
       "      <th></th>\n",
       "      <th>userid</th>\n",
       "      <th>age</th>\n",
       "      <th>dob_day</th>\n",
       "      <th>dob_year</th>\n",
       "      <th>dob_month</th>\n",
       "      <th>gender</th>\n",
       "      <th>tenure</th>\n",
       "      <th>friend_count</th>\n",
       "      <th>friendships_initiated</th>\n",
       "      <th>likes</th>\n",
       "      <th>likes_received</th>\n",
       "      <th>mobile_likes</th>\n",
       "      <th>mobile_likes_received</th>\n",
       "      <th>www_likes</th>\n",
       "      <th>www_likes_received</th>\n",
       "    </tr>\n",
       "  </thead>\n",
       "  <tbody>\n",
       "    <tr>\n",
       "      <th>0</th>\n",
       "      <td>1098638</td>\n",
       "      <td>13</td>\n",
       "      <td>2</td>\n",
       "      <td>2000</td>\n",
       "      <td>2</td>\n",
       "      <td>male</td>\n",
       "      <td>0</td>\n",
       "      <td>0</td>\n",
       "      <td>0</td>\n",
       "      <td>1</td>\n",
       "      <td>0</td>\n",
       "      <td>0</td>\n",
       "      <td>0</td>\n",
       "      <td>1</td>\n",
       "      <td>0</td>\n",
       "    </tr>\n",
       "    <tr>\n",
       "      <th>1</th>\n",
       "      <td>2063204</td>\n",
       "      <td>14</td>\n",
       "      <td>22</td>\n",
       "      <td>1999</td>\n",
       "      <td>1</td>\n",
       "      <td>male</td>\n",
       "      <td>104</td>\n",
       "      <td>0</td>\n",
       "      <td>0</td>\n",
       "      <td>1</td>\n",
       "      <td>0</td>\n",
       "      <td>0</td>\n",
       "      <td>0</td>\n",
       "      <td>1</td>\n",
       "      <td>0</td>\n",
       "    </tr>\n",
       "    <tr>\n",
       "      <th>2</th>\n",
       "      <td>1579594</td>\n",
       "      <td>19</td>\n",
       "      <td>18</td>\n",
       "      <td>1994</td>\n",
       "      <td>10</td>\n",
       "      <td>female</td>\n",
       "      <td>212</td>\n",
       "      <td>0</td>\n",
       "      <td>0</td>\n",
       "      <td>1</td>\n",
       "      <td>0</td>\n",
       "      <td>0</td>\n",
       "      <td>0</td>\n",
       "      <td>1</td>\n",
       "      <td>0</td>\n",
       "    </tr>\n",
       "    <tr>\n",
       "      <th>3</th>\n",
       "      <td>1979672</td>\n",
       "      <td>21</td>\n",
       "      <td>1</td>\n",
       "      <td>1992</td>\n",
       "      <td>1</td>\n",
       "      <td>male</td>\n",
       "      <td>328</td>\n",
       "      <td>0</td>\n",
       "      <td>0</td>\n",
       "      <td>1</td>\n",
       "      <td>0</td>\n",
       "      <td>0</td>\n",
       "      <td>0</td>\n",
       "      <td>1</td>\n",
       "      <td>0</td>\n",
       "    </tr>\n",
       "    <tr>\n",
       "      <th>4</th>\n",
       "      <td>1344831</td>\n",
       "      <td>23</td>\n",
       "      <td>10</td>\n",
       "      <td>1990</td>\n",
       "      <td>2</td>\n",
       "      <td>male</td>\n",
       "      <td>580</td>\n",
       "      <td>0</td>\n",
       "      <td>0</td>\n",
       "      <td>1</td>\n",
       "      <td>0</td>\n",
       "      <td>0</td>\n",
       "      <td>0</td>\n",
       "      <td>1</td>\n",
       "      <td>0</td>\n",
       "    </tr>\n",
       "  </tbody>\n",
       "</table>\n",
       "</div>"
      ],
      "text/plain": [
       "    userid  age  dob_day  dob_year  dob_month  gender  tenure  friend_count  \\\n",
       "0  1098638   13        2      2000          2    male       0             0   \n",
       "1  2063204   14       22      1999          1    male     104             0   \n",
       "2  1579594   19       18      1994         10  female     212             0   \n",
       "3  1979672   21        1      1992          1    male     328             0   \n",
       "4  1344831   23       10      1990          2    male     580             0   \n",
       "\n",
       "   friendships_initiated  likes  likes_received  mobile_likes  \\\n",
       "0                      0      1               0             0   \n",
       "1                      0      1               0             0   \n",
       "2                      0      1               0             0   \n",
       "3                      0      1               0             0   \n",
       "4                      0      1               0             0   \n",
       "\n",
       "   mobile_likes_received  www_likes  www_likes_received  \n",
       "0                      0          1                   0  \n",
       "1                      0          1                   0  \n",
       "2                      0          1                   0  \n",
       "3                      0          1                   0  \n",
       "4                      0          1                   0  "
      ]
     },
     "execution_count": 1024,
     "metadata": {},
     "output_type": "execute_result"
    }
   ],
   "source": [
    "df_likes = pd.read_csv('Likes.csv')\n",
    "df_likes.head()"
   ]
  },
  {
   "cell_type": "code",
   "execution_count": 1025,
   "metadata": {},
   "outputs": [
    {
     "data": {
      "text/plain": [
       "(2104, 15)"
      ]
     },
     "execution_count": 1025,
     "metadata": {},
     "output_type": "execute_result"
    }
   ],
   "source": [
    "df_likes.shape"
   ]
  },
  {
   "cell_type": "code",
   "execution_count": 1026,
   "metadata": {
    "scrolled": false
   },
   "outputs": [
    {
     "name": "stdout",
     "output_type": "stream",
     "text": [
      "<class 'pandas.core.frame.DataFrame'>\n",
      "RangeIndex: 2104 entries, 0 to 2103\n",
      "Data columns (total 15 columns):\n",
      " #   Column                 Non-Null Count  Dtype \n",
      "---  ------                 --------------  ----- \n",
      " 0   userid                 2104 non-null   int64 \n",
      " 1   age                    2104 non-null   int64 \n",
      " 2   dob_day                2104 non-null   int64 \n",
      " 3   dob_year               2104 non-null   int64 \n",
      " 4   dob_month              2104 non-null   int64 \n",
      " 5   gender                 2102 non-null   object\n",
      " 6   tenure                 2104 non-null   int64 \n",
      " 7   friend_count           2104 non-null   int64 \n",
      " 8   friendships_initiated  2104 non-null   int64 \n",
      " 9   likes                  2104 non-null   int64 \n",
      " 10  likes_received         2104 non-null   int64 \n",
      " 11  mobile_likes           2104 non-null   int64 \n",
      " 12  mobile_likes_received  2104 non-null   int64 \n",
      " 13  www_likes              2104 non-null   int64 \n",
      " 14  www_likes_received     2104 non-null   int64 \n",
      "dtypes: int64(14), object(1)\n",
      "memory usage: 246.7+ KB\n"
     ]
    }
   ],
   "source": [
    "df_likes.info()"
   ]
  },
  {
   "cell_type": "code",
   "execution_count": 1027,
   "metadata": {
    "scrolled": true
   },
   "outputs": [
    {
     "data": {
      "text/plain": [
       "userid                   0\n",
       "age                      0\n",
       "dob_day                  0\n",
       "dob_year                 0\n",
       "dob_month                0\n",
       "gender                   2\n",
       "tenure                   0\n",
       "friend_count             0\n",
       "friendships_initiated    0\n",
       "likes                    0\n",
       "likes_received           0\n",
       "mobile_likes             0\n",
       "mobile_likes_received    0\n",
       "www_likes                0\n",
       "www_likes_received       0\n",
       "dtype: int64"
      ]
     },
     "execution_count": 1027,
     "metadata": {},
     "output_type": "execute_result"
    }
   ],
   "source": [
    "df_likes.isnull().sum()"
   ]
  },
  {
   "cell_type": "code",
   "execution_count": 1028,
   "metadata": {},
   "outputs": [
    {
     "data": {
      "text/plain": [
       "0    2000\n",
       "1    1999\n",
       "2    1994\n",
       "3    1992\n",
       "4    1990\n",
       "Name: dob_year, dtype: int64"
      ]
     },
     "execution_count": 1028,
     "metadata": {},
     "output_type": "execute_result"
    }
   ],
   "source": [
    "df_likes['dob_year'].head()"
   ]
  },
  {
   "cell_type": "code",
   "execution_count": 1029,
   "metadata": {},
   "outputs": [],
   "source": [
    "#df_likes[\"dob_year\"] = pd.to_datetime(df_likes[\"dob_year\"], format='%Y')\n",
    "#df_likes[\"dob_month\"] = pd.to_datetime(df_likes[\"dob_month\"], format = '%m')\n",
    "#df_likes[\"dob_day\"] = pd.to_datetime(df_likes[\"dob_day\"], format = '%d')"
   ]
  },
  {
   "cell_type": "code",
   "execution_count": 1030,
   "metadata": {
    "scrolled": true
   },
   "outputs": [],
   "source": [
    "#df_likes['dob_year'] = pd.to_datetime(df_likes['dob_year'].astype(str), format='%Y')\n",
    "#df_likes['dob_year'] = pd.DatetimeIndex(df_likes['dob_year']).year"
   ]
  },
  {
   "cell_type": "code",
   "execution_count": 1031,
   "metadata": {},
   "outputs": [],
   "source": [
    "#df_likes[\"dob_year\"] = df_likes[\"dob_year\"].astype('object')\n",
    "#df_likes[\"dob_month\"] = df_likes[\"dob_year\"].astype('object')\n",
    "#df_likes[\"dob_day\"] = df_likes[\"dob_year\"].astype('object')"
   ]
  },
  {
   "cell_type": "code",
   "execution_count": 1032,
   "metadata": {},
   "outputs": [
    {
     "data": {
      "text/html": [
       "<div>\n",
       "<style scoped>\n",
       "    .dataframe tbody tr th:only-of-type {\n",
       "        vertical-align: middle;\n",
       "    }\n",
       "\n",
       "    .dataframe tbody tr th {\n",
       "        vertical-align: top;\n",
       "    }\n",
       "\n",
       "    .dataframe thead th {\n",
       "        text-align: right;\n",
       "    }\n",
       "</style>\n",
       "<table border=\"1\" class=\"dataframe\">\n",
       "  <thead>\n",
       "    <tr style=\"text-align: right;\">\n",
       "      <th></th>\n",
       "      <th>userid</th>\n",
       "      <th>age</th>\n",
       "      <th>dob_day</th>\n",
       "      <th>dob_year</th>\n",
       "      <th>dob_month</th>\n",
       "      <th>gender</th>\n",
       "      <th>tenure</th>\n",
       "      <th>friend_count</th>\n",
       "      <th>friendships_initiated</th>\n",
       "      <th>likes</th>\n",
       "      <th>likes_received</th>\n",
       "      <th>mobile_likes</th>\n",
       "      <th>mobile_likes_received</th>\n",
       "      <th>www_likes</th>\n",
       "      <th>www_likes_received</th>\n",
       "    </tr>\n",
       "  </thead>\n",
       "  <tbody>\n",
       "    <tr>\n",
       "      <th>0</th>\n",
       "      <td>1098638</td>\n",
       "      <td>13</td>\n",
       "      <td>2</td>\n",
       "      <td>2000</td>\n",
       "      <td>2</td>\n",
       "      <td>male</td>\n",
       "      <td>0</td>\n",
       "      <td>0</td>\n",
       "      <td>0</td>\n",
       "      <td>1</td>\n",
       "      <td>0</td>\n",
       "      <td>0</td>\n",
       "      <td>0</td>\n",
       "      <td>1</td>\n",
       "      <td>0</td>\n",
       "    </tr>\n",
       "    <tr>\n",
       "      <th>1</th>\n",
       "      <td>2063204</td>\n",
       "      <td>14</td>\n",
       "      <td>22</td>\n",
       "      <td>1999</td>\n",
       "      <td>1</td>\n",
       "      <td>male</td>\n",
       "      <td>104</td>\n",
       "      <td>0</td>\n",
       "      <td>0</td>\n",
       "      <td>1</td>\n",
       "      <td>0</td>\n",
       "      <td>0</td>\n",
       "      <td>0</td>\n",
       "      <td>1</td>\n",
       "      <td>0</td>\n",
       "    </tr>\n",
       "    <tr>\n",
       "      <th>2</th>\n",
       "      <td>1579594</td>\n",
       "      <td>19</td>\n",
       "      <td>18</td>\n",
       "      <td>1994</td>\n",
       "      <td>10</td>\n",
       "      <td>female</td>\n",
       "      <td>212</td>\n",
       "      <td>0</td>\n",
       "      <td>0</td>\n",
       "      <td>1</td>\n",
       "      <td>0</td>\n",
       "      <td>0</td>\n",
       "      <td>0</td>\n",
       "      <td>1</td>\n",
       "      <td>0</td>\n",
       "    </tr>\n",
       "    <tr>\n",
       "      <th>3</th>\n",
       "      <td>1979672</td>\n",
       "      <td>21</td>\n",
       "      <td>1</td>\n",
       "      <td>1992</td>\n",
       "      <td>1</td>\n",
       "      <td>male</td>\n",
       "      <td>328</td>\n",
       "      <td>0</td>\n",
       "      <td>0</td>\n",
       "      <td>1</td>\n",
       "      <td>0</td>\n",
       "      <td>0</td>\n",
       "      <td>0</td>\n",
       "      <td>1</td>\n",
       "      <td>0</td>\n",
       "    </tr>\n",
       "    <tr>\n",
       "      <th>4</th>\n",
       "      <td>1344831</td>\n",
       "      <td>23</td>\n",
       "      <td>10</td>\n",
       "      <td>1990</td>\n",
       "      <td>2</td>\n",
       "      <td>male</td>\n",
       "      <td>580</td>\n",
       "      <td>0</td>\n",
       "      <td>0</td>\n",
       "      <td>1</td>\n",
       "      <td>0</td>\n",
       "      <td>0</td>\n",
       "      <td>0</td>\n",
       "      <td>1</td>\n",
       "      <td>0</td>\n",
       "    </tr>\n",
       "  </tbody>\n",
       "</table>\n",
       "</div>"
      ],
      "text/plain": [
       "    userid  age  dob_day  dob_year  dob_month  gender  tenure  friend_count  \\\n",
       "0  1098638   13        2      2000          2    male       0             0   \n",
       "1  2063204   14       22      1999          1    male     104             0   \n",
       "2  1579594   19       18      1994         10  female     212             0   \n",
       "3  1979672   21        1      1992          1    male     328             0   \n",
       "4  1344831   23       10      1990          2    male     580             0   \n",
       "\n",
       "   friendships_initiated  likes  likes_received  mobile_likes  \\\n",
       "0                      0      1               0             0   \n",
       "1                      0      1               0             0   \n",
       "2                      0      1               0             0   \n",
       "3                      0      1               0             0   \n",
       "4                      0      1               0             0   \n",
       "\n",
       "   mobile_likes_received  www_likes  www_likes_received  \n",
       "0                      0          1                   0  \n",
       "1                      0          1                   0  \n",
       "2                      0          1                   0  \n",
       "3                      0          1                   0  \n",
       "4                      0          1                   0  "
      ]
     },
     "execution_count": 1032,
     "metadata": {},
     "output_type": "execute_result"
    }
   ],
   "source": [
    "df_likes.head()"
   ]
  },
  {
   "cell_type": "code",
   "execution_count": 1033,
   "metadata": {
    "scrolled": true
   },
   "outputs": [
    {
     "data": {
      "text/plain": [
       "male      1400\n",
       "female     702\n",
       "NaN          2\n",
       "Name: gender, dtype: int64"
      ]
     },
     "execution_count": 1033,
     "metadata": {},
     "output_type": "execute_result"
    }
   ],
   "source": [
    "df_likes['gender'].value_counts(dropna = False)"
   ]
  },
  {
   "cell_type": "code",
   "execution_count": 1034,
   "metadata": {
    "scrolled": true
   },
   "outputs": [
    {
     "data": {
      "text/html": [
       "<div>\n",
       "<style scoped>\n",
       "    .dataframe tbody tr th:only-of-type {\n",
       "        vertical-align: middle;\n",
       "    }\n",
       "\n",
       "    .dataframe tbody tr th {\n",
       "        vertical-align: top;\n",
       "    }\n",
       "\n",
       "    .dataframe thead th {\n",
       "        text-align: right;\n",
       "    }\n",
       "</style>\n",
       "<table border=\"1\" class=\"dataframe\">\n",
       "  <thead>\n",
       "    <tr style=\"text-align: right;\">\n",
       "      <th></th>\n",
       "      <th>userid</th>\n",
       "      <th>age</th>\n",
       "      <th>dob_day</th>\n",
       "      <th>dob_year</th>\n",
       "      <th>dob_month</th>\n",
       "      <th>gender</th>\n",
       "      <th>tenure</th>\n",
       "      <th>friend_count</th>\n",
       "      <th>friendships_initiated</th>\n",
       "      <th>likes</th>\n",
       "      <th>likes_received</th>\n",
       "      <th>mobile_likes</th>\n",
       "      <th>mobile_likes_received</th>\n",
       "      <th>www_likes</th>\n",
       "      <th>www_likes_received</th>\n",
       "    </tr>\n",
       "  </thead>\n",
       "  <tbody>\n",
       "    <tr>\n",
       "      <th>355</th>\n",
       "      <td>1781137</td>\n",
       "      <td>25</td>\n",
       "      <td>3</td>\n",
       "      <td>1988</td>\n",
       "      <td>1</td>\n",
       "      <td>NaN</td>\n",
       "      <td>203</td>\n",
       "      <td>1</td>\n",
       "      <td>1</td>\n",
       "      <td>1</td>\n",
       "      <td>0</td>\n",
       "      <td>1</td>\n",
       "      <td>0</td>\n",
       "      <td>0</td>\n",
       "      <td>0</td>\n",
       "    </tr>\n",
       "    <tr>\n",
       "      <th>1948</th>\n",
       "      <td>1137054</td>\n",
       "      <td>59</td>\n",
       "      <td>18</td>\n",
       "      <td>1954</td>\n",
       "      <td>2</td>\n",
       "      <td>NaN</td>\n",
       "      <td>2076</td>\n",
       "      <td>4</td>\n",
       "      <td>0</td>\n",
       "      <td>23</td>\n",
       "      <td>5</td>\n",
       "      <td>23</td>\n",
       "      <td>4</td>\n",
       "      <td>0</td>\n",
       "      <td>1</td>\n",
       "    </tr>\n",
       "  </tbody>\n",
       "</table>\n",
       "</div>"
      ],
      "text/plain": [
       "       userid  age  dob_day  dob_year  dob_month gender  tenure  friend_count  \\\n",
       "355   1781137   25        3      1988          1    NaN     203             1   \n",
       "1948  1137054   59       18      1954          2    NaN    2076             4   \n",
       "\n",
       "      friendships_initiated  likes  likes_received  mobile_likes  \\\n",
       "355                       1      1               0             1   \n",
       "1948                      0     23               5            23   \n",
       "\n",
       "      mobile_likes_received  www_likes  www_likes_received  \n",
       "355                       0          0                   0  \n",
       "1948                      4          0                   1  "
      ]
     },
     "execution_count": 1034,
     "metadata": {},
     "output_type": "execute_result"
    }
   ],
   "source": [
    "# analyzing the NaN value in gender column\n",
    "df_likes[(df_likes['gender'] != 'male') & (df_likes['gender'] != 'female')]"
   ]
  },
  {
   "cell_type": "code",
   "execution_count": 1035,
   "metadata": {
    "scrolled": false
   },
   "outputs": [
    {
     "data": {
      "text/html": [
       "<div>\n",
       "<style scoped>\n",
       "    .dataframe tbody tr th:only-of-type {\n",
       "        vertical-align: middle;\n",
       "    }\n",
       "\n",
       "    .dataframe tbody tr th {\n",
       "        vertical-align: top;\n",
       "    }\n",
       "\n",
       "    .dataframe thead th {\n",
       "        text-align: right;\n",
       "    }\n",
       "</style>\n",
       "<table border=\"1\" class=\"dataframe\">\n",
       "  <thead>\n",
       "    <tr style=\"text-align: right;\">\n",
       "      <th></th>\n",
       "      <th>age</th>\n",
       "      <th>dob_day</th>\n",
       "      <th>dob_year</th>\n",
       "      <th>dob_month</th>\n",
       "      <th>tenure</th>\n",
       "      <th>friend_count</th>\n",
       "      <th>friendships_initiated</th>\n",
       "      <th>likes</th>\n",
       "      <th>likes_received</th>\n",
       "      <th>mobile_likes</th>\n",
       "      <th>mobile_likes_received</th>\n",
       "      <th>www_likes</th>\n",
       "      <th>www_likes_received</th>\n",
       "    </tr>\n",
       "    <tr>\n",
       "      <th>gender</th>\n",
       "      <th></th>\n",
       "      <th></th>\n",
       "      <th></th>\n",
       "      <th></th>\n",
       "      <th></th>\n",
       "      <th></th>\n",
       "      <th></th>\n",
       "      <th></th>\n",
       "      <th></th>\n",
       "      <th></th>\n",
       "      <th></th>\n",
       "      <th></th>\n",
       "      <th></th>\n",
       "    </tr>\n",
       "  </thead>\n",
       "  <tbody>\n",
       "    <tr>\n",
       "      <th>female</th>\n",
       "      <td>23549</td>\n",
       "      <td>9425</td>\n",
       "      <td>1389577</td>\n",
       "      <td>4231</td>\n",
       "      <td>203835</td>\n",
       "      <td>1444</td>\n",
       "      <td>1000</td>\n",
       "      <td>30302</td>\n",
       "      <td>8183</td>\n",
       "      <td>21794</td>\n",
       "      <td>4480</td>\n",
       "      <td>8508</td>\n",
       "      <td>3703</td>\n",
       "    </tr>\n",
       "    <tr>\n",
       "      <th>male</th>\n",
       "      <td>46698</td>\n",
       "      <td>18211</td>\n",
       "      <td>2771502</td>\n",
       "      <td>8143</td>\n",
       "      <td>371857</td>\n",
       "      <td>2843</td>\n",
       "      <td>2057</td>\n",
       "      <td>27859</td>\n",
       "      <td>8507</td>\n",
       "      <td>15373</td>\n",
       "      <td>4124</td>\n",
       "      <td>12486</td>\n",
       "      <td>4383</td>\n",
       "    </tr>\n",
       "  </tbody>\n",
       "</table>\n",
       "</div>"
      ],
      "text/plain": [
       "          age  dob_day  dob_year  dob_month  tenure  friend_count  \\\n",
       "gender                                                              \n",
       "female  23549     9425   1389577       4231  203835          1444   \n",
       "male    46698    18211   2771502       8143  371857          2843   \n",
       "\n",
       "        friendships_initiated  likes  likes_received  mobile_likes  \\\n",
       "gender                                                               \n",
       "female                   1000  30302            8183         21794   \n",
       "male                     2057  27859            8507         15373   \n",
       "\n",
       "        mobile_likes_received  www_likes  www_likes_received  \n",
       "gender                                                        \n",
       "female                   4480       8508                3703  \n",
       "male                     4124      12486                4383  "
      ]
     },
     "execution_count": 1035,
     "metadata": {},
     "output_type": "execute_result"
    }
   ],
   "source": [
    "# viewing gender column with null values\n",
    "df_likes.groupby('gender').sum().iloc[:,1:]"
   ]
  },
  {
   "cell_type": "code",
   "execution_count": 1036,
   "metadata": {},
   "outputs": [],
   "source": [
    "df_likes['gender'] = df_likes['gender'].replace(np.NaN,df_likes['gender'].mode()[0])"
   ]
  },
  {
   "cell_type": "code",
   "execution_count": 1037,
   "metadata": {
    "scrolled": true
   },
   "outputs": [
    {
     "data": {
      "text/plain": [
       "male      1402\n",
       "female     702\n",
       "Name: gender, dtype: int64"
      ]
     },
     "execution_count": 1037,
     "metadata": {},
     "output_type": "execute_result"
    }
   ],
   "source": [
    "df_likes['gender'].value_counts(dropna=True)"
   ]
  },
  {
   "cell_type": "code",
   "execution_count": 1038,
   "metadata": {},
   "outputs": [],
   "source": [
    "df_likes_numeric = df_likes.select_dtypes(np.number)"
   ]
  },
  {
   "cell_type": "code",
   "execution_count": 1039,
   "metadata": {
    "scrolled": true
   },
   "outputs": [
    {
     "data": {
      "text/html": [
       "<div>\n",
       "<style scoped>\n",
       "    .dataframe tbody tr th:only-of-type {\n",
       "        vertical-align: middle;\n",
       "    }\n",
       "\n",
       "    .dataframe tbody tr th {\n",
       "        vertical-align: top;\n",
       "    }\n",
       "\n",
       "    .dataframe thead th {\n",
       "        text-align: right;\n",
       "    }\n",
       "</style>\n",
       "<table border=\"1\" class=\"dataframe\">\n",
       "  <thead>\n",
       "    <tr style=\"text-align: right;\">\n",
       "      <th></th>\n",
       "      <th>userid</th>\n",
       "      <th>age</th>\n",
       "      <th>dob_day</th>\n",
       "      <th>dob_year</th>\n",
       "      <th>dob_month</th>\n",
       "      <th>tenure</th>\n",
       "      <th>friend_count</th>\n",
       "      <th>friendships_initiated</th>\n",
       "      <th>likes</th>\n",
       "      <th>likes_received</th>\n",
       "      <th>mobile_likes</th>\n",
       "      <th>mobile_likes_received</th>\n",
       "      <th>www_likes</th>\n",
       "      <th>www_likes_received</th>\n",
       "    </tr>\n",
       "  </thead>\n",
       "  <tbody>\n",
       "    <tr>\n",
       "      <th>0</th>\n",
       "      <td>1098638</td>\n",
       "      <td>13</td>\n",
       "      <td>2</td>\n",
       "      <td>2000</td>\n",
       "      <td>2</td>\n",
       "      <td>0</td>\n",
       "      <td>0</td>\n",
       "      <td>0</td>\n",
       "      <td>1</td>\n",
       "      <td>0</td>\n",
       "      <td>0</td>\n",
       "      <td>0</td>\n",
       "      <td>1</td>\n",
       "      <td>0</td>\n",
       "    </tr>\n",
       "    <tr>\n",
       "      <th>1</th>\n",
       "      <td>2063204</td>\n",
       "      <td>14</td>\n",
       "      <td>22</td>\n",
       "      <td>1999</td>\n",
       "      <td>1</td>\n",
       "      <td>104</td>\n",
       "      <td>0</td>\n",
       "      <td>0</td>\n",
       "      <td>1</td>\n",
       "      <td>0</td>\n",
       "      <td>0</td>\n",
       "      <td>0</td>\n",
       "      <td>1</td>\n",
       "      <td>0</td>\n",
       "    </tr>\n",
       "    <tr>\n",
       "      <th>2</th>\n",
       "      <td>1579594</td>\n",
       "      <td>19</td>\n",
       "      <td>18</td>\n",
       "      <td>1994</td>\n",
       "      <td>10</td>\n",
       "      <td>212</td>\n",
       "      <td>0</td>\n",
       "      <td>0</td>\n",
       "      <td>1</td>\n",
       "      <td>0</td>\n",
       "      <td>0</td>\n",
       "      <td>0</td>\n",
       "      <td>1</td>\n",
       "      <td>0</td>\n",
       "    </tr>\n",
       "    <tr>\n",
       "      <th>3</th>\n",
       "      <td>1979672</td>\n",
       "      <td>21</td>\n",
       "      <td>1</td>\n",
       "      <td>1992</td>\n",
       "      <td>1</td>\n",
       "      <td>328</td>\n",
       "      <td>0</td>\n",
       "      <td>0</td>\n",
       "      <td>1</td>\n",
       "      <td>0</td>\n",
       "      <td>0</td>\n",
       "      <td>0</td>\n",
       "      <td>1</td>\n",
       "      <td>0</td>\n",
       "    </tr>\n",
       "    <tr>\n",
       "      <th>4</th>\n",
       "      <td>1344831</td>\n",
       "      <td>23</td>\n",
       "      <td>10</td>\n",
       "      <td>1990</td>\n",
       "      <td>2</td>\n",
       "      <td>580</td>\n",
       "      <td>0</td>\n",
       "      <td>0</td>\n",
       "      <td>1</td>\n",
       "      <td>0</td>\n",
       "      <td>0</td>\n",
       "      <td>0</td>\n",
       "      <td>1</td>\n",
       "      <td>0</td>\n",
       "    </tr>\n",
       "  </tbody>\n",
       "</table>\n",
       "</div>"
      ],
      "text/plain": [
       "    userid  age  dob_day  dob_year  dob_month  tenure  friend_count  \\\n",
       "0  1098638   13        2      2000          2       0             0   \n",
       "1  2063204   14       22      1999          1     104             0   \n",
       "2  1579594   19       18      1994         10     212             0   \n",
       "3  1979672   21        1      1992          1     328             0   \n",
       "4  1344831   23       10      1990          2     580             0   \n",
       "\n",
       "   friendships_initiated  likes  likes_received  mobile_likes  \\\n",
       "0                      0      1               0             0   \n",
       "1                      0      1               0             0   \n",
       "2                      0      1               0             0   \n",
       "3                      0      1               0             0   \n",
       "4                      0      1               0             0   \n",
       "\n",
       "   mobile_likes_received  www_likes  www_likes_received  \n",
       "0                      0          1                   0  \n",
       "1                      0          1                   0  \n",
       "2                      0          1                   0  \n",
       "3                      0          1                   0  \n",
       "4                      0          1                   0  "
      ]
     },
     "execution_count": 1039,
     "metadata": {},
     "output_type": "execute_result"
    }
   ],
   "source": [
    "df_likes_numeric.head()"
   ]
  },
  {
   "cell_type": "code",
   "execution_count": 1040,
   "metadata": {},
   "outputs": [],
   "source": [
    "df_likes_categorical = df_likes.select_dtypes(np.object_)"
   ]
  },
  {
   "cell_type": "code",
   "execution_count": 1041,
   "metadata": {},
   "outputs": [
    {
     "data": {
      "text/html": [
       "<div>\n",
       "<style scoped>\n",
       "    .dataframe tbody tr th:only-of-type {\n",
       "        vertical-align: middle;\n",
       "    }\n",
       "\n",
       "    .dataframe tbody tr th {\n",
       "        vertical-align: top;\n",
       "    }\n",
       "\n",
       "    .dataframe thead th {\n",
       "        text-align: right;\n",
       "    }\n",
       "</style>\n",
       "<table border=\"1\" class=\"dataframe\">\n",
       "  <thead>\n",
       "    <tr style=\"text-align: right;\">\n",
       "      <th></th>\n",
       "      <th>gender</th>\n",
       "    </tr>\n",
       "  </thead>\n",
       "  <tbody>\n",
       "    <tr>\n",
       "      <th>0</th>\n",
       "      <td>male</td>\n",
       "    </tr>\n",
       "    <tr>\n",
       "      <th>1</th>\n",
       "      <td>male</td>\n",
       "    </tr>\n",
       "    <tr>\n",
       "      <th>2</th>\n",
       "      <td>female</td>\n",
       "    </tr>\n",
       "    <tr>\n",
       "      <th>3</th>\n",
       "      <td>male</td>\n",
       "    </tr>\n",
       "    <tr>\n",
       "      <th>4</th>\n",
       "      <td>male</td>\n",
       "    </tr>\n",
       "  </tbody>\n",
       "</table>\n",
       "</div>"
      ],
      "text/plain": [
       "   gender\n",
       "0    male\n",
       "1    male\n",
       "2  female\n",
       "3    male\n",
       "4    male"
      ]
     },
     "execution_count": 1041,
     "metadata": {},
     "output_type": "execute_result"
    }
   ],
   "source": [
    "df_likes_categorical.head()"
   ]
  },
  {
   "cell_type": "markdown",
   "metadata": {},
   "source": [
    "<h2 class=\"list-group-item list-group-item-action active\" >2. Basic EDA to understand dataset </h2>\n",
    "\n",
    ">### 1.  Select more than five columns for EDA\n",
    "\n",
    " Step1: Each plot must Use the subplots \n",
    " \n",
    "             Plot 1: Histogram or bar, line and use suitable plots\n",
    "             \n",
    "             Plot2: Box plot \n",
    "             \n",
    " Step2: Write the inference is it data skewed or not\n",
    "\n",
    " Step3: Write the inference is it data having  outliers  or not\n",
    "\n",
    "\n",
    "\n",
    ">### 2.  Plot the heat map \n",
    "             \n",
    "  Step1: Write the inference on the dependent variable and independent variable having the most (Positive and Negative) correlation columns \n",
    "\n",
    "\n",
    "  Step2: Write the inference on the correlation among independent variables"
   ]
  },
  {
   "cell_type": "code",
   "execution_count": 1042,
   "metadata": {
    "scrolled": true
   },
   "outputs": [
    {
     "data": {
      "image/png": "[encoded data removed]",
      "text/plain": [
       "<Figure size 1080x576 with 16 Axes>"
      ]
     },
     "metadata": {},
     "output_type": "display_data"
    }
   ],
   "source": [
    "#1 \n",
    "df_likes_numeric.hist(bins=10)\n",
    "plt.tight_layout()\n",
    "plt.show()"
   ]
  },
  {
   "cell_type": "code",
   "execution_count": 1043,
   "metadata": {},
   "outputs": [
    {
     "data": {
      "text/plain": [
       "userid                    0.029007\n",
       "age                       1.628574\n",
       "dob_day                   0.241908\n",
       "dob_year                 -1.628574\n",
       "dob_month                 0.160282\n",
       "tenure                    2.083550\n",
       "friend_count              0.339367\n",
       "friendships_initiated     0.694958\n",
       "likes                    24.959317\n",
       "likes_received           18.418021\n",
       "mobile_likes             28.564966\n",
       "mobile_likes_received    18.566706\n",
       "www_likes                16.941493\n",
       "www_likes_received       17.059494\n",
       "dtype: float64"
      ]
     },
     "execution_count": 1043,
     "metadata": {},
     "output_type": "execute_result"
    }
   ],
   "source": [
    "df_likes_numeric.skew()"
   ]
  },
  {
   "cell_type": "code",
   "execution_count": 1044,
   "metadata": {},
   "outputs": [],
   "source": [
    "# only friend_count and friendships_initiated are almost normal distributed\n",
    "# age and tenure are slightly right/positively skewed \n",
    "# Rest of columns are heavily skewed right/positively skewed specially likes and mobile_likes column"
   ]
  },
  {
   "cell_type": "code",
   "execution_count": 1045,
   "metadata": {
    "scrolled": true
   },
   "outputs": [
    {
     "data": {
      "image/png": "[encoded data removed]",
      "text/plain": [
       "<Figure size 1080x576 with 1 Axes>"
      ]
     },
     "metadata": {},
     "output_type": "display_data"
    }
   ],
   "source": [
    "sns.countplot(data=df_likes_categorical,x='gender')\n",
    "plt.title(\"Count Plot for Gender\")\n",
    "plt.text(x=-0.05,y=700,s=\"\"+str(df_likes_categorical['gender'].value_counts()[0]))\n",
    "plt.text(x= 1,y=350,s=\"\"+str(df_likes_categorical['gender'].value_counts()[1]))\n",
    "plt.xlabel('Gender')\n",
    "plt.ylabel('Count')\n",
    "plt.show()"
   ]
  },
  {
   "cell_type": "code",
   "execution_count": 1046,
   "metadata": {},
   "outputs": [],
   "source": [
    "# There are 1402 male users and while there are 702 female users in the dataset"
   ]
  },
  {
   "cell_type": "code",
   "execution_count": 1047,
   "metadata": {},
   "outputs": [
    {
     "data": {
      "text/plain": [
       "'\"plt.figure(figsize=(30,50))\\nsns.countplot(data=df_likes_categorical,x=\\'dob_year\\')\\nplt.title(\"Count Plot for Dob_year of Person\",fontsize=50)\\nplt.xlabel(\\'Dob_year\\',fontsize=30)\\nplt.ylabel(\\'Count\\',fontsize=30)\\nplt.xticks(rotation=\\'vertical\\')\\nplt.show()\\n'"
      ]
     },
     "execution_count": 1047,
     "metadata": {},
     "output_type": "execute_result"
    }
   ],
   "source": [
    "\"\"\"\"plt.figure(figsize=(30,50))\n",
    "sns.countplot(data=df_likes_categorical,x='dob_year')\n",
    "plt.title(\"Count Plot for Dob_year of Person\",fontsize=50)\n",
    "plt.xlabel('Dob_year',fontsize=30)\n",
    "plt.ylabel('Count',fontsize=30)\n",
    "plt.xticks(rotation='vertical')\n",
    "plt.show()\n",
    "\"\"\"\"\""
   ]
  },
  {
   "cell_type": "code",
   "execution_count": 1048,
   "metadata": {},
   "outputs": [],
   "source": [
    "# Number of people born in 1988 are higher than any other year "
   ]
  },
  {
   "cell_type": "code",
   "execution_count": 1049,
   "metadata": {},
   "outputs": [
    {
     "data": {
      "image/png": "[encoded data removed]",
      "text/plain": [
       "<Figure size 1440x2160 with 1 Axes>"
      ]
     },
     "metadata": {},
     "output_type": "display_data"
    }
   ],
   "source": [
    "ss  = StandardScaler()\n",
    "x_scaled = ss.fit_transform(df_likes_numeric.drop(['likes'],axis=1))\n",
    "df_numeric_scaled_numeric = pd.DataFrame(x_scaled,columns=df_likes_numeric.drop(['likes'],axis=1).columns)\n",
    "\n",
    "plt.figure(figsize=(20,30))\n",
    "sns.boxplot(data=df_numeric_scaled_numeric.iloc[:,1:])\n",
    "plt.title('Box Plot for All the Numerical columns')\n",
    "plt.show()"
   ]
  },
  {
   "cell_type": "code",
   "execution_count": 1050,
   "metadata": {},
   "outputs": [],
   "source": [
    "# All the column except friend_count have potential outliers \n",
    "# For mobile_likes the highest value is going upto 37\n",
    "# Most of outlier lies between the postive whisker and 5"
   ]
  },
  {
   "cell_type": "code",
   "execution_count": 1051,
   "metadata": {},
   "outputs": [
    {
     "data": {
      "text/html": [
       "<div>\n",
       "<style scoped>\n",
       "    .dataframe tbody tr th:only-of-type {\n",
       "        vertical-align: middle;\n",
       "    }\n",
       "\n",
       "    .dataframe tbody tr th {\n",
       "        vertical-align: top;\n",
       "    }\n",
       "\n",
       "    .dataframe thead th {\n",
       "        text-align: right;\n",
       "    }\n",
       "</style>\n",
       "<table border=\"1\" class=\"dataframe\">\n",
       "  <thead>\n",
       "    <tr style=\"text-align: right;\">\n",
       "      <th></th>\n",
       "      <th>userid</th>\n",
       "      <th>age</th>\n",
       "      <th>dob_day</th>\n",
       "      <th>dob_year</th>\n",
       "      <th>dob_month</th>\n",
       "      <th>tenure</th>\n",
       "      <th>friend_count</th>\n",
       "      <th>friendships_initiated</th>\n",
       "      <th>likes</th>\n",
       "      <th>likes_received</th>\n",
       "      <th>mobile_likes</th>\n",
       "      <th>mobile_likes_received</th>\n",
       "      <th>www_likes</th>\n",
       "      <th>www_likes_received</th>\n",
       "    </tr>\n",
       "  </thead>\n",
       "  <tbody>\n",
       "    <tr>\n",
       "      <th>count</th>\n",
       "      <td>2.104000e+03</td>\n",
       "      <td>2104.000000</td>\n",
       "      <td>2104.000000</td>\n",
       "      <td>2104.000000</td>\n",
       "      <td>2104.000000</td>\n",
       "      <td>2104.000000</td>\n",
       "      <td>2104.000000</td>\n",
       "      <td>2104.000000</td>\n",
       "      <td>2104.000000</td>\n",
       "      <td>2104.000000</td>\n",
       "      <td>2104.000000</td>\n",
       "      <td>2104.000000</td>\n",
       "      <td>2104.000000</td>\n",
       "      <td>2104.000000</td>\n",
       "    </tr>\n",
       "    <tr>\n",
       "      <th>mean</th>\n",
       "      <td>1.591984e+06</td>\n",
       "      <td>33.427281</td>\n",
       "      <td>13.144962</td>\n",
       "      <td>1979.572719</td>\n",
       "      <td>5.882605</td>\n",
       "      <td>274.701046</td>\n",
       "      <td>2.039924</td>\n",
       "      <td>1.453422</td>\n",
       "      <td>27.654468</td>\n",
       "      <td>7.934886</td>\n",
       "      <td>17.676331</td>\n",
       "      <td>4.091255</td>\n",
       "      <td>9.978137</td>\n",
       "      <td>3.843631</td>\n",
       "    </tr>\n",
       "    <tr>\n",
       "      <th>std</th>\n",
       "      <td>3.444627e+05</td>\n",
       "      <td>16.155287</td>\n",
       "      <td>9.242513</td>\n",
       "      <td>16.155287</td>\n",
       "      <td>3.698839</td>\n",
       "      <td>297.508563</td>\n",
       "      <td>1.397070</td>\n",
       "      <td>1.242272</td>\n",
       "      <td>169.454213</td>\n",
       "      <td>44.784909</td>\n",
       "      <td>155.249561</td>\n",
       "      <td>25.828290</td>\n",
       "      <td>53.746481</td>\n",
       "      <td>22.127323</td>\n",
       "    </tr>\n",
       "    <tr>\n",
       "      <th>min</th>\n",
       "      <td>1.000738e+06</td>\n",
       "      <td>13.000000</td>\n",
       "      <td>1.000000</td>\n",
       "      <td>1905.000000</td>\n",
       "      <td>1.000000</td>\n",
       "      <td>0.000000</td>\n",
       "      <td>0.000000</td>\n",
       "      <td>0.000000</td>\n",
       "      <td>1.000000</td>\n",
       "      <td>0.000000</td>\n",
       "      <td>0.000000</td>\n",
       "      <td>0.000000</td>\n",
       "      <td>0.000000</td>\n",
       "      <td>0.000000</td>\n",
       "    </tr>\n",
       "    <tr>\n",
       "      <th>25%</th>\n",
       "      <td>1.295331e+06</td>\n",
       "      <td>22.000000</td>\n",
       "      <td>4.750000</td>\n",
       "      <td>1971.750000</td>\n",
       "      <td>2.000000</td>\n",
       "      <td>54.000000</td>\n",
       "      <td>1.000000</td>\n",
       "      <td>1.000000</td>\n",
       "      <td>1.000000</td>\n",
       "      <td>0.000000</td>\n",
       "      <td>0.000000</td>\n",
       "      <td>0.000000</td>\n",
       "      <td>0.000000</td>\n",
       "      <td>0.000000</td>\n",
       "    </tr>\n",
       "    <tr>\n",
       "      <th>50%</th>\n",
       "      <td>1.584463e+06</td>\n",
       "      <td>28.000000</td>\n",
       "      <td>12.500000</td>\n",
       "      <td>1985.000000</td>\n",
       "      <td>6.000000</td>\n",
       "      <td>191.000000</td>\n",
       "      <td>2.000000</td>\n",
       "      <td>1.000000</td>\n",
       "      <td>4.000000</td>\n",
       "      <td>1.000000</td>\n",
       "      <td>1.000000</td>\n",
       "      <td>0.000000</td>\n",
       "      <td>0.000000</td>\n",
       "      <td>0.000000</td>\n",
       "    </tr>\n",
       "    <tr>\n",
       "      <th>75%</th>\n",
       "      <td>1.883310e+06</td>\n",
       "      <td>41.250000</td>\n",
       "      <td>21.000000</td>\n",
       "      <td>1991.000000</td>\n",
       "      <td>9.000000</td>\n",
       "      <td>387.000000</td>\n",
       "      <td>3.000000</td>\n",
       "      <td>2.000000</td>\n",
       "      <td>14.000000</td>\n",
       "      <td>3.000000</td>\n",
       "      <td>6.000000</td>\n",
       "      <td>2.000000</td>\n",
       "      <td>3.000000</td>\n",
       "      <td>1.000000</td>\n",
       "    </tr>\n",
       "    <tr>\n",
       "      <th>max</th>\n",
       "      <td>2.193411e+06</td>\n",
       "      <td>108.000000</td>\n",
       "      <td>31.000000</td>\n",
       "      <td>2000.000000</td>\n",
       "      <td>12.000000</td>\n",
       "      <td>2303.000000</td>\n",
       "      <td>5.000000</td>\n",
       "      <td>5.000000</td>\n",
       "      <td>5937.000000</td>\n",
       "      <td>1326.000000</td>\n",
       "      <td>5704.000000</td>\n",
       "      <td>679.000000</td>\n",
       "      <td>1580.000000</td>\n",
       "      <td>647.000000</td>\n",
       "    </tr>\n",
       "  </tbody>\n",
       "</table>\n",
       "</div>"
      ],
      "text/plain": [
       "             userid          age      dob_day     dob_year    dob_month  \\\n",
       "count  2.104000e+03  2104.000000  2104.000000  2104.000000  2104.000000   \n",
       "mean   1.591984e+06    33.427281    13.144962  1979.572719     5.882605   \n",
       "std    3.444627e+05    16.155287     9.242513    16.155287     3.698839   \n",
       "min    1.000738e+06    13.000000     1.000000  1905.000000     1.000000   \n",
       "25%    1.295331e+06    22.000000     4.750000  1971.750000     2.000000   \n",
       "50%    1.584463e+06    28.000000    12.500000  1985.000000     6.000000   \n",
       "75%    1.883310e+06    41.250000    21.000000  1991.000000     9.000000   \n",
       "max    2.193411e+06   108.000000    31.000000  2000.000000    12.000000   \n",
       "\n",
       "            tenure  friend_count  friendships_initiated        likes  \\\n",
       "count  2104.000000   2104.000000            2104.000000  2104.000000   \n",
       "mean    274.701046      2.039924               1.453422    27.654468   \n",
       "std     297.508563      1.397070               1.242272   169.454213   \n",
       "min       0.000000      0.000000               0.000000     1.000000   \n",
       "25%      54.000000      1.000000               1.000000     1.000000   \n",
       "50%     191.000000      2.000000               1.000000     4.000000   \n",
       "75%     387.000000      3.000000               2.000000    14.000000   \n",
       "max    2303.000000      5.000000               5.000000  5937.000000   \n",
       "\n",
       "       likes_received  mobile_likes  mobile_likes_received    www_likes  \\\n",
       "count     2104.000000   2104.000000            2104.000000  2104.000000   \n",
       "mean         7.934886     17.676331               4.091255     9.978137   \n",
       "std         44.784909    155.249561              25.828290    53.746481   \n",
       "min          0.000000      0.000000               0.000000     0.000000   \n",
       "25%          0.000000      0.000000               0.000000     0.000000   \n",
       "50%          1.000000      1.000000               0.000000     0.000000   \n",
       "75%          3.000000      6.000000               2.000000     3.000000   \n",
       "max       1326.000000   5704.000000             679.000000  1580.000000   \n",
       "\n",
       "       www_likes_received  \n",
       "count         2104.000000  \n",
       "mean             3.843631  \n",
       "std             22.127323  \n",
       "min              0.000000  \n",
       "25%              0.000000  \n",
       "50%              0.000000  \n",
       "75%              1.000000  \n",
       "max            647.000000  "
      ]
     },
     "execution_count": 1051,
     "metadata": {},
     "output_type": "execute_result"
    }
   ],
   "source": [
    "df_likes_numeric.describe()"
   ]
  },
  {
   "cell_type": "code",
   "execution_count": 1052,
   "metadata": {},
   "outputs": [
    {
     "data": {
      "text/html": [
       "<div>\n",
       "<style scoped>\n",
       "    .dataframe tbody tr th:only-of-type {\n",
       "        vertical-align: middle;\n",
       "    }\n",
       "\n",
       "    .dataframe tbody tr th {\n",
       "        vertical-align: top;\n",
       "    }\n",
       "\n",
       "    .dataframe thead th {\n",
       "        text-align: right;\n",
       "    }\n",
       "</style>\n",
       "<table border=\"1\" class=\"dataframe\">\n",
       "  <thead>\n",
       "    <tr style=\"text-align: right;\">\n",
       "      <th></th>\n",
       "      <th>userid</th>\n",
       "      <th>age</th>\n",
       "      <th>dob_day</th>\n",
       "      <th>dob_year</th>\n",
       "      <th>dob_month</th>\n",
       "      <th>tenure</th>\n",
       "      <th>friend_count</th>\n",
       "      <th>friendships_initiated</th>\n",
       "      <th>likes_received</th>\n",
       "      <th>mobile_likes</th>\n",
       "      <th>mobile_likes_received</th>\n",
       "      <th>www_likes</th>\n",
       "      <th>www_likes_received</th>\n",
       "    </tr>\n",
       "  </thead>\n",
       "  <tbody>\n",
       "    <tr>\n",
       "      <th>count</th>\n",
       "      <td>2.104000e+03</td>\n",
       "      <td>2.104000e+03</td>\n",
       "      <td>2.104000e+03</td>\n",
       "      <td>2.104000e+03</td>\n",
       "      <td>2.104000e+03</td>\n",
       "      <td>2.104000e+03</td>\n",
       "      <td>2.104000e+03</td>\n",
       "      <td>2.104000e+03</td>\n",
       "      <td>2.104000e+03</td>\n",
       "      <td>2.104000e+03</td>\n",
       "      <td>2.104000e+03</td>\n",
       "      <td>2.104000e+03</td>\n",
       "      <td>2.104000e+03</td>\n",
       "    </tr>\n",
       "    <tr>\n",
       "      <th>mean</th>\n",
       "      <td>3.015649e-16</td>\n",
       "      <td>1.269316e-16</td>\n",
       "      <td>-8.073390e-17</td>\n",
       "      <td>-3.283152e-15</td>\n",
       "      <td>-7.577378e-17</td>\n",
       "      <td>1.894872e-16</td>\n",
       "      <td>1.004351e-14</td>\n",
       "      <td>-1.115415e-14</td>\n",
       "      <td>-4.111888e-17</td>\n",
       "      <td>-3.999758e-17</td>\n",
       "      <td>-3.843963e-16</td>\n",
       "      <td>-4.366490e-17</td>\n",
       "      <td>3.833409e-16</td>\n",
       "    </tr>\n",
       "    <tr>\n",
       "      <th>std</th>\n",
       "      <td>1.000238e+00</td>\n",
       "      <td>1.000238e+00</td>\n",
       "      <td>1.000238e+00</td>\n",
       "      <td>1.000238e+00</td>\n",
       "      <td>1.000238e+00</td>\n",
       "      <td>1.000238e+00</td>\n",
       "      <td>1.000238e+00</td>\n",
       "      <td>1.000238e+00</td>\n",
       "      <td>1.000238e+00</td>\n",
       "      <td>1.000238e+00</td>\n",
       "      <td>1.000238e+00</td>\n",
       "      <td>1.000238e+00</td>\n",
       "      <td>1.000238e+00</td>\n",
       "    </tr>\n",
       "    <tr>\n",
       "      <th>min</th>\n",
       "      <td>-1.716836e+00</td>\n",
       "      <td>-1.264734e+00</td>\n",
       "      <td>-1.314345e+00</td>\n",
       "      <td>-4.617092e+00</td>\n",
       "      <td>-1.320351e+00</td>\n",
       "      <td>-9.235578e-01</td>\n",
       "      <td>-1.460491e+00</td>\n",
       "      <td>-1.170249e+00</td>\n",
       "      <td>-1.772198e-01</td>\n",
       "      <td>-1.138846e-01</td>\n",
       "      <td>-1.584397e-01</td>\n",
       "      <td>-1.856960e-01</td>\n",
       "      <td>-1.737465e-01</td>\n",
       "    </tr>\n",
       "    <tr>\n",
       "      <th>25%</th>\n",
       "      <td>-8.614077e-01</td>\n",
       "      <td>-7.075082e-01</td>\n",
       "      <td>-9.085145e-01</td>\n",
       "      <td>-4.843355e-01</td>\n",
       "      <td>-1.049932e+00</td>\n",
       "      <td>-7.420073e-01</td>\n",
       "      <td>-7.445375e-01</td>\n",
       "      <td>-3.650808e-01</td>\n",
       "      <td>-1.772198e-01</td>\n",
       "      <td>-1.138846e-01</td>\n",
       "      <td>-1.584397e-01</td>\n",
       "      <td>-1.856960e-01</td>\n",
       "      <td>-1.737465e-01</td>\n",
       "    </tr>\n",
       "    <tr>\n",
       "      <th>50%</th>\n",
       "      <td>-2.183791e-02</td>\n",
       "      <td>-3.360245e-01</td>\n",
       "      <td>-6.979869e-02</td>\n",
       "      <td>3.360245e-01</td>\n",
       "      <td>3.174600e-02</td>\n",
       "      <td>-2.814068e-01</td>\n",
       "      <td>-2.858371e-02</td>\n",
       "      <td>-3.650808e-01</td>\n",
       "      <td>-1.548855e-01</td>\n",
       "      <td>-1.074418e-01</td>\n",
       "      <td>-1.584397e-01</td>\n",
       "      <td>-1.856960e-01</td>\n",
       "      <td>-1.737465e-01</td>\n",
       "    </tr>\n",
       "    <tr>\n",
       "      <th>75%</th>\n",
       "      <td>8.459441e-01</td>\n",
       "      <td>4.843355e-01</td>\n",
       "      <td>8.500832e-01</td>\n",
       "      <td>7.075082e-01</td>\n",
       "      <td>8.430041e-01</td>\n",
       "      <td>3.775543e-01</td>\n",
       "      <td>6.873701e-01</td>\n",
       "      <td>4.400870e-01</td>\n",
       "      <td>-1.102170e-01</td>\n",
       "      <td>-7.522795e-02</td>\n",
       "      <td>-8.098685e-02</td>\n",
       "      <td>-1.298652e-01</td>\n",
       "      <td>-1.285428e-01</td>\n",
       "    </tr>\n",
       "    <tr>\n",
       "      <th>max</th>\n",
       "      <td>1.746402e+00</td>\n",
       "      <td>4.617092e+00</td>\n",
       "      <td>1.932297e+00</td>\n",
       "      <td>1.264734e+00</td>\n",
       "      <td>1.654262e+00</td>\n",
       "      <td>6.819236e+00</td>\n",
       "      <td>2.119278e+00</td>\n",
       "      <td>2.855590e+00</td>\n",
       "      <td>2.943801e+01</td>\n",
       "      <td>3.663569e+01</td>\n",
       "      <td>2.613681e+01</td>\n",
       "      <td>2.921857e+01</td>\n",
       "      <td>2.907307e+01</td>\n",
       "    </tr>\n",
       "  </tbody>\n",
       "</table>\n",
       "</div>"
      ],
      "text/plain": [
       "             userid           age       dob_day      dob_year     dob_month  \\\n",
       "count  2.104000e+03  2.104000e+03  2.104000e+03  2.104000e+03  2.104000e+03   \n",
       "mean   3.015649e-16  1.269316e-16 -8.073390e-17 -3.283152e-15 -7.577378e-17   \n",
       "std    1.000238e+00  1.000238e+00  1.000238e+00  1.000238e+00  1.000238e+00   \n",
       "min   -1.716836e+00 -1.264734e+00 -1.314345e+00 -4.617092e+00 -1.320351e+00   \n",
       "25%   -8.614077e-01 -7.075082e-01 -9.085145e-01 -4.843355e-01 -1.049932e+00   \n",
       "50%   -2.183791e-02 -3.360245e-01 -6.979869e-02  3.360245e-01  3.174600e-02   \n",
       "75%    8.459441e-01  4.843355e-01  8.500832e-01  7.075082e-01  8.430041e-01   \n",
       "max    1.746402e+00  4.617092e+00  1.932297e+00  1.264734e+00  1.654262e+00   \n",
       "\n",
       "             tenure  friend_count  friendships_initiated  likes_received  \\\n",
       "count  2.104000e+03  2.104000e+03           2.104000e+03    2.104000e+03   \n",
       "mean   1.894872e-16  1.004351e-14          -1.115415e-14   -4.111888e-17   \n",
       "std    1.000238e+00  1.000238e+00           1.000238e+00    1.000238e+00   \n",
       "min   -9.235578e-01 -1.460491e+00          -1.170249e+00   -1.772198e-01   \n",
       "25%   -7.420073e-01 -7.445375e-01          -3.650808e-01   -1.772198e-01   \n",
       "50%   -2.814068e-01 -2.858371e-02          -3.650808e-01   -1.548855e-01   \n",
       "75%    3.775543e-01  6.873701e-01           4.400870e-01   -1.102170e-01   \n",
       "max    6.819236e+00  2.119278e+00           2.855590e+00    2.943801e+01   \n",
       "\n",
       "       mobile_likes  mobile_likes_received     www_likes  www_likes_received  \n",
       "count  2.104000e+03           2.104000e+03  2.104000e+03        2.104000e+03  \n",
       "mean  -3.999758e-17          -3.843963e-16 -4.366490e-17        3.833409e-16  \n",
       "std    1.000238e+00           1.000238e+00  1.000238e+00        1.000238e+00  \n",
       "min   -1.138846e-01          -1.584397e-01 -1.856960e-01       -1.737465e-01  \n",
       "25%   -1.138846e-01          -1.584397e-01 -1.856960e-01       -1.737465e-01  \n",
       "50%   -1.074418e-01          -1.584397e-01 -1.856960e-01       -1.737465e-01  \n",
       "75%   -7.522795e-02          -8.098685e-02 -1.298652e-01       -1.285428e-01  \n",
       "max    3.663569e+01           2.613681e+01  2.921857e+01        2.907307e+01  "
      ]
     },
     "execution_count": 1052,
     "metadata": {},
     "output_type": "execute_result"
    }
   ],
   "source": [
    "df_numeric_scaled_numeric.describe()"
   ]
  },
  {
   "cell_type": "code",
   "execution_count": null,
   "metadata": {},
   "outputs": [],
   "source": []
  },
  {
   "cell_type": "code",
   "execution_count": null,
   "metadata": {},
   "outputs": [],
   "source": []
  },
  {
   "cell_type": "code",
   "execution_count": 1053,
   "metadata": {},
   "outputs": [
    {
     "data": {
      "image/png": "[encoded data removed]",
      "text/plain": [
       "<Figure size 1080x576 with 2 Axes>"
      ]
     },
     "metadata": {},
     "output_type": "display_data"
    }
   ],
   "source": [
    "#2\n",
    "sns.heatmap(df_likes_numeric.corr(),annot=True)\n",
    "plt.show()"
   ]
  },
  {
   "cell_type": "code",
   "execution_count": 1054,
   "metadata": {},
   "outputs": [],
   "source": [
    "# Strong positive correlation relationship\n",
    "# 1 friend_count and friend_iniated have strong positive correlation\n",
    "# 2 likes_recieved mobile_likes have very strong positve correlation\n",
    "# 3 likes and mobile_likes have very strong positive correlation\n",
    "\n",
    "\n",
    "# Moderate positive correlation relationship\n",
    "# 1 www_likes and likes_recieved have moderately positive correlation\n",
    "# 2 www_likes and www_likes_recieved have moderately positive correlation\n",
    "# 3 www_likes and mobile_likes_recieved have moderately positive correlation\n",
    "\n",
    "# Low or no correlation relationship\n",
    "# 1 Remaining column have very low correlation"
   ]
  },
  {
   "cell_type": "code",
   "execution_count": 1055,
   "metadata": {},
   "outputs": [],
   "source": [
    "# try to remove outlier\n",
    "\n",
    "Q1 = df_likes.quantile(0.25)\n",
    "Q3 = df_likes.quantile(0.75)\n",
    "\n",
    "IQR = Q3 - Q1\n",
    "\n",
    "\n",
    "\n",
    "df_likes_IQR = df_likes[~((df_likes > Q3+(1.5*IQR)) | (df_likes < Q1-(1.5*IQR))).any(axis=1)].reset_index(drop=True)"
   ]
  },
  {
   "cell_type": "code",
   "execution_count": 1056,
   "metadata": {},
   "outputs": [
    {
     "data": {
      "text/html": [
       "<div>\n",
       "<style scoped>\n",
       "    .dataframe tbody tr th:only-of-type {\n",
       "        vertical-align: middle;\n",
       "    }\n",
       "\n",
       "    .dataframe tbody tr th {\n",
       "        vertical-align: top;\n",
       "    }\n",
       "\n",
       "    .dataframe thead th {\n",
       "        text-align: right;\n",
       "    }\n",
       "</style>\n",
       "<table border=\"1\" class=\"dataframe\">\n",
       "  <thead>\n",
       "    <tr style=\"text-align: right;\">\n",
       "      <th></th>\n",
       "      <th>userid</th>\n",
       "      <th>age</th>\n",
       "      <th>dob_day</th>\n",
       "      <th>dob_year</th>\n",
       "      <th>dob_month</th>\n",
       "      <th>gender</th>\n",
       "      <th>tenure</th>\n",
       "      <th>friend_count</th>\n",
       "      <th>friendships_initiated</th>\n",
       "      <th>likes</th>\n",
       "      <th>likes_received</th>\n",
       "      <th>mobile_likes</th>\n",
       "      <th>mobile_likes_received</th>\n",
       "      <th>www_likes</th>\n",
       "      <th>www_likes_received</th>\n",
       "    </tr>\n",
       "  </thead>\n",
       "  <tbody>\n",
       "    <tr>\n",
       "      <th>0</th>\n",
       "      <td>1098638</td>\n",
       "      <td>13</td>\n",
       "      <td>2</td>\n",
       "      <td>2000</td>\n",
       "      <td>2</td>\n",
       "      <td>male</td>\n",
       "      <td>0</td>\n",
       "      <td>0</td>\n",
       "      <td>0</td>\n",
       "      <td>1</td>\n",
       "      <td>0</td>\n",
       "      <td>0</td>\n",
       "      <td>0</td>\n",
       "      <td>1</td>\n",
       "      <td>0</td>\n",
       "    </tr>\n",
       "    <tr>\n",
       "      <th>1</th>\n",
       "      <td>2063204</td>\n",
       "      <td>14</td>\n",
       "      <td>22</td>\n",
       "      <td>1999</td>\n",
       "      <td>1</td>\n",
       "      <td>male</td>\n",
       "      <td>104</td>\n",
       "      <td>0</td>\n",
       "      <td>0</td>\n",
       "      <td>1</td>\n",
       "      <td>0</td>\n",
       "      <td>0</td>\n",
       "      <td>0</td>\n",
       "      <td>1</td>\n",
       "      <td>0</td>\n",
       "    </tr>\n",
       "    <tr>\n",
       "      <th>2</th>\n",
       "      <td>1579594</td>\n",
       "      <td>19</td>\n",
       "      <td>18</td>\n",
       "      <td>1994</td>\n",
       "      <td>10</td>\n",
       "      <td>female</td>\n",
       "      <td>212</td>\n",
       "      <td>0</td>\n",
       "      <td>0</td>\n",
       "      <td>1</td>\n",
       "      <td>0</td>\n",
       "      <td>0</td>\n",
       "      <td>0</td>\n",
       "      <td>1</td>\n",
       "      <td>0</td>\n",
       "    </tr>\n",
       "    <tr>\n",
       "      <th>3</th>\n",
       "      <td>1979672</td>\n",
       "      <td>21</td>\n",
       "      <td>1</td>\n",
       "      <td>1992</td>\n",
       "      <td>1</td>\n",
       "      <td>male</td>\n",
       "      <td>328</td>\n",
       "      <td>0</td>\n",
       "      <td>0</td>\n",
       "      <td>1</td>\n",
       "      <td>0</td>\n",
       "      <td>0</td>\n",
       "      <td>0</td>\n",
       "      <td>1</td>\n",
       "      <td>0</td>\n",
       "    </tr>\n",
       "    <tr>\n",
       "      <th>4</th>\n",
       "      <td>1344831</td>\n",
       "      <td>23</td>\n",
       "      <td>10</td>\n",
       "      <td>1990</td>\n",
       "      <td>2</td>\n",
       "      <td>male</td>\n",
       "      <td>580</td>\n",
       "      <td>0</td>\n",
       "      <td>0</td>\n",
       "      <td>1</td>\n",
       "      <td>0</td>\n",
       "      <td>0</td>\n",
       "      <td>0</td>\n",
       "      <td>1</td>\n",
       "      <td>0</td>\n",
       "    </tr>\n",
       "    <tr>\n",
       "      <th>...</th>\n",
       "      <td>...</td>\n",
       "      <td>...</td>\n",
       "      <td>...</td>\n",
       "      <td>...</td>\n",
       "      <td>...</td>\n",
       "      <td>...</td>\n",
       "      <td>...</td>\n",
       "      <td>...</td>\n",
       "      <td>...</td>\n",
       "      <td>...</td>\n",
       "      <td>...</td>\n",
       "      <td>...</td>\n",
       "      <td>...</td>\n",
       "      <td>...</td>\n",
       "      <td>...</td>\n",
       "    </tr>\n",
       "    <tr>\n",
       "      <th>1173</th>\n",
       "      <td>1392027</td>\n",
       "      <td>21</td>\n",
       "      <td>10</td>\n",
       "      <td>1992</td>\n",
       "      <td>10</td>\n",
       "      <td>male</td>\n",
       "      <td>23</td>\n",
       "      <td>5</td>\n",
       "      <td>2</td>\n",
       "      <td>1</td>\n",
       "      <td>1</td>\n",
       "      <td>1</td>\n",
       "      <td>1</td>\n",
       "      <td>0</td>\n",
       "      <td>0</td>\n",
       "    </tr>\n",
       "    <tr>\n",
       "      <th>1174</th>\n",
       "      <td>1309117</td>\n",
       "      <td>25</td>\n",
       "      <td>1</td>\n",
       "      <td>1988</td>\n",
       "      <td>1</td>\n",
       "      <td>male</td>\n",
       "      <td>126</td>\n",
       "      <td>5</td>\n",
       "      <td>3</td>\n",
       "      <td>1</td>\n",
       "      <td>1</td>\n",
       "      <td>1</td>\n",
       "      <td>1</td>\n",
       "      <td>0</td>\n",
       "      <td>0</td>\n",
       "    </tr>\n",
       "    <tr>\n",
       "      <th>1175</th>\n",
       "      <td>1266006</td>\n",
       "      <td>29</td>\n",
       "      <td>10</td>\n",
       "      <td>1984</td>\n",
       "      <td>10</td>\n",
       "      <td>female</td>\n",
       "      <td>705</td>\n",
       "      <td>5</td>\n",
       "      <td>0</td>\n",
       "      <td>1</td>\n",
       "      <td>1</td>\n",
       "      <td>1</td>\n",
       "      <td>0</td>\n",
       "      <td>0</td>\n",
       "      <td>1</td>\n",
       "    </tr>\n",
       "    <tr>\n",
       "      <th>1176</th>\n",
       "      <td>1756959</td>\n",
       "      <td>19</td>\n",
       "      <td>13</td>\n",
       "      <td>1994</td>\n",
       "      <td>3</td>\n",
       "      <td>male</td>\n",
       "      <td>304</td>\n",
       "      <td>5</td>\n",
       "      <td>2</td>\n",
       "      <td>1</td>\n",
       "      <td>2</td>\n",
       "      <td>1</td>\n",
       "      <td>2</td>\n",
       "      <td>0</td>\n",
       "      <td>0</td>\n",
       "    </tr>\n",
       "    <tr>\n",
       "      <th>1177</th>\n",
       "      <td>1712229</td>\n",
       "      <td>19</td>\n",
       "      <td>21</td>\n",
       "      <td>1994</td>\n",
       "      <td>4</td>\n",
       "      <td>male</td>\n",
       "      <td>12</td>\n",
       "      <td>5</td>\n",
       "      <td>1</td>\n",
       "      <td>1</td>\n",
       "      <td>4</td>\n",
       "      <td>1</td>\n",
       "      <td>4</td>\n",
       "      <td>0</td>\n",
       "      <td>0</td>\n",
       "    </tr>\n",
       "  </tbody>\n",
       "</table>\n",
       "<p>1178 rows × 15 columns</p>\n",
       "</div>"
      ],
      "text/plain": [
       "       userid  age  dob_day  dob_year  dob_month  gender  tenure  \\\n",
       "0     1098638   13        2      2000          2    male       0   \n",
       "1     2063204   14       22      1999          1    male     104   \n",
       "2     1579594   19       18      1994         10  female     212   \n",
       "3     1979672   21        1      1992          1    male     328   \n",
       "4     1344831   23       10      1990          2    male     580   \n",
       "...       ...  ...      ...       ...        ...     ...     ...   \n",
       "1173  1392027   21       10      1992         10    male      23   \n",
       "1174  1309117   25        1      1988          1    male     126   \n",
       "1175  1266006   29       10      1984         10  female     705   \n",
       "1176  1756959   19       13      1994          3    male     304   \n",
       "1177  1712229   19       21      1994          4    male      12   \n",
       "\n",
       "      friend_count  friendships_initiated  likes  likes_received  \\\n",
       "0                0                      0      1               0   \n",
       "1                0                      0      1               0   \n",
       "2                0                      0      1               0   \n",
       "3                0                      0      1               0   \n",
       "4                0                      0      1               0   \n",
       "...            ...                    ...    ...             ...   \n",
       "1173             5                      2      1               1   \n",
       "1174             5                      3      1               1   \n",
       "1175             5                      0      1               1   \n",
       "1176             5                      2      1               2   \n",
       "1177             5                      1      1               4   \n",
       "\n",
       "      mobile_likes  mobile_likes_received  www_likes  www_likes_received  \n",
       "0                0                      0          1                   0  \n",
       "1                0                      0          1                   0  \n",
       "2                0                      0          1                   0  \n",
       "3                0                      0          1                   0  \n",
       "4                0                      0          1                   0  \n",
       "...            ...                    ...        ...                 ...  \n",
       "1173             1                      1          0                   0  \n",
       "1174             1                      1          0                   0  \n",
       "1175             1                      0          0                   1  \n",
       "1176             1                      2          0                   0  \n",
       "1177             1                      4          0                   0  \n",
       "\n",
       "[1178 rows x 15 columns]"
      ]
     },
     "execution_count": 1056,
     "metadata": {},
     "output_type": "execute_result"
    }
   ],
   "source": [
    "df_likes_IQR"
   ]
  },
  {
   "cell_type": "markdown",
   "metadata": {},
   "source": [
    "<h2 class=\"list-group-item list-group-item-action active\" >3.Split dataset into train and test,Scaling    </h2>\n",
    "\n",
    ">### 1. Split the dataset in dependent variable is [`likes`] and independent\n",
    "\n",
    ">### 2. Convert categorical variables to numeric variables\n",
    "\n",
    ">### 3. Scale the features \n",
    "\n",
    ">### 4. Split dataset into train(70%) and test(30%).How would you ascertain this statistically? \n",
    " "
   ]
  },
  {
   "cell_type": "code",
   "execution_count": 1057,
   "metadata": {
    "scrolled": true
   },
   "outputs": [],
   "source": [
    "#1\n",
    "df_num =  df_numeric_scaled_numeric.drop(['userid'],axis=1)\n",
    "y_full = df_likes_numeric['likes']"
   ]
  },
  {
   "cell_type": "code",
   "execution_count": 1058,
   "metadata": {},
   "outputs": [
    {
     "data": {
      "text/plain": [
       "24.959317269166796"
      ]
     },
     "execution_count": 1058,
     "metadata": {},
     "output_type": "execute_result"
    }
   ],
   "source": [
    "y_full.skew()"
   ]
  },
  {
   "cell_type": "code",
   "execution_count": 1059,
   "metadata": {},
   "outputs": [
    {
     "data": {
      "image/png": "[encoded data removed]",
      "text/plain": [
       "<Figure size 1080x576 with 1 Axes>"
      ]
     },
     "metadata": {},
     "output_type": "display_data"
    }
   ],
   "source": [
    "sns.distplot(y_full)\n",
    "plt.show()"
   ]
  },
  {
   "cell_type": "code",
   "execution_count": 1060,
   "metadata": {},
   "outputs": [],
   "source": [
    "# We can see that dependent variable is heavily right skewed. so we will transformed the columns using sqaure root \n",
    "# transformation"
   ]
  },
  {
   "cell_type": "code",
   "execution_count": 1061,
   "metadata": {},
   "outputs": [],
   "source": [
    "# y_train_full = pd.Series(stats.boxcox(y_train_full)[0])\n",
    "# y_test_full = pd.Series(stats.boxcox(y_test_full)[0])"
   ]
  },
  {
   "cell_type": "code",
   "execution_count": 1062,
   "metadata": {},
   "outputs": [],
   "source": [
    "y_full = np.sqrt(y_full)"
   ]
  },
  {
   "cell_type": "code",
   "execution_count": 1063,
   "metadata": {},
   "outputs": [
    {
     "data": {
      "text/plain": [
       "6.316371923894802"
      ]
     },
     "execution_count": 1063,
     "metadata": {},
     "output_type": "execute_result"
    }
   ],
   "source": [
    "y_full.skew()"
   ]
  },
  {
   "cell_type": "code",
   "execution_count": 1064,
   "metadata": {},
   "outputs": [
    {
     "name": "stdout",
     "output_type": "stream",
     "text": [
      "X_train_full (1472, 13)\n",
      "X_test_full (632, 13)\n",
      "y_train_full (1472,)\n",
      "y_test_full (632,)\n"
     ]
    }
   ],
   "source": [
    "# bulding full model\n",
    "\n",
    "#2\n",
    "df_cat = pd.get_dummies(df_likes_categorical,drop_first=True)\n",
    "\n",
    "#3\n",
    "ss = StandardScaler()\n",
    "x_scaled = ss.fit_transform(df_num)\n",
    "df_num = pd.DataFrame(x_scaled,columns=df_num.columns)\n",
    "X_full = pd.concat([df_num,df_cat],axis=1)\n",
    "\n",
    "#4\n",
    "X_train_full,X_test_full,y_train_full,y_test_full = train_test_split(X_full,y_full,test_size=0.3,random_state=1)\n",
    "print(\"X_train_full\",X_train_full.shape)\n",
    "print(\"X_test_full\",X_test_full.shape)\n",
    "print(\"y_train_full\",y_train_full.shape)\n",
    "print(\"y_test_full\",y_test_full.shape)"
   ]
  },
  {
   "cell_type": "code",
   "execution_count": 1065,
   "metadata": {
    "scrolled": true
   },
   "outputs": [
    {
     "data": {
      "text/html": [
       "<div>\n",
       "<style scoped>\n",
       "    .dataframe tbody tr th:only-of-type {\n",
       "        vertical-align: middle;\n",
       "    }\n",
       "\n",
       "    .dataframe tbody tr th {\n",
       "        vertical-align: top;\n",
       "    }\n",
       "\n",
       "    .dataframe thead th {\n",
       "        text-align: right;\n",
       "    }\n",
       "</style>\n",
       "<table border=\"1\" class=\"dataframe\">\n",
       "  <thead>\n",
       "    <tr style=\"text-align: right;\">\n",
       "      <th></th>\n",
       "      <th>age</th>\n",
       "      <th>dob_day</th>\n",
       "      <th>dob_year</th>\n",
       "      <th>dob_month</th>\n",
       "      <th>tenure</th>\n",
       "      <th>friend_count</th>\n",
       "      <th>friendships_initiated</th>\n",
       "      <th>likes_received</th>\n",
       "      <th>mobile_likes</th>\n",
       "      <th>mobile_likes_received</th>\n",
       "      <th>www_likes</th>\n",
       "      <th>www_likes_received</th>\n",
       "    </tr>\n",
       "  </thead>\n",
       "  <tbody>\n",
       "    <tr>\n",
       "      <th>0</th>\n",
       "      <td>-1.264734</td>\n",
       "      <td>-1.206123</td>\n",
       "      <td>1.264734</td>\n",
       "      <td>-1.049932</td>\n",
       "      <td>-0.923558</td>\n",
       "      <td>-1.460491</td>\n",
       "      <td>-1.170249</td>\n",
       "      <td>-0.17722</td>\n",
       "      <td>-0.113885</td>\n",
       "      <td>-0.15844</td>\n",
       "      <td>-0.167086</td>\n",
       "      <td>-0.173746</td>\n",
       "    </tr>\n",
       "    <tr>\n",
       "      <th>1</th>\n",
       "      <td>-1.202820</td>\n",
       "      <td>0.958305</td>\n",
       "      <td>1.202820</td>\n",
       "      <td>-1.320351</td>\n",
       "      <td>-0.573905</td>\n",
       "      <td>-1.460491</td>\n",
       "      <td>-1.170249</td>\n",
       "      <td>-0.17722</td>\n",
       "      <td>-0.113885</td>\n",
       "      <td>-0.15844</td>\n",
       "      <td>-0.167086</td>\n",
       "      <td>-0.173746</td>\n",
       "    </tr>\n",
       "    <tr>\n",
       "      <th>2</th>\n",
       "      <td>-0.893250</td>\n",
       "      <td>0.525419</td>\n",
       "      <td>0.893250</td>\n",
       "      <td>1.113424</td>\n",
       "      <td>-0.210804</td>\n",
       "      <td>-1.460491</td>\n",
       "      <td>-1.170249</td>\n",
       "      <td>-0.17722</td>\n",
       "      <td>-0.113885</td>\n",
       "      <td>-0.15844</td>\n",
       "      <td>-0.167086</td>\n",
       "      <td>-0.173746</td>\n",
       "    </tr>\n",
       "    <tr>\n",
       "      <th>3</th>\n",
       "      <td>-0.769422</td>\n",
       "      <td>-1.314345</td>\n",
       "      <td>0.769422</td>\n",
       "      <td>-1.320351</td>\n",
       "      <td>0.179194</td>\n",
       "      <td>-1.460491</td>\n",
       "      <td>-1.170249</td>\n",
       "      <td>-0.17722</td>\n",
       "      <td>-0.113885</td>\n",
       "      <td>-0.15844</td>\n",
       "      <td>-0.167086</td>\n",
       "      <td>-0.173746</td>\n",
       "    </tr>\n",
       "    <tr>\n",
       "      <th>4</th>\n",
       "      <td>-0.645594</td>\n",
       "      <td>-0.340352</td>\n",
       "      <td>0.645594</td>\n",
       "      <td>-1.049932</td>\n",
       "      <td>1.026429</td>\n",
       "      <td>-1.460491</td>\n",
       "      <td>-1.170249</td>\n",
       "      <td>-0.17722</td>\n",
       "      <td>-0.113885</td>\n",
       "      <td>-0.15844</td>\n",
       "      <td>-0.167086</td>\n",
       "      <td>-0.173746</td>\n",
       "    </tr>\n",
       "  </tbody>\n",
       "</table>\n",
       "</div>"
      ],
      "text/plain": [
       "        age   dob_day  dob_year  dob_month    tenure  friend_count  \\\n",
       "0 -1.264734 -1.206123  1.264734  -1.049932 -0.923558     -1.460491   \n",
       "1 -1.202820  0.958305  1.202820  -1.320351 -0.573905     -1.460491   \n",
       "2 -0.893250  0.525419  0.893250   1.113424 -0.210804     -1.460491   \n",
       "3 -0.769422 -1.314345  0.769422  -1.320351  0.179194     -1.460491   \n",
       "4 -0.645594 -0.340352  0.645594  -1.049932  1.026429     -1.460491   \n",
       "\n",
       "   friendships_initiated  likes_received  mobile_likes  mobile_likes_received  \\\n",
       "0              -1.170249        -0.17722     -0.113885               -0.15844   \n",
       "1              -1.170249        -0.17722     -0.113885               -0.15844   \n",
       "2              -1.170249        -0.17722     -0.113885               -0.15844   \n",
       "3              -1.170249        -0.17722     -0.113885               -0.15844   \n",
       "4              -1.170249        -0.17722     -0.113885               -0.15844   \n",
       "\n",
       "   www_likes  www_likes_received  \n",
       "0  -0.167086           -0.173746  \n",
       "1  -0.167086           -0.173746  \n",
       "2  -0.167086           -0.173746  \n",
       "3  -0.167086           -0.173746  \n",
       "4  -0.167086           -0.173746  "
      ]
     },
     "execution_count": 1065,
     "metadata": {},
     "output_type": "execute_result"
    }
   ],
   "source": [
    "df_num.head()"
   ]
  },
  {
   "cell_type": "markdown",
   "metadata": {},
   "source": [
    "<h2 class=\"list-group-item list-group-item-action active\" >4.Model Building and Feature Selection using RFE(Recursive feature elimination)   </h2>\n",
    "\n",
    ">### 1. Use Linear Regression\n",
    "\n",
    ">### 2. Evaluation metrics like Rsqaure,Standard error/RMSE. Write the inference.\n",
    "\n",
    ">### 3. Feature selection using RFE\n",
    "\n",
    "Step1: Check the optimal number of features between 4 to 30\n",
    "\n",
    "Step2: RFE with n features(LinearRegression) \n",
    "\n",
    "Step3: Specify the number of features\n",
    "\n",
    "Step4: Fit with n features\n",
    "\n",
    "Step5: Select features selected by rfe_n      \n",
    "\n",
    "Step6:Training & test data for n selected columns        \n",
    "\n",
    "Step7: Add a constant to the model       \n",
    "\n",
    "Step8:Fit the ols model with n features\n",
    "\n",
    "Step9: Calculate evaluation metrics\n",
    "\n",
    "Step 10: Plot r2 and RMSE against n_features  \n",
    "\n",
    "Step11: Write your final inference.    \n",
    "\n",
    "\n",
    "\n",
    "\n",
    ">### 4. Model Bulding with optimal features count\n",
    "\n"
   ]
  },
  {
   "cell_type": "code",
   "execution_count": 1066,
   "metadata": {},
   "outputs": [
    {
     "data": {
      "text/html": [
       "<div>\n",
       "<style scoped>\n",
       "    .dataframe tbody tr th:only-of-type {\n",
       "        vertical-align: middle;\n",
       "    }\n",
       "\n",
       "    .dataframe tbody tr th {\n",
       "        vertical-align: top;\n",
       "    }\n",
       "\n",
       "    .dataframe thead th {\n",
       "        text-align: right;\n",
       "    }\n",
       "</style>\n",
       "<table border=\"1\" class=\"dataframe\">\n",
       "  <thead>\n",
       "    <tr style=\"text-align: right;\">\n",
       "      <th></th>\n",
       "      <th>age</th>\n",
       "      <th>dob_day</th>\n",
       "      <th>dob_year</th>\n",
       "      <th>dob_month</th>\n",
       "      <th>tenure</th>\n",
       "      <th>friend_count</th>\n",
       "      <th>friendships_initiated</th>\n",
       "      <th>likes_received</th>\n",
       "      <th>mobile_likes</th>\n",
       "      <th>mobile_likes_received</th>\n",
       "      <th>www_likes</th>\n",
       "      <th>www_likes_received</th>\n",
       "      <th>gender_male</th>\n",
       "    </tr>\n",
       "  </thead>\n",
       "  <tbody>\n",
       "    <tr>\n",
       "      <th>1427</th>\n",
       "      <td>-1.140906</td>\n",
       "      <td>-0.556795</td>\n",
       "      <td>1.140906</td>\n",
       "      <td>1.113424</td>\n",
       "      <td>0.323762</td>\n",
       "      <td>0.687370</td>\n",
       "      <td>-0.365081</td>\n",
       "      <td>-0.154886</td>\n",
       "      <td>-0.113885</td>\n",
       "      <td>-0.158440</td>\n",
       "      <td>-0.148475</td>\n",
       "      <td>-0.128543</td>\n",
       "      <td>1</td>\n",
       "    </tr>\n",
       "    <tr>\n",
       "      <th>641</th>\n",
       "      <td>-0.955164</td>\n",
       "      <td>0.200755</td>\n",
       "      <td>0.955164</td>\n",
       "      <td>-1.049932</td>\n",
       "      <td>-0.913472</td>\n",
       "      <td>-0.744537</td>\n",
       "      <td>-1.170249</td>\n",
       "      <td>-0.177220</td>\n",
       "      <td>-0.094556</td>\n",
       "      <td>-0.158440</td>\n",
       "      <td>-0.129865</td>\n",
       "      <td>-0.173746</td>\n",
       "      <td>0</td>\n",
       "    </tr>\n",
       "    <tr>\n",
       "      <th>1219</th>\n",
       "      <td>-0.274111</td>\n",
       "      <td>-0.773238</td>\n",
       "      <td>0.274111</td>\n",
       "      <td>-0.509093</td>\n",
       "      <td>-0.056150</td>\n",
       "      <td>-0.028584</td>\n",
       "      <td>0.440087</td>\n",
       "      <td>-0.177220</td>\n",
       "      <td>-0.030129</td>\n",
       "      <td>-0.158440</td>\n",
       "      <td>-0.167086</td>\n",
       "      <td>-0.173746</td>\n",
       "      <td>0</td>\n",
       "    </tr>\n",
       "    <tr>\n",
       "      <th>531</th>\n",
       "      <td>-0.583680</td>\n",
       "      <td>-0.989681</td>\n",
       "      <td>0.583680</td>\n",
       "      <td>-1.049932</td>\n",
       "      <td>1.305479</td>\n",
       "      <td>-0.744537</td>\n",
       "      <td>-0.365081</td>\n",
       "      <td>-0.177220</td>\n",
       "      <td>-0.107442</td>\n",
       "      <td>-0.158440</td>\n",
       "      <td>-0.148475</td>\n",
       "      <td>-0.173746</td>\n",
       "      <td>1</td>\n",
       "    </tr>\n",
       "    <tr>\n",
       "      <th>2040</th>\n",
       "      <td>-0.274111</td>\n",
       "      <td>-0.015688</td>\n",
       "      <td>0.274111</td>\n",
       "      <td>0.572585</td>\n",
       "      <td>1.914010</td>\n",
       "      <td>2.119278</td>\n",
       "      <td>-0.365081</td>\n",
       "      <td>-0.154886</td>\n",
       "      <td>-0.113885</td>\n",
       "      <td>-0.119713</td>\n",
       "      <td>-0.167086</td>\n",
       "      <td>-0.173746</td>\n",
       "      <td>1</td>\n",
       "    </tr>\n",
       "    <tr>\n",
       "      <th>...</th>\n",
       "      <td>...</td>\n",
       "      <td>...</td>\n",
       "      <td>...</td>\n",
       "      <td>...</td>\n",
       "      <td>...</td>\n",
       "      <td>...</td>\n",
       "      <td>...</td>\n",
       "      <td>...</td>\n",
       "      <td>...</td>\n",
       "      <td>...</td>\n",
       "      <td>...</td>\n",
       "      <td>...</td>\n",
       "      <td>...</td>\n",
       "    </tr>\n",
       "    <tr>\n",
       "      <th>960</th>\n",
       "      <td>-0.893250</td>\n",
       "      <td>-1.314345</td>\n",
       "      <td>0.893250</td>\n",
       "      <td>-1.320351</td>\n",
       "      <td>0.438071</td>\n",
       "      <td>-0.028584</td>\n",
       "      <td>0.440087</td>\n",
       "      <td>-0.177220</td>\n",
       "      <td>-0.107442</td>\n",
       "      <td>-0.158440</td>\n",
       "      <td>-0.185696</td>\n",
       "      <td>-0.173746</td>\n",
       "      <td>1</td>\n",
       "    </tr>\n",
       "    <tr>\n",
       "      <th>905</th>\n",
       "      <td>4.493264</td>\n",
       "      <td>0.200755</td>\n",
       "      <td>-4.493264</td>\n",
       "      <td>1.383843</td>\n",
       "      <td>2.542713</td>\n",
       "      <td>-0.744537</td>\n",
       "      <td>-0.365081</td>\n",
       "      <td>0.872490</td>\n",
       "      <td>7.855826</td>\n",
       "      <td>1.042080</td>\n",
       "      <td>-0.055424</td>\n",
       "      <td>0.549513</td>\n",
       "      <td>1</td>\n",
       "    </tr>\n",
       "    <tr>\n",
       "      <th>1096</th>\n",
       "      <td>0.097373</td>\n",
       "      <td>1.932297</td>\n",
       "      <td>-0.097373</td>\n",
       "      <td>-1.320351</td>\n",
       "      <td>-0.664680</td>\n",
       "      <td>-0.028584</td>\n",
       "      <td>0.440087</td>\n",
       "      <td>-0.177220</td>\n",
       "      <td>-0.094556</td>\n",
       "      <td>-0.158440</td>\n",
       "      <td>-0.185696</td>\n",
       "      <td>-0.173746</td>\n",
       "      <td>1</td>\n",
       "    </tr>\n",
       "    <tr>\n",
       "      <th>235</th>\n",
       "      <td>0.406943</td>\n",
       "      <td>-0.232131</td>\n",
       "      <td>-0.406943</td>\n",
       "      <td>-0.238673</td>\n",
       "      <td>-0.130115</td>\n",
       "      <td>-1.460491</td>\n",
       "      <td>-1.170249</td>\n",
       "      <td>-0.177220</td>\n",
       "      <td>0.047185</td>\n",
       "      <td>-0.158440</td>\n",
       "      <td>-0.185696</td>\n",
       "      <td>-0.173746</td>\n",
       "      <td>1</td>\n",
       "    </tr>\n",
       "    <tr>\n",
       "      <th>1061</th>\n",
       "      <td>1.149911</td>\n",
       "      <td>-1.314345</td>\n",
       "      <td>-1.149911</td>\n",
       "      <td>-0.238673</td>\n",
       "      <td>-0.318389</td>\n",
       "      <td>-0.028584</td>\n",
       "      <td>0.440087</td>\n",
       "      <td>-0.177220</td>\n",
       "      <td>-0.100999</td>\n",
       "      <td>-0.158440</td>\n",
       "      <td>-0.185696</td>\n",
       "      <td>-0.173746</td>\n",
       "      <td>0</td>\n",
       "    </tr>\n",
       "  </tbody>\n",
       "</table>\n",
       "<p>1472 rows × 13 columns</p>\n",
       "</div>"
      ],
      "text/plain": [
       "           age   dob_day  dob_year  dob_month    tenure  friend_count  \\\n",
       "1427 -1.140906 -0.556795  1.140906   1.113424  0.323762      0.687370   \n",
       "641  -0.955164  0.200755  0.955164  -1.049932 -0.913472     -0.744537   \n",
       "1219 -0.274111 -0.773238  0.274111  -0.509093 -0.056150     -0.028584   \n",
       "531  -0.583680 -0.989681  0.583680  -1.049932  1.305479     -0.744537   \n",
       "2040 -0.274111 -0.015688  0.274111   0.572585  1.914010      2.119278   \n",
       "...        ...       ...       ...        ...       ...           ...   \n",
       "960  -0.893250 -1.314345  0.893250  -1.320351  0.438071     -0.028584   \n",
       "905   4.493264  0.200755 -4.493264   1.383843  2.542713     -0.744537   \n",
       "1096  0.097373  1.932297 -0.097373  -1.320351 -0.664680     -0.028584   \n",
       "235   0.406943 -0.232131 -0.406943  -0.238673 -0.130115     -1.460491   \n",
       "1061  1.149911 -1.314345 -1.149911  -0.238673 -0.318389     -0.028584   \n",
       "\n",
       "      friendships_initiated  likes_received  mobile_likes  \\\n",
       "1427              -0.365081       -0.154886     -0.113885   \n",
       "641               -1.170249       -0.177220     -0.094556   \n",
       "1219               0.440087       -0.177220     -0.030129   \n",
       "531               -0.365081       -0.177220     -0.107442   \n",
       "2040              -0.365081       -0.154886     -0.113885   \n",
       "...                     ...             ...           ...   \n",
       "960                0.440087       -0.177220     -0.107442   \n",
       "905               -0.365081        0.872490      7.855826   \n",
       "1096               0.440087       -0.177220     -0.094556   \n",
       "235               -1.170249       -0.177220      0.047185   \n",
       "1061               0.440087       -0.177220     -0.100999   \n",
       "\n",
       "      mobile_likes_received  www_likes  www_likes_received  gender_male  \n",
       "1427              -0.158440  -0.148475           -0.128543            1  \n",
       "641               -0.158440  -0.129865           -0.173746            0  \n",
       "1219              -0.158440  -0.167086           -0.173746            0  \n",
       "531               -0.158440  -0.148475           -0.173746            1  \n",
       "2040              -0.119713  -0.167086           -0.173746            1  \n",
       "...                     ...        ...                 ...          ...  \n",
       "960               -0.158440  -0.185696           -0.173746            1  \n",
       "905                1.042080  -0.055424            0.549513            1  \n",
       "1096              -0.158440  -0.185696           -0.173746            1  \n",
       "235               -0.158440  -0.185696           -0.173746            1  \n",
       "1061              -0.158440  -0.185696           -0.173746            0  \n",
       "\n",
       "[1472 rows x 13 columns]"
      ]
     },
     "execution_count": 1066,
     "metadata": {},
     "output_type": "execute_result"
    }
   ],
   "source": [
    "X_train_full"
   ]
  },
  {
   "cell_type": "code",
   "execution_count": 1067,
   "metadata": {},
   "outputs": [
    {
     "data": {
      "text/plain": [
       "likes    0\n",
       "dtype: int64"
      ]
     },
     "execution_count": 1067,
     "metadata": {},
     "output_type": "execute_result"
    }
   ],
   "source": [
    "df = pd.DataFrame(y_test_full)\n",
    "df.isnull().sum()"
   ]
  },
  {
   "cell_type": "code",
   "execution_count": 1068,
   "metadata": {
    "scrolled": false
   },
   "outputs": [
    {
     "data": {
      "text/html": [
       "<table class=\"simpletable\">\n",
       "<caption>OLS Regression Results</caption>\n",
       "<tr>\n",
       "  <th>Dep. Variable:</th>          <td>likes</td>      <th>  R-squared:         </th> <td>   0.726</td>\n",
       "</tr>\n",
       "<tr>\n",
       "  <th>Model:</th>                   <td>OLS</td>       <th>  Adj. R-squared:    </th> <td>   0.724</td>\n",
       "</tr>\n",
       "<tr>\n",
       "  <th>Method:</th>             <td>Least Squares</td>  <th>  F-statistic:       </th> <td>   351.0</td>\n",
       "</tr>\n",
       "<tr>\n",
       "  <th>Date:</th>             <td>Thu, 24 Nov 2022</td> <th>  Prob (F-statistic):</th>  <td>  0.00</td> \n",
       "</tr>\n",
       "<tr>\n",
       "  <th>Time:</th>                 <td>22:35:28</td>     <th>  Log-Likelihood:    </th> <td> -3344.8</td>\n",
       "</tr>\n",
       "<tr>\n",
       "  <th>No. Observations:</th>      <td>  1472</td>      <th>  AIC:               </th> <td>   6714.</td>\n",
       "</tr>\n",
       "<tr>\n",
       "  <th>Df Residuals:</th>          <td>  1460</td>      <th>  BIC:               </th> <td>   6777.</td>\n",
       "</tr>\n",
       "<tr>\n",
       "  <th>Df Model:</th>              <td>    11</td>      <th>                     </th>     <td> </td>   \n",
       "</tr>\n",
       "<tr>\n",
       "  <th>Covariance Type:</th>      <td>nonrobust</td>    <th>                     </th>     <td> </td>   \n",
       "</tr>\n",
       "</table>\n",
       "<table class=\"simpletable\">\n",
       "<tr>\n",
       "            <td></td>               <th>coef</th>     <th>std err</th>      <th>t</th>      <th>P>|t|</th>  <th>[0.025</th>    <th>0.975]</th>  \n",
       "</tr>\n",
       "<tr>\n",
       "  <th>const</th>                 <td>    3.6708</td> <td>    0.104</td> <td>   35.149</td> <td> 0.000</td> <td>    3.466</td> <td>    3.876</td>\n",
       "</tr>\n",
       "<tr>\n",
       "  <th>age</th>                   <td>    0.0176</td> <td>    0.031</td> <td>    0.562</td> <td> 0.574</td> <td>   -0.044</td> <td>    0.079</td>\n",
       "</tr>\n",
       "<tr>\n",
       "  <th>dob_day</th>               <td>   -0.0086</td> <td>    0.064</td> <td>   -0.134</td> <td> 0.893</td> <td>   -0.134</td> <td>    0.117</td>\n",
       "</tr>\n",
       "<tr>\n",
       "  <th>dob_year</th>              <td>   -0.0176</td> <td>    0.031</td> <td>   -0.562</td> <td> 0.574</td> <td>   -0.079</td> <td>    0.044</td>\n",
       "</tr>\n",
       "<tr>\n",
       "  <th>dob_month</th>             <td>    0.0385</td> <td>    0.064</td> <td>    0.601</td> <td> 0.548</td> <td>   -0.087</td> <td>    0.164</td>\n",
       "</tr>\n",
       "<tr>\n",
       "  <th>tenure</th>                <td>    0.0182</td> <td>    0.063</td> <td>    0.290</td> <td> 0.772</td> <td>   -0.105</td> <td>    0.142</td>\n",
       "</tr>\n",
       "<tr>\n",
       "  <th>friend_count</th>          <td>    0.0365</td> <td>    0.102</td> <td>    0.358</td> <td> 0.720</td> <td>   -0.163</td> <td>    0.236</td>\n",
       "</tr>\n",
       "<tr>\n",
       "  <th>friendships_initiated</th> <td>   -0.0557</td> <td>    0.101</td> <td>   -0.549</td> <td> 0.583</td> <td>   -0.254</td> <td>    0.143</td>\n",
       "</tr>\n",
       "<tr>\n",
       "  <th>likes_received</th>        <td>    0.1115</td> <td>    0.030</td> <td>    3.753</td> <td> 0.000</td> <td>    0.053</td> <td>    0.170</td>\n",
       "</tr>\n",
       "<tr>\n",
       "  <th>mobile_likes</th>          <td>    2.4006</td> <td>    0.054</td> <td>   44.580</td> <td> 0.000</td> <td>    2.295</td> <td>    2.506</td>\n",
       "</tr>\n",
       "<tr>\n",
       "  <th>mobile_likes_received</th> <td>    0.1363</td> <td>    0.088</td> <td>    1.556</td> <td> 0.120</td> <td>   -0.036</td> <td>    0.308</td>\n",
       "</tr>\n",
       "<tr>\n",
       "  <th>www_likes</th>             <td>    1.7361</td> <td>    0.071</td> <td>   24.397</td> <td> 0.000</td> <td>    1.597</td> <td>    1.876</td>\n",
       "</tr>\n",
       "<tr>\n",
       "  <th>www_likes_received</th>    <td>    0.0666</td> <td>    0.086</td> <td>    0.775</td> <td> 0.438</td> <td>   -0.102</td> <td>    0.235</td>\n",
       "</tr>\n",
       "<tr>\n",
       "  <th>gender_male</th>           <td>   -0.5913</td> <td>    0.129</td> <td>   -4.569</td> <td> 0.000</td> <td>   -0.845</td> <td>   -0.337</td>\n",
       "</tr>\n",
       "</table>\n",
       "<table class=\"simpletable\">\n",
       "<tr>\n",
       "  <th>Omnibus:</th>       <td>374.688</td> <th>  Durbin-Watson:     </th> <td>   2.101</td> \n",
       "</tr>\n",
       "<tr>\n",
       "  <th>Prob(Omnibus):</th> <td> 0.000</td>  <th>  Jarque-Bera (JB):  </th> <td>16121.860</td>\n",
       "</tr>\n",
       "<tr>\n",
       "  <th>Skew:</th>          <td> 0.372</td>  <th>  Prob(JB):          </th> <td>    0.00</td> \n",
       "</tr>\n",
       "<tr>\n",
       "  <th>Kurtosis:</th>      <td>19.196</td>  <th>  Cond. No.          </th> <td>2.60e+16</td> \n",
       "</tr>\n",
       "</table><br/><br/>Notes:<br/>[1] Standard Errors assume that the covariance matrix of the errors is correctly specified.<br/>[2] The smallest eigenvalue is 8.2e-30. This might indicate that there are<br/>strong multicollinearity problems or that the design matrix is singular."
      ],
      "text/plain": [
       "<class 'statsmodels.iolib.summary.Summary'>\n",
       "\"\"\"\n",
       "                            OLS Regression Results                            \n",
       "==============================================================================\n",
       "Dep. Variable:                  likes   R-squared:                       0.726\n",
       "Model:                            OLS   Adj. R-squared:                  0.724\n",
       "Method:                 Least Squares   F-statistic:                     351.0\n",
       "Date:                Thu, 24 Nov 2022   Prob (F-statistic):               0.00\n",
       "Time:                        22:35:28   Log-Likelihood:                -3344.8\n",
       "No. Observations:                1472   AIC:                             6714.\n",
       "Df Residuals:                    1460   BIC:                             6777.\n",
       "Df Model:                          11                                         \n",
       "Covariance Type:            nonrobust                                         \n",
       "=========================================================================================\n",
       "                            coef    std err          t      P>|t|      [0.025      0.975]\n",
       "-----------------------------------------------------------------------------------------\n",
       "const                     3.6708      0.104     35.149      0.000       3.466       3.876\n",
       "age                       0.0176      0.031      0.562      0.574      -0.044       0.079\n",
       "dob_day                  -0.0086      0.064     -0.134      0.893      -0.134       0.117\n",
       "dob_year                 -0.0176      0.031     -0.562      0.574      -0.079       0.044\n",
       "dob_month                 0.0385      0.064      0.601      0.548      -0.087       0.164\n",
       "tenure                    0.0182      0.063      0.290      0.772      -0.105       0.142\n",
       "friend_count              0.0365      0.102      0.358      0.720      -0.163       0.236\n",
       "friendships_initiated    -0.0557      0.101     -0.549      0.583      -0.254       0.143\n",
       "likes_received            0.1115      0.030      3.753      0.000       0.053       0.170\n",
       "mobile_likes              2.4006      0.054     44.580      0.000       2.295       2.506\n",
       "mobile_likes_received     0.1363      0.088      1.556      0.120      -0.036       0.308\n",
       "www_likes                 1.7361      0.071     24.397      0.000       1.597       1.876\n",
       "www_likes_received        0.0666      0.086      0.775      0.438      -0.102       0.235\n",
       "gender_male              -0.5913      0.129     -4.569      0.000      -0.845      -0.337\n",
       "==============================================================================\n",
       "Omnibus:                      374.688   Durbin-Watson:                   2.101\n",
       "Prob(Omnibus):                  0.000   Jarque-Bera (JB):            16121.860\n",
       "Skew:                           0.372   Prob(JB):                         0.00\n",
       "Kurtosis:                      19.196   Cond. No.                     2.60e+16\n",
       "==============================================================================\n",
       "\n",
       "Notes:\n",
       "[1] Standard Errors assume that the covariance matrix of the errors is correctly specified.\n",
       "[2] The smallest eigenvalue is 8.2e-30. This might indicate that there are\n",
       "strong multicollinearity problems or that the design matrix is singular.\n",
       "\"\"\""
      ]
     },
     "execution_count": 1068,
     "metadata": {},
     "output_type": "execute_result"
    }
   ],
   "source": [
    "#1\n",
    "model_full_ols = sm.OLS(y_train_full,sm.add_constant(X_train_full)).fit()\n",
    "model_full_ols.summary()"
   ]
  },
  {
   "cell_type": "code",
   "execution_count": 1069,
   "metadata": {},
   "outputs": [],
   "source": [
    "# We can see that that r2 value is 0.726 but there is high multicollinearity for above model 2.60e+16 \n",
    "# We will use VIF variance influence factor to remove the column top columns which involve in  multicollinearity."
   ]
  },
  {
   "cell_type": "code",
   "execution_count": 1070,
   "metadata": {},
   "outputs": [
    {
     "name": "stdout",
     "output_type": "stream",
     "text": [
      "    VIF_Factor                Feature\n",
      "12    1.002959            gender_male\n",
      "8     1.063438           mobile_likes\n",
      "4     1.068316                 tenure\n",
      "1     1.090158                dob_day\n",
      "3     1.093080              dob_month\n",
      "10    1.717350              www_likes\n",
      "6     2.761073  friendships_initiated\n",
      "5     2.762283           friend_count\n",
      "0          inf                    age\n",
      "2          inf               dob_year\n",
      "7          inf         likes_received\n",
      "9          inf  mobile_likes_received\n",
      "11         inf     www_likes_received\n"
     ]
    }
   ],
   "source": [
    "vif = pd.DataFrame()\n",
    "\n",
    "vif['VIF_Factor'] = [variance_inflation_factor(X_train_full.values,i) for i in range(X_train_full.shape[1])]\n",
    "\n",
    "vif['Feature'] = X_train_full.columns\n",
    "\n",
    "print(vif.sort_values(by='VIF_Factor',ascending=True))"
   ]
  },
  {
   "cell_type": "code",
   "execution_count": 1071,
   "metadata": {},
   "outputs": [],
   "source": [
    "# We can see that age,dob_year,likes_received,likes_received,likes_received having inf VIF number so we need to drop them."
   ]
  },
  {
   "cell_type": "code",
   "execution_count": 1072,
   "metadata": {
    "scrolled": true
   },
   "outputs": [
    {
     "data": {
      "text/html": [
       "<table class=\"simpletable\">\n",
       "<caption>OLS Regression Results</caption>\n",
       "<tr>\n",
       "  <th>Dep. Variable:</th>          <td>likes</td>      <th>  R-squared:         </th> <td>   0.726</td>\n",
       "</tr>\n",
       "<tr>\n",
       "  <th>Model:</th>                   <td>OLS</td>       <th>  Adj. R-squared:    </th> <td>   0.724</td>\n",
       "</tr>\n",
       "<tr>\n",
       "  <th>Method:</th>             <td>Least Squares</td>  <th>  F-statistic:       </th> <td>   351.0</td>\n",
       "</tr>\n",
       "<tr>\n",
       "  <th>Date:</th>             <td>Thu, 24 Nov 2022</td> <th>  Prob (F-statistic):</th>  <td>  0.00</td> \n",
       "</tr>\n",
       "<tr>\n",
       "  <th>Time:</th>                 <td>22:35:28</td>     <th>  Log-Likelihood:    </th> <td> -3344.8</td>\n",
       "</tr>\n",
       "<tr>\n",
       "  <th>No. Observations:</th>      <td>  1472</td>      <th>  AIC:               </th> <td>   6714.</td>\n",
       "</tr>\n",
       "<tr>\n",
       "  <th>Df Residuals:</th>          <td>  1460</td>      <th>  BIC:               </th> <td>   6777.</td>\n",
       "</tr>\n",
       "<tr>\n",
       "  <th>Df Model:</th>              <td>    11</td>      <th>                     </th>     <td> </td>   \n",
       "</tr>\n",
       "<tr>\n",
       "  <th>Covariance Type:</th>      <td>nonrobust</td>    <th>                     </th>     <td> </td>   \n",
       "</tr>\n",
       "</table>\n",
       "<table class=\"simpletable\">\n",
       "<tr>\n",
       "            <td></td>               <th>coef</th>     <th>std err</th>      <th>t</th>      <th>P>|t|</th>  <th>[0.025</th>    <th>0.975]</th>  \n",
       "</tr>\n",
       "<tr>\n",
       "  <th>const</th>                 <td>    3.6708</td> <td>    0.104</td> <td>   35.149</td> <td> 0.000</td> <td>    3.466</td> <td>    3.876</td>\n",
       "</tr>\n",
       "<tr>\n",
       "  <th>age</th>                   <td>    0.0176</td> <td>    0.031</td> <td>    0.562</td> <td> 0.574</td> <td>   -0.044</td> <td>    0.079</td>\n",
       "</tr>\n",
       "<tr>\n",
       "  <th>dob_day</th>               <td>   -0.0086</td> <td>    0.064</td> <td>   -0.134</td> <td> 0.893</td> <td>   -0.134</td> <td>    0.117</td>\n",
       "</tr>\n",
       "<tr>\n",
       "  <th>dob_year</th>              <td>   -0.0176</td> <td>    0.031</td> <td>   -0.562</td> <td> 0.574</td> <td>   -0.079</td> <td>    0.044</td>\n",
       "</tr>\n",
       "<tr>\n",
       "  <th>dob_month</th>             <td>    0.0385</td> <td>    0.064</td> <td>    0.601</td> <td> 0.548</td> <td>   -0.087</td> <td>    0.164</td>\n",
       "</tr>\n",
       "<tr>\n",
       "  <th>tenure</th>                <td>    0.0182</td> <td>    0.063</td> <td>    0.290</td> <td> 0.772</td> <td>   -0.105</td> <td>    0.142</td>\n",
       "</tr>\n",
       "<tr>\n",
       "  <th>friend_count</th>          <td>    0.0365</td> <td>    0.102</td> <td>    0.358</td> <td> 0.720</td> <td>   -0.163</td> <td>    0.236</td>\n",
       "</tr>\n",
       "<tr>\n",
       "  <th>friendships_initiated</th> <td>   -0.0557</td> <td>    0.101</td> <td>   -0.549</td> <td> 0.583</td> <td>   -0.254</td> <td>    0.143</td>\n",
       "</tr>\n",
       "<tr>\n",
       "  <th>likes_received</th>        <td>    0.2463</td> <td>    0.178</td> <td>    1.385</td> <td> 0.166</td> <td>   -0.103</td> <td>    0.595</td>\n",
       "</tr>\n",
       "<tr>\n",
       "  <th>mobile_likes</th>          <td>    2.4006</td> <td>    0.054</td> <td>   44.580</td> <td> 0.000</td> <td>    2.295</td> <td>    2.506</td>\n",
       "</tr>\n",
       "<tr>\n",
       "  <th>mobile_likes_received</th> <td>    0.0586</td> <td>    0.179</td> <td>    0.328</td> <td> 0.743</td> <td>   -0.292</td> <td>    0.409</td>\n",
       "</tr>\n",
       "<tr>\n",
       "  <th>www_likes</th>             <td>    1.7361</td> <td>    0.071</td> <td>   24.397</td> <td> 0.000</td> <td>    1.597</td> <td>    1.876</td>\n",
       "</tr>\n",
       "<tr>\n",
       "  <th>gender_male</th>           <td>   -0.5913</td> <td>    0.129</td> <td>   -4.569</td> <td> 0.000</td> <td>   -0.845</td> <td>   -0.337</td>\n",
       "</tr>\n",
       "</table>\n",
       "<table class=\"simpletable\">\n",
       "<tr>\n",
       "  <th>Omnibus:</th>       <td>374.688</td> <th>  Durbin-Watson:     </th> <td>   2.101</td> \n",
       "</tr>\n",
       "<tr>\n",
       "  <th>Prob(Omnibus):</th> <td> 0.000</td>  <th>  Jarque-Bera (JB):  </th> <td>16121.860</td>\n",
       "</tr>\n",
       "<tr>\n",
       "  <th>Skew:</th>          <td> 0.372</td>  <th>  Prob(JB):          </th> <td>    0.00</td> \n",
       "</tr>\n",
       "<tr>\n",
       "  <th>Kurtosis:</th>      <td>19.196</td>  <th>  Cond. No.          </th> <td>8.41e+15</td> \n",
       "</tr>\n",
       "</table><br/><br/>Notes:<br/>[1] Standard Errors assume that the covariance matrix of the errors is correctly specified.<br/>[2] The smallest eigenvalue is 5.82e-29. This might indicate that there are<br/>strong multicollinearity problems or that the design matrix is singular."
      ],
      "text/plain": [
       "<class 'statsmodels.iolib.summary.Summary'>\n",
       "\"\"\"\n",
       "                            OLS Regression Results                            \n",
       "==============================================================================\n",
       "Dep. Variable:                  likes   R-squared:                       0.726\n",
       "Model:                            OLS   Adj. R-squared:                  0.724\n",
       "Method:                 Least Squares   F-statistic:                     351.0\n",
       "Date:                Thu, 24 Nov 2022   Prob (F-statistic):               0.00\n",
       "Time:                        22:35:28   Log-Likelihood:                -3344.8\n",
       "No. Observations:                1472   AIC:                             6714.\n",
       "Df Residuals:                    1460   BIC:                             6777.\n",
       "Df Model:                          11                                         \n",
       "Covariance Type:            nonrobust                                         \n",
       "=========================================================================================\n",
       "                            coef    std err          t      P>|t|      [0.025      0.975]\n",
       "-----------------------------------------------------------------------------------------\n",
       "const                     3.6708      0.104     35.149      0.000       3.466       3.876\n",
       "age                       0.0176      0.031      0.562      0.574      -0.044       0.079\n",
       "dob_day                  -0.0086      0.064     -0.134      0.893      -0.134       0.117\n",
       "dob_year                 -0.0176      0.031     -0.562      0.574      -0.079       0.044\n",
       "dob_month                 0.0385      0.064      0.601      0.548      -0.087       0.164\n",
       "tenure                    0.0182      0.063      0.290      0.772      -0.105       0.142\n",
       "friend_count              0.0365      0.102      0.358      0.720      -0.163       0.236\n",
       "friendships_initiated    -0.0557      0.101     -0.549      0.583      -0.254       0.143\n",
       "likes_received            0.2463      0.178      1.385      0.166      -0.103       0.595\n",
       "mobile_likes              2.4006      0.054     44.580      0.000       2.295       2.506\n",
       "mobile_likes_received     0.0586      0.179      0.328      0.743      -0.292       0.409\n",
       "www_likes                 1.7361      0.071     24.397      0.000       1.597       1.876\n",
       "gender_male              -0.5913      0.129     -4.569      0.000      -0.845      -0.337\n",
       "==============================================================================\n",
       "Omnibus:                      374.688   Durbin-Watson:                   2.101\n",
       "Prob(Omnibus):                  0.000   Jarque-Bera (JB):            16121.860\n",
       "Skew:                           0.372   Prob(JB):                         0.00\n",
       "Kurtosis:                      19.196   Cond. No.                     8.41e+15\n",
       "==============================================================================\n",
       "\n",
       "Notes:\n",
       "[1] Standard Errors assume that the covariance matrix of the errors is correctly specified.\n",
       "[2] The smallest eigenvalue is 5.82e-29. This might indicate that there are\n",
       "strong multicollinearity problems or that the design matrix is singular.\n",
       "\"\"\""
      ]
     },
     "execution_count": 1072,
     "metadata": {},
     "output_type": "execute_result"
    }
   ],
   "source": [
    "X_train_new =  X_train_full.drop(['www_likes_received'],axis=1)\n",
    "model_vif = sm.OLS(y_train_full,sm.add_constant(X_train_new)).fit()\n",
    "model_vif.summary()"
   ]
  },
  {
   "cell_type": "code",
   "execution_count": 1073,
   "metadata": {},
   "outputs": [],
   "source": [
    "# we can see that durbin waston number is close to 2 so there is no auto correlation\n",
    "# kurtosis is high is because there is some outlier are present"
   ]
  },
  {
   "cell_type": "code",
   "execution_count": 1074,
   "metadata": {},
   "outputs": [],
   "source": [
    "# above model have issue with multicolinearity so we will remove the columns which involve in multicolinearity using VIF "
   ]
  },
  {
   "cell_type": "code",
   "execution_count": 1075,
   "metadata": {},
   "outputs": [],
   "source": [
    "X_train_vif = X_train_full.drop(['age','dob_year','likes_received','mobile_likes_received','www_likes_received'],axis=1)"
   ]
  },
  {
   "cell_type": "code",
   "execution_count": 1076,
   "metadata": {},
   "outputs": [
    {
     "data": {
      "text/html": [
       "<div>\n",
       "<style scoped>\n",
       "    .dataframe tbody tr th:only-of-type {\n",
       "        vertical-align: middle;\n",
       "    }\n",
       "\n",
       "    .dataframe tbody tr th {\n",
       "        vertical-align: top;\n",
       "    }\n",
       "\n",
       "    .dataframe thead th {\n",
       "        text-align: right;\n",
       "    }\n",
       "</style>\n",
       "<table border=\"1\" class=\"dataframe\">\n",
       "  <thead>\n",
       "    <tr style=\"text-align: right;\">\n",
       "      <th></th>\n",
       "      <th>dob_day</th>\n",
       "      <th>dob_month</th>\n",
       "      <th>tenure</th>\n",
       "      <th>friend_count</th>\n",
       "      <th>friendships_initiated</th>\n",
       "      <th>mobile_likes</th>\n",
       "      <th>www_likes</th>\n",
       "      <th>gender_male</th>\n",
       "    </tr>\n",
       "  </thead>\n",
       "  <tbody>\n",
       "    <tr>\n",
       "      <th>1427</th>\n",
       "      <td>-0.556795</td>\n",
       "      <td>1.113424</td>\n",
       "      <td>0.323762</td>\n",
       "      <td>0.687370</td>\n",
       "      <td>-0.365081</td>\n",
       "      <td>-0.113885</td>\n",
       "      <td>-0.148475</td>\n",
       "      <td>1</td>\n",
       "    </tr>\n",
       "    <tr>\n",
       "      <th>641</th>\n",
       "      <td>0.200755</td>\n",
       "      <td>-1.049932</td>\n",
       "      <td>-0.913472</td>\n",
       "      <td>-0.744537</td>\n",
       "      <td>-1.170249</td>\n",
       "      <td>-0.094556</td>\n",
       "      <td>-0.129865</td>\n",
       "      <td>0</td>\n",
       "    </tr>\n",
       "    <tr>\n",
       "      <th>1219</th>\n",
       "      <td>-0.773238</td>\n",
       "      <td>-0.509093</td>\n",
       "      <td>-0.056150</td>\n",
       "      <td>-0.028584</td>\n",
       "      <td>0.440087</td>\n",
       "      <td>-0.030129</td>\n",
       "      <td>-0.167086</td>\n",
       "      <td>0</td>\n",
       "    </tr>\n",
       "    <tr>\n",
       "      <th>531</th>\n",
       "      <td>-0.989681</td>\n",
       "      <td>-1.049932</td>\n",
       "      <td>1.305479</td>\n",
       "      <td>-0.744537</td>\n",
       "      <td>-0.365081</td>\n",
       "      <td>-0.107442</td>\n",
       "      <td>-0.148475</td>\n",
       "      <td>1</td>\n",
       "    </tr>\n",
       "    <tr>\n",
       "      <th>2040</th>\n",
       "      <td>-0.015688</td>\n",
       "      <td>0.572585</td>\n",
       "      <td>1.914010</td>\n",
       "      <td>2.119278</td>\n",
       "      <td>-0.365081</td>\n",
       "      <td>-0.113885</td>\n",
       "      <td>-0.167086</td>\n",
       "      <td>1</td>\n",
       "    </tr>\n",
       "    <tr>\n",
       "      <th>...</th>\n",
       "      <td>...</td>\n",
       "      <td>...</td>\n",
       "      <td>...</td>\n",
       "      <td>...</td>\n",
       "      <td>...</td>\n",
       "      <td>...</td>\n",
       "      <td>...</td>\n",
       "      <td>...</td>\n",
       "    </tr>\n",
       "    <tr>\n",
       "      <th>960</th>\n",
       "      <td>-1.314345</td>\n",
       "      <td>-1.320351</td>\n",
       "      <td>0.438071</td>\n",
       "      <td>-0.028584</td>\n",
       "      <td>0.440087</td>\n",
       "      <td>-0.107442</td>\n",
       "      <td>-0.185696</td>\n",
       "      <td>1</td>\n",
       "    </tr>\n",
       "    <tr>\n",
       "      <th>905</th>\n",
       "      <td>0.200755</td>\n",
       "      <td>1.383843</td>\n",
       "      <td>2.542713</td>\n",
       "      <td>-0.744537</td>\n",
       "      <td>-0.365081</td>\n",
       "      <td>7.855826</td>\n",
       "      <td>-0.055424</td>\n",
       "      <td>1</td>\n",
       "    </tr>\n",
       "    <tr>\n",
       "      <th>1096</th>\n",
       "      <td>1.932297</td>\n",
       "      <td>-1.320351</td>\n",
       "      <td>-0.664680</td>\n",
       "      <td>-0.028584</td>\n",
       "      <td>0.440087</td>\n",
       "      <td>-0.094556</td>\n",
       "      <td>-0.185696</td>\n",
       "      <td>1</td>\n",
       "    </tr>\n",
       "    <tr>\n",
       "      <th>235</th>\n",
       "      <td>-0.232131</td>\n",
       "      <td>-0.238673</td>\n",
       "      <td>-0.130115</td>\n",
       "      <td>-1.460491</td>\n",
       "      <td>-1.170249</td>\n",
       "      <td>0.047185</td>\n",
       "      <td>-0.185696</td>\n",
       "      <td>1</td>\n",
       "    </tr>\n",
       "    <tr>\n",
       "      <th>1061</th>\n",
       "      <td>-1.314345</td>\n",
       "      <td>-0.238673</td>\n",
       "      <td>-0.318389</td>\n",
       "      <td>-0.028584</td>\n",
       "      <td>0.440087</td>\n",
       "      <td>-0.100999</td>\n",
       "      <td>-0.185696</td>\n",
       "      <td>0</td>\n",
       "    </tr>\n",
       "  </tbody>\n",
       "</table>\n",
       "<p>1472 rows × 8 columns</p>\n",
       "</div>"
      ],
      "text/plain": [
       "       dob_day  dob_month    tenure  friend_count  friendships_initiated  \\\n",
       "1427 -0.556795   1.113424  0.323762      0.687370              -0.365081   \n",
       "641   0.200755  -1.049932 -0.913472     -0.744537              -1.170249   \n",
       "1219 -0.773238  -0.509093 -0.056150     -0.028584               0.440087   \n",
       "531  -0.989681  -1.049932  1.305479     -0.744537              -0.365081   \n",
       "2040 -0.015688   0.572585  1.914010      2.119278              -0.365081   \n",
       "...        ...        ...       ...           ...                    ...   \n",
       "960  -1.314345  -1.320351  0.438071     -0.028584               0.440087   \n",
       "905   0.200755   1.383843  2.542713     -0.744537              -0.365081   \n",
       "1096  1.932297  -1.320351 -0.664680     -0.028584               0.440087   \n",
       "235  -0.232131  -0.238673 -0.130115     -1.460491              -1.170249   \n",
       "1061 -1.314345  -0.238673 -0.318389     -0.028584               0.440087   \n",
       "\n",
       "      mobile_likes  www_likes  gender_male  \n",
       "1427     -0.113885  -0.148475            1  \n",
       "641      -0.094556  -0.129865            0  \n",
       "1219     -0.030129  -0.167086            0  \n",
       "531      -0.107442  -0.148475            1  \n",
       "2040     -0.113885  -0.167086            1  \n",
       "...            ...        ...          ...  \n",
       "960      -0.107442  -0.185696            1  \n",
       "905       7.855826  -0.055424            1  \n",
       "1096     -0.094556  -0.185696            1  \n",
       "235       0.047185  -0.185696            1  \n",
       "1061     -0.100999  -0.185696            0  \n",
       "\n",
       "[1472 rows x 8 columns]"
      ]
     },
     "execution_count": 1076,
     "metadata": {},
     "output_type": "execute_result"
    }
   ],
   "source": [
    "X_train_vif"
   ]
  },
  {
   "cell_type": "code",
   "execution_count": 1077,
   "metadata": {},
   "outputs": [
    {
     "data": {
      "text/html": [
       "<table class=\"simpletable\">\n",
       "<caption>OLS Regression Results</caption>\n",
       "<tr>\n",
       "  <th>Dep. Variable:</th>          <td>likes</td>      <th>  R-squared:         </th> <td>   0.723</td>\n",
       "</tr>\n",
       "<tr>\n",
       "  <th>Model:</th>                   <td>OLS</td>       <th>  Adj. R-squared:    </th> <td>   0.721</td>\n",
       "</tr>\n",
       "<tr>\n",
       "  <th>Method:</th>             <td>Least Squares</td>  <th>  F-statistic:       </th> <td>   477.0</td>\n",
       "</tr>\n",
       "<tr>\n",
       "  <th>Date:</th>             <td>Thu, 24 Nov 2022</td> <th>  Prob (F-statistic):</th>  <td>  0.00</td> \n",
       "</tr>\n",
       "<tr>\n",
       "  <th>Time:</th>                 <td>22:35:28</td>     <th>  Log-Likelihood:    </th> <td> -3352.1</td>\n",
       "</tr>\n",
       "<tr>\n",
       "  <th>No. Observations:</th>      <td>  1472</td>      <th>  AIC:               </th> <td>   6722.</td>\n",
       "</tr>\n",
       "<tr>\n",
       "  <th>Df Residuals:</th>          <td>  1463</td>      <th>  BIC:               </th> <td>   6770.</td>\n",
       "</tr>\n",
       "<tr>\n",
       "  <th>Df Model:</th>              <td>     8</td>      <th>                     </th>     <td> </td>   \n",
       "</tr>\n",
       "<tr>\n",
       "  <th>Covariance Type:</th>      <td>nonrobust</td>    <th>                     </th>     <td> </td>   \n",
       "</tr>\n",
       "</table>\n",
       "<table class=\"simpletable\">\n",
       "<tr>\n",
       "            <td></td>               <th>coef</th>     <th>std err</th>      <th>t</th>      <th>P>|t|</th>  <th>[0.025</th>    <th>0.975]</th>  \n",
       "</tr>\n",
       "<tr>\n",
       "  <th>const</th>                 <td>    3.6789</td> <td>    0.105</td> <td>   35.095</td> <td> 0.000</td> <td>    3.473</td> <td>    3.885</td>\n",
       "</tr>\n",
       "<tr>\n",
       "  <th>dob_day</th>               <td>   -0.0092</td> <td>    0.064</td> <td>   -0.143</td> <td> 0.886</td> <td>   -0.135</td> <td>    0.117</td>\n",
       "</tr>\n",
       "<tr>\n",
       "  <th>dob_month</th>             <td>    0.0362</td> <td>    0.064</td> <td>    0.565</td> <td> 0.572</td> <td>   -0.090</td> <td>    0.162</td>\n",
       "</tr>\n",
       "<tr>\n",
       "  <th>tenure</th>                <td>    0.0098</td> <td>    0.062</td> <td>    0.158</td> <td> 0.875</td> <td>   -0.112</td> <td>    0.132</td>\n",
       "</tr>\n",
       "<tr>\n",
       "  <th>friend_count</th>          <td>    0.0270</td> <td>    0.102</td> <td>    0.265</td> <td> 0.791</td> <td>   -0.173</td> <td>    0.227</td>\n",
       "</tr>\n",
       "<tr>\n",
       "  <th>friendships_initiated</th> <td>   -0.0577</td> <td>    0.102</td> <td>   -0.567</td> <td> 0.571</td> <td>   -0.257</td> <td>    0.142</td>\n",
       "</tr>\n",
       "<tr>\n",
       "  <th>mobile_likes</th>          <td>    2.4387</td> <td>    0.053</td> <td>   46.185</td> <td> 0.000</td> <td>    2.335</td> <td>    2.542</td>\n",
       "</tr>\n",
       "<tr>\n",
       "  <th>www_likes</th>             <td>    1.9072</td> <td>    0.055</td> <td>   34.659</td> <td> 0.000</td> <td>    1.799</td> <td>    2.015</td>\n",
       "</tr>\n",
       "<tr>\n",
       "  <th>gender_male</th>           <td>   -0.6045</td> <td>    0.130</td> <td>   -4.654</td> <td> 0.000</td> <td>   -0.859</td> <td>   -0.350</td>\n",
       "</tr>\n",
       "</table>\n",
       "<table class=\"simpletable\">\n",
       "<tr>\n",
       "  <th>Omnibus:</th>       <td>431.306</td> <th>  Durbin-Watson:     </th> <td>   2.110</td> \n",
       "</tr>\n",
       "<tr>\n",
       "  <th>Prob(Omnibus):</th> <td> 0.000</td>  <th>  Jarque-Bera (JB):  </th> <td>12053.432</td>\n",
       "</tr>\n",
       "<tr>\n",
       "  <th>Skew:</th>          <td> 0.750</td>  <th>  Prob(JB):          </th> <td>    0.00</td> \n",
       "</tr>\n",
       "<tr>\n",
       "  <th>Kurtosis:</th>      <td>16.938</td>  <th>  Cond. No.          </th> <td>    3.48</td> \n",
       "</tr>\n",
       "</table><br/><br/>Notes:<br/>[1] Standard Errors assume that the covariance matrix of the errors is correctly specified."
      ],
      "text/plain": [
       "<class 'statsmodels.iolib.summary.Summary'>\n",
       "\"\"\"\n",
       "                            OLS Regression Results                            \n",
       "==============================================================================\n",
       "Dep. Variable:                  likes   R-squared:                       0.723\n",
       "Model:                            OLS   Adj. R-squared:                  0.721\n",
       "Method:                 Least Squares   F-statistic:                     477.0\n",
       "Date:                Thu, 24 Nov 2022   Prob (F-statistic):               0.00\n",
       "Time:                        22:35:28   Log-Likelihood:                -3352.1\n",
       "No. Observations:                1472   AIC:                             6722.\n",
       "Df Residuals:                    1463   BIC:                             6770.\n",
       "Df Model:                           8                                         \n",
       "Covariance Type:            nonrobust                                         \n",
       "=========================================================================================\n",
       "                            coef    std err          t      P>|t|      [0.025      0.975]\n",
       "-----------------------------------------------------------------------------------------\n",
       "const                     3.6789      0.105     35.095      0.000       3.473       3.885\n",
       "dob_day                  -0.0092      0.064     -0.143      0.886      -0.135       0.117\n",
       "dob_month                 0.0362      0.064      0.565      0.572      -0.090       0.162\n",
       "tenure                    0.0098      0.062      0.158      0.875      -0.112       0.132\n",
       "friend_count              0.0270      0.102      0.265      0.791      -0.173       0.227\n",
       "friendships_initiated    -0.0577      0.102     -0.567      0.571      -0.257       0.142\n",
       "mobile_likes              2.4387      0.053     46.185      0.000       2.335       2.542\n",
       "www_likes                 1.9072      0.055     34.659      0.000       1.799       2.015\n",
       "gender_male              -0.6045      0.130     -4.654      0.000      -0.859      -0.350\n",
       "==============================================================================\n",
       "Omnibus:                      431.306   Durbin-Watson:                   2.110\n",
       "Prob(Omnibus):                  0.000   Jarque-Bera (JB):            12053.432\n",
       "Skew:                           0.750   Prob(JB):                         0.00\n",
       "Kurtosis:                      16.938   Cond. No.                         3.48\n",
       "==============================================================================\n",
       "\n",
       "Notes:\n",
       "[1] Standard Errors assume that the covariance matrix of the errors is correctly specified.\n",
       "\"\"\""
      ]
     },
     "execution_count": 1077,
     "metadata": {},
     "output_type": "execute_result"
    }
   ],
   "source": [
    "model_vif = sm.OLS(y_train_full,sm.add_constant(X_train_vif)).fit()\n",
    "model_vif.summary()"
   ]
  },
  {
   "cell_type": "code",
   "execution_count": 1078,
   "metadata": {},
   "outputs": [],
   "source": [
    "# 2\n",
    "lin_reg = LinearRegression()\n",
    "rfe_model = RFE(estimator=lin_reg,n_features_to_select=5)\n",
    "rfe_model = rfe_model.fit(X_train_full,y_train_full)"
   ]
  },
  {
   "cell_type": "code",
   "execution_count": 1079,
   "metadata": {},
   "outputs": [],
   "source": [
    "feat_index = pd.Series(rfe_model.ranking_,index=X_train_full.columns)\n",
    "feat_index = feat_index[feat_index==1].index"
   ]
  },
  {
   "cell_type": "code",
   "execution_count": 1080,
   "metadata": {},
   "outputs": [
    {
     "data": {
      "text/plain": [
       "Index(['likes_received', 'mobile_likes', 'mobile_likes_received', 'www_likes',\n",
       "       'gender_male'],\n",
       "      dtype='object')"
      ]
     },
     "execution_count": 1080,
     "metadata": {},
     "output_type": "execute_result"
    }
   ],
   "source": [
    "feat_index"
   ]
  },
  {
   "cell_type": "code",
   "execution_count": 1081,
   "metadata": {},
   "outputs": [],
   "source": [
    "# above feature are top 5 feature that affect the model."
   ]
  },
  {
   "cell_type": "code",
   "execution_count": 1082,
   "metadata": {},
   "outputs": [
    {
     "data": {
      "text/html": [
       "<table class=\"simpletable\">\n",
       "<caption>OLS Regression Results</caption>\n",
       "<tr>\n",
       "  <th>Dep. Variable:</th>          <td>likes</td>      <th>  R-squared:         </th> <td>   0.725</td>\n",
       "</tr>\n",
       "<tr>\n",
       "  <th>Model:</th>                   <td>OLS</td>       <th>  Adj. R-squared:    </th> <td>   0.724</td>\n",
       "</tr>\n",
       "<tr>\n",
       "  <th>Method:</th>             <td>Least Squares</td>  <th>  F-statistic:       </th> <td>   774.5</td>\n",
       "</tr>\n",
       "<tr>\n",
       "  <th>Date:</th>             <td>Thu, 24 Nov 2022</td> <th>  Prob (F-statistic):</th>  <td>  0.00</td> \n",
       "</tr>\n",
       "<tr>\n",
       "  <th>Time:</th>                 <td>22:35:28</td>     <th>  Log-Likelihood:    </th> <td> -3345.4</td>\n",
       "</tr>\n",
       "<tr>\n",
       "  <th>No. Observations:</th>      <td>  1472</td>      <th>  AIC:               </th> <td>   6703.</td>\n",
       "</tr>\n",
       "<tr>\n",
       "  <th>Df Residuals:</th>          <td>  1466</td>      <th>  BIC:               </th> <td>   6735.</td>\n",
       "</tr>\n",
       "<tr>\n",
       "  <th>Df Model:</th>              <td>     5</td>      <th>                     </th>     <td> </td>   \n",
       "</tr>\n",
       "<tr>\n",
       "  <th>Covariance Type:</th>      <td>nonrobust</td>    <th>                     </th>     <td> </td>   \n",
       "</tr>\n",
       "</table>\n",
       "<table class=\"simpletable\">\n",
       "<tr>\n",
       "            <td></td>               <th>coef</th>     <th>std err</th>      <th>t</th>      <th>P>|t|</th>  <th>[0.025</th>    <th>0.975]</th>  \n",
       "</tr>\n",
       "<tr>\n",
       "  <th>const</th>                 <td>    3.6725</td> <td>    0.104</td> <td>   35.229</td> <td> 0.000</td> <td>    3.468</td> <td>    3.877</td>\n",
       "</tr>\n",
       "<tr>\n",
       "  <th>likes_received</th>        <td>    0.2486</td> <td>    0.177</td> <td>    1.403</td> <td> 0.161</td> <td>   -0.099</td> <td>    0.596</td>\n",
       "</tr>\n",
       "<tr>\n",
       "  <th>mobile_likes</th>          <td>    2.4012</td> <td>    0.054</td> <td>   44.704</td> <td> 0.000</td> <td>    2.296</td> <td>    2.507</td>\n",
       "</tr>\n",
       "<tr>\n",
       "  <th>mobile_likes_received</th> <td>    0.0525</td> <td>    0.178</td> <td>    0.295</td> <td> 0.768</td> <td>   -0.297</td> <td>    0.402</td>\n",
       "</tr>\n",
       "<tr>\n",
       "  <th>www_likes</th>             <td>    1.7387</td> <td>    0.071</td> <td>   24.560</td> <td> 0.000</td> <td>    1.600</td> <td>    1.878</td>\n",
       "</tr>\n",
       "<tr>\n",
       "  <th>gender_male</th>           <td>   -0.5941</td> <td>    0.129</td> <td>   -4.600</td> <td> 0.000</td> <td>   -0.847</td> <td>   -0.341</td>\n",
       "</tr>\n",
       "</table>\n",
       "<table class=\"simpletable\">\n",
       "<tr>\n",
       "  <th>Omnibus:</th>       <td>375.552</td> <th>  Durbin-Watson:     </th> <td>   2.102</td> \n",
       "</tr>\n",
       "<tr>\n",
       "  <th>Prob(Omnibus):</th> <td> 0.000</td>  <th>  Jarque-Bera (JB):  </th> <td>16279.311</td>\n",
       "</tr>\n",
       "<tr>\n",
       "  <th>Skew:</th>          <td> 0.372</td>  <th>  Prob(JB):          </th> <td>    0.00</td> \n",
       "</tr>\n",
       "<tr>\n",
       "  <th>Kurtosis:</th>      <td>19.275</td>  <th>  Cond. No.          </th> <td>    6.67</td> \n",
       "</tr>\n",
       "</table><br/><br/>Notes:<br/>[1] Standard Errors assume that the covariance matrix of the errors is correctly specified."
      ],
      "text/plain": [
       "<class 'statsmodels.iolib.summary.Summary'>\n",
       "\"\"\"\n",
       "                            OLS Regression Results                            \n",
       "==============================================================================\n",
       "Dep. Variable:                  likes   R-squared:                       0.725\n",
       "Model:                            OLS   Adj. R-squared:                  0.724\n",
       "Method:                 Least Squares   F-statistic:                     774.5\n",
       "Date:                Thu, 24 Nov 2022   Prob (F-statistic):               0.00\n",
       "Time:                        22:35:28   Log-Likelihood:                -3345.4\n",
       "No. Observations:                1472   AIC:                             6703.\n",
       "Df Residuals:                    1466   BIC:                             6735.\n",
       "Df Model:                           5                                         \n",
       "Covariance Type:            nonrobust                                         \n",
       "=========================================================================================\n",
       "                            coef    std err          t      P>|t|      [0.025      0.975]\n",
       "-----------------------------------------------------------------------------------------\n",
       "const                     3.6725      0.104     35.229      0.000       3.468       3.877\n",
       "likes_received            0.2486      0.177      1.403      0.161      -0.099       0.596\n",
       "mobile_likes              2.4012      0.054     44.704      0.000       2.296       2.507\n",
       "mobile_likes_received     0.0525      0.178      0.295      0.768      -0.297       0.402\n",
       "www_likes                 1.7387      0.071     24.560      0.000       1.600       1.878\n",
       "gender_male              -0.5941      0.129     -4.600      0.000      -0.847      -0.341\n",
       "==============================================================================\n",
       "Omnibus:                      375.552   Durbin-Watson:                   2.102\n",
       "Prob(Omnibus):                  0.000   Jarque-Bera (JB):            16279.311\n",
       "Skew:                           0.372   Prob(JB):                         0.00\n",
       "Kurtosis:                      19.275   Cond. No.                         6.67\n",
       "==============================================================================\n",
       "\n",
       "Notes:\n",
       "[1] Standard Errors assume that the covariance matrix of the errors is correctly specified.\n",
       "\"\"\""
      ]
     },
     "execution_count": 1082,
     "metadata": {},
     "output_type": "execute_result"
    }
   ],
   "source": [
    "X = X_full[feat_index]\n",
    "X = sm.add_constant(X)\n",
    "y = df_likes['likes']\n",
    "y = np.sqrt(y)\n",
    "X_train_rfe,X_test_rfe,y_train_rfe,y_test_rfe = train_test_split(X,y,test_size=0.3,random_state=1)\n",
    "\n",
    "model_rfe = sm.OLS(y_train_rfe,X_train_rfe).fit()\n",
    "model_rfe.summary()"
   ]
  },
  {
   "cell_type": "code",
   "execution_count": 1083,
   "metadata": {},
   "outputs": [],
   "source": [
    "# we can see that mobile_likes_received and likes_received look insignificant "
   ]
  },
  {
   "cell_type": "code",
   "execution_count": 1084,
   "metadata": {},
   "outputs": [
    {
     "name": "stdout",
     "output_type": "stream",
     "text": [
      "train_rsme:  2.3484839731824976\n",
      "test_rsme:  2.0905039463429675\n"
     ]
    }
   ],
   "source": [
    "y_pred_train_rfe = model_rfe.predict(X_train_rfe)\n",
    "y_pred_test_rfe = model_rfe.predict(X_test_rfe)\n",
    "\n",
    "train_rmse = np.sqrt(mean_squared_error(y_train_rfe,y_pred_train_rfe))\n",
    "test_rmse =  np.sqrt(mean_squared_error(y_test_rfe,y_pred_test_rfe))\n",
    "\n",
    "print(\"train_rsme: \",train_rmse)\n",
    "print(\"test_rsme: \",test_rmse)"
   ]
  },
  {
   "cell_type": "code",
   "execution_count": 1085,
   "metadata": {},
   "outputs": [
    {
     "data": {
      "text/plain": [
       "0.7253948786457611"
      ]
     },
     "execution_count": 1085,
     "metadata": {},
     "output_type": "execute_result"
    }
   ],
   "source": [
    "r2_rfe = model_rfe.rsquared\n",
    "r2_rfe"
   ]
  },
  {
   "cell_type": "code",
   "execution_count": 1086,
   "metadata": {},
   "outputs": [],
   "source": [
    "# We can see that test rmse and train rmse value are close together so we can say that model is not the overfit but\n",
    "# We can see that rsquare value around 0.725 and through this it can be possible that the model is underfit slightly."
   ]
  },
  {
   "cell_type": "markdown",
   "metadata": {},
   "source": [
    "#### Rebulding model with significant variable"
   ]
  },
  {
   "cell_type": "code",
   "execution_count": 1087,
   "metadata": {
    "scrolled": false
   },
   "outputs": [
    {
     "data": {
      "text/html": [
       "<table class=\"simpletable\">\n",
       "<caption>OLS Regression Results</caption>\n",
       "<tr>\n",
       "  <th>Dep. Variable:</th>          <td>likes</td>      <th>  R-squared:         </th> <td>   0.725</td>\n",
       "</tr>\n",
       "<tr>\n",
       "  <th>Model:</th>                   <td>OLS</td>       <th>  Adj. R-squared:    </th> <td>   0.725</td>\n",
       "</tr>\n",
       "<tr>\n",
       "  <th>Method:</th>             <td>Least Squares</td>  <th>  F-statistic:       </th> <td>   968.7</td>\n",
       "</tr>\n",
       "<tr>\n",
       "  <th>Date:</th>             <td>Thu, 24 Nov 2022</td> <th>  Prob (F-statistic):</th>  <td>  0.00</td> \n",
       "</tr>\n",
       "<tr>\n",
       "  <th>Time:</th>                 <td>22:35:28</td>     <th>  Log-Likelihood:    </th> <td> -3345.5</td>\n",
       "</tr>\n",
       "<tr>\n",
       "  <th>No. Observations:</th>      <td>  1472</td>      <th>  AIC:               </th> <td>   6701.</td>\n",
       "</tr>\n",
       "<tr>\n",
       "  <th>Df Residuals:</th>          <td>  1467</td>      <th>  BIC:               </th> <td>   6727.</td>\n",
       "</tr>\n",
       "<tr>\n",
       "  <th>Df Model:</th>              <td>     4</td>      <th>                     </th>     <td> </td>   \n",
       "</tr>\n",
       "<tr>\n",
       "  <th>Covariance Type:</th>      <td>nonrobust</td>    <th>                     </th>     <td> </td>   \n",
       "</tr>\n",
       "</table>\n",
       "<table class=\"simpletable\">\n",
       "<tr>\n",
       "         <td></td>           <th>coef</th>     <th>std err</th>      <th>t</th>      <th>P>|t|</th>  <th>[0.025</th>    <th>0.975]</th>  \n",
       "</tr>\n",
       "<tr>\n",
       "  <th>const</th>          <td>    3.6726</td> <td>    0.104</td> <td>   35.241</td> <td> 0.000</td> <td>    3.468</td> <td>    3.877</td>\n",
       "</tr>\n",
       "<tr>\n",
       "  <th>likes_received</th> <td>    0.2954</td> <td>    0.078</td> <td>    3.767</td> <td> 0.000</td> <td>    0.142</td> <td>    0.449</td>\n",
       "</tr>\n",
       "<tr>\n",
       "  <th>mobile_likes</th>   <td>    2.3999</td> <td>    0.054</td> <td>   44.839</td> <td> 0.000</td> <td>    2.295</td> <td>    2.505</td>\n",
       "</tr>\n",
       "<tr>\n",
       "  <th>www_likes</th>      <td>    1.7383</td> <td>    0.071</td> <td>   24.567</td> <td> 0.000</td> <td>    1.599</td> <td>    1.877</td>\n",
       "</tr>\n",
       "<tr>\n",
       "  <th>gender_male</th>    <td>   -0.5948</td> <td>    0.129</td> <td>   -4.608</td> <td> 0.000</td> <td>   -0.848</td> <td>   -0.342</td>\n",
       "</tr>\n",
       "</table>\n",
       "<table class=\"simpletable\">\n",
       "<tr>\n",
       "  <th>Omnibus:</th>       <td>375.771</td> <th>  Durbin-Watson:     </th> <td>   2.102</td> \n",
       "</tr>\n",
       "<tr>\n",
       "  <th>Prob(Omnibus):</th> <td> 0.000</td>  <th>  Jarque-Bera (JB):  </th> <td>16374.238</td>\n",
       "</tr>\n",
       "<tr>\n",
       "  <th>Skew:</th>          <td> 0.371</td>  <th>  Prob(JB):          </th> <td>    0.00</td> \n",
       "</tr>\n",
       "<tr>\n",
       "  <th>Kurtosis:</th>      <td>19.322</td>  <th>  Cond. No.          </th> <td>    3.71</td> \n",
       "</tr>\n",
       "</table><br/><br/>Notes:<br/>[1] Standard Errors assume that the covariance matrix of the errors is correctly specified."
      ],
      "text/plain": [
       "<class 'statsmodels.iolib.summary.Summary'>\n",
       "\"\"\"\n",
       "                            OLS Regression Results                            \n",
       "==============================================================================\n",
       "Dep. Variable:                  likes   R-squared:                       0.725\n",
       "Model:                            OLS   Adj. R-squared:                  0.725\n",
       "Method:                 Least Squares   F-statistic:                     968.7\n",
       "Date:                Thu, 24 Nov 2022   Prob (F-statistic):               0.00\n",
       "Time:                        22:35:28   Log-Likelihood:                -3345.5\n",
       "No. Observations:                1472   AIC:                             6701.\n",
       "Df Residuals:                    1467   BIC:                             6727.\n",
       "Df Model:                           4                                         \n",
       "Covariance Type:            nonrobust                                         \n",
       "==================================================================================\n",
       "                     coef    std err          t      P>|t|      [0.025      0.975]\n",
       "----------------------------------------------------------------------------------\n",
       "const              3.6726      0.104     35.241      0.000       3.468       3.877\n",
       "likes_received     0.2954      0.078      3.767      0.000       0.142       0.449\n",
       "mobile_likes       2.3999      0.054     44.839      0.000       2.295       2.505\n",
       "www_likes          1.7383      0.071     24.567      0.000       1.599       1.877\n",
       "gender_male       -0.5948      0.129     -4.608      0.000      -0.848      -0.342\n",
       "==============================================================================\n",
       "Omnibus:                      375.771   Durbin-Watson:                   2.102\n",
       "Prob(Omnibus):                  0.000   Jarque-Bera (JB):            16374.238\n",
       "Skew:                           0.371   Prob(JB):                         0.00\n",
       "Kurtosis:                      19.322   Cond. No.                         3.71\n",
       "==============================================================================\n",
       "\n",
       "Notes:\n",
       "[1] Standard Errors assume that the covariance matrix of the errors is correctly specified.\n",
       "\"\"\""
      ]
     },
     "execution_count": 1087,
     "metadata": {},
     "output_type": "execute_result"
    }
   ],
   "source": [
    "X_signi = X.drop(['mobile_likes_received'],axis=1)\n",
    "# mobile_likes_received\n",
    "# likes_received\n",
    "y_signi = df_likes['likes']\n",
    "y_signi= np.sqrt(y_signi)\n",
    "X_train_signi,X_test_signi,y_train_signi,y_test_signi = train_test_split(X_signi,y_signi,test_size=0.3,random_state=1)\n",
    "model_signi = sm.OLS(y_train_signi,X_train_signi).fit()\n",
    "model_signi.summary()"
   ]
  },
  {
   "cell_type": "code",
   "execution_count": 1088,
   "metadata": {},
   "outputs": [],
   "source": [
    "# We have remove the multicolinearity from above model using VIF but we can see that model accurary doesn't improve much"
   ]
  },
  {
   "cell_type": "markdown",
   "metadata": {},
   "source": [
    "##### Model using IQR technique"
   ]
  },
  {
   "cell_type": "code",
   "execution_count": 1089,
   "metadata": {
    "scrolled": true
   },
   "outputs": [],
   "source": [
    "\n",
    "df_likes_num_IQR = df_likes_IQR.select_dtypes(include=np.number)\n",
    "df_likes_cat_IQR = df_likes_IQR.select_dtypes(include=np.object_)\n",
    "df_likes_cat_IQR = pd.get_dummies(df_likes_cat_IQR,drop_first=True)\n",
    "\n",
    "#3\n",
    "ss = StandardScaler()\n",
    "X_IQR = df_likes_num_IQR.drop(['likes','userid'],axis=1)\n",
    "x_scaled = ss.fit_transform(X_IQR)\n",
    "df_num = pd.DataFrame(x_scaled,columns=X_IQR.columns)\n"
   ]
  },
  {
   "cell_type": "code",
   "execution_count": 1090,
   "metadata": {},
   "outputs": [
    {
     "data": {
      "text/html": [
       "<div>\n",
       "<style scoped>\n",
       "    .dataframe tbody tr th:only-of-type {\n",
       "        vertical-align: middle;\n",
       "    }\n",
       "\n",
       "    .dataframe tbody tr th {\n",
       "        vertical-align: top;\n",
       "    }\n",
       "\n",
       "    .dataframe thead th {\n",
       "        text-align: right;\n",
       "    }\n",
       "</style>\n",
       "<table border=\"1\" class=\"dataframe\">\n",
       "  <thead>\n",
       "    <tr style=\"text-align: right;\">\n",
       "      <th></th>\n",
       "      <th>age</th>\n",
       "      <th>dob_day</th>\n",
       "      <th>dob_year</th>\n",
       "      <th>dob_month</th>\n",
       "      <th>tenure</th>\n",
       "      <th>friend_count</th>\n",
       "      <th>friendships_initiated</th>\n",
       "      <th>likes_received</th>\n",
       "      <th>mobile_likes</th>\n",
       "      <th>mobile_likes_received</th>\n",
       "      <th>www_likes</th>\n",
       "      <th>www_likes_received</th>\n",
       "      <th>gender_male</th>\n",
       "    </tr>\n",
       "  </thead>\n",
       "  <tbody>\n",
       "    <tr>\n",
       "      <th>0</th>\n",
       "      <td>-1.439427</td>\n",
       "      <td>-1.183467</td>\n",
       "      <td>1.439427</td>\n",
       "      <td>-1.075337</td>\n",
       "      <td>-1.124978</td>\n",
       "      <td>-1.383048</td>\n",
       "      <td>-1.214132</td>\n",
       "      <td>-0.617178</td>\n",
       "      <td>-0.760728</td>\n",
       "      <td>-0.506809</td>\n",
       "      <td>0.134784</td>\n",
       "      <td>-0.404076</td>\n",
       "      <td>1</td>\n",
       "    </tr>\n",
       "    <tr>\n",
       "      <th>1</th>\n",
       "      <td>-1.360604</td>\n",
       "      <td>0.967295</td>\n",
       "      <td>1.360604</td>\n",
       "      <td>-1.346067</td>\n",
       "      <td>-0.625506</td>\n",
       "      <td>-1.383048</td>\n",
       "      <td>-1.214132</td>\n",
       "      <td>-0.617178</td>\n",
       "      <td>-0.760728</td>\n",
       "      <td>-0.506809</td>\n",
       "      <td>0.134784</td>\n",
       "      <td>-0.404076</td>\n",
       "      <td>1</td>\n",
       "    </tr>\n",
       "    <tr>\n",
       "      <th>2</th>\n",
       "      <td>-0.966488</td>\n",
       "      <td>0.537143</td>\n",
       "      <td>0.966488</td>\n",
       "      <td>1.090505</td>\n",
       "      <td>-0.106824</td>\n",
       "      <td>-1.383048</td>\n",
       "      <td>-1.214132</td>\n",
       "      <td>-0.617178</td>\n",
       "      <td>-0.760728</td>\n",
       "      <td>-0.506809</td>\n",
       "      <td>0.134784</td>\n",
       "      <td>-0.404076</td>\n",
       "      <td>0</td>\n",
       "    </tr>\n",
       "    <tr>\n",
       "      <th>3</th>\n",
       "      <td>-0.808841</td>\n",
       "      <td>-1.291005</td>\n",
       "      <td>0.808841</td>\n",
       "      <td>-1.346067</td>\n",
       "      <td>0.450280</td>\n",
       "      <td>-1.383048</td>\n",
       "      <td>-1.214132</td>\n",
       "      <td>-0.617178</td>\n",
       "      <td>-0.760728</td>\n",
       "      <td>-0.506809</td>\n",
       "      <td>0.134784</td>\n",
       "      <td>-0.404076</td>\n",
       "      <td>1</td>\n",
       "    </tr>\n",
       "    <tr>\n",
       "      <th>4</th>\n",
       "      <td>-0.651195</td>\n",
       "      <td>-0.323162</td>\n",
       "      <td>0.651195</td>\n",
       "      <td>-1.075337</td>\n",
       "      <td>1.660539</td>\n",
       "      <td>-1.383048</td>\n",
       "      <td>-1.214132</td>\n",
       "      <td>-0.617178</td>\n",
       "      <td>-0.760728</td>\n",
       "      <td>-0.506809</td>\n",
       "      <td>0.134784</td>\n",
       "      <td>-0.404076</td>\n",
       "      <td>1</td>\n",
       "    </tr>\n",
       "  </tbody>\n",
       "</table>\n",
       "</div>"
      ],
      "text/plain": [
       "        age   dob_day  dob_year  dob_month    tenure  friend_count  \\\n",
       "0 -1.439427 -1.183467  1.439427  -1.075337 -1.124978     -1.383048   \n",
       "1 -1.360604  0.967295  1.360604  -1.346067 -0.625506     -1.383048   \n",
       "2 -0.966488  0.537143  0.966488   1.090505 -0.106824     -1.383048   \n",
       "3 -0.808841 -1.291005  0.808841  -1.346067  0.450280     -1.383048   \n",
       "4 -0.651195 -0.323162  0.651195  -1.075337  1.660539     -1.383048   \n",
       "\n",
       "   friendships_initiated  likes_received  mobile_likes  mobile_likes_received  \\\n",
       "0              -1.214132       -0.617178     -0.760728              -0.506809   \n",
       "1              -1.214132       -0.617178     -0.760728              -0.506809   \n",
       "2              -1.214132       -0.617178     -0.760728              -0.506809   \n",
       "3              -1.214132       -0.617178     -0.760728              -0.506809   \n",
       "4              -1.214132       -0.617178     -0.760728              -0.506809   \n",
       "\n",
       "   www_likes  www_likes_received  gender_male  \n",
       "0   0.134784           -0.404076            1  \n",
       "1   0.134784           -0.404076            1  \n",
       "2   0.134784           -0.404076            0  \n",
       "3   0.134784           -0.404076            1  \n",
       "4   0.134784           -0.404076            1  "
      ]
     },
     "execution_count": 1090,
     "metadata": {},
     "output_type": "execute_result"
    }
   ],
   "source": [
    "X_full_IQR = pd.concat([df_num,df_likes_cat_IQR],axis=1)\n",
    "X_full_IQR.head()"
   ]
  },
  {
   "cell_type": "code",
   "execution_count": 1091,
   "metadata": {},
   "outputs": [
    {
     "data": {
      "text/html": [
       "<div>\n",
       "<style scoped>\n",
       "    .dataframe tbody tr th:only-of-type {\n",
       "        vertical-align: middle;\n",
       "    }\n",
       "\n",
       "    .dataframe tbody tr th {\n",
       "        vertical-align: top;\n",
       "    }\n",
       "\n",
       "    .dataframe thead th {\n",
       "        text-align: right;\n",
       "    }\n",
       "</style>\n",
       "<table border=\"1\" class=\"dataframe\">\n",
       "  <thead>\n",
       "    <tr style=\"text-align: right;\">\n",
       "      <th></th>\n",
       "      <th>age</th>\n",
       "      <th>dob_day</th>\n",
       "      <th>dob_year</th>\n",
       "      <th>dob_month</th>\n",
       "      <th>tenure</th>\n",
       "      <th>friend_count</th>\n",
       "      <th>friendships_initiated</th>\n",
       "      <th>likes_received</th>\n",
       "      <th>mobile_likes</th>\n",
       "      <th>mobile_likes_received</th>\n",
       "      <th>www_likes</th>\n",
       "      <th>www_likes_received</th>\n",
       "      <th>gender_male</th>\n",
       "    </tr>\n",
       "  </thead>\n",
       "  <tbody>\n",
       "    <tr>\n",
       "      <th>0</th>\n",
       "      <td>-1.439427</td>\n",
       "      <td>-1.183467</td>\n",
       "      <td>1.439427</td>\n",
       "      <td>-1.075337</td>\n",
       "      <td>-1.124978</td>\n",
       "      <td>-1.383048</td>\n",
       "      <td>-1.214132</td>\n",
       "      <td>-0.617178</td>\n",
       "      <td>-0.760728</td>\n",
       "      <td>-0.506809</td>\n",
       "      <td>0.134784</td>\n",
       "      <td>-0.404076</td>\n",
       "      <td>1</td>\n",
       "    </tr>\n",
       "    <tr>\n",
       "      <th>1</th>\n",
       "      <td>-1.360604</td>\n",
       "      <td>0.967295</td>\n",
       "      <td>1.360604</td>\n",
       "      <td>-1.346067</td>\n",
       "      <td>-0.625506</td>\n",
       "      <td>-1.383048</td>\n",
       "      <td>-1.214132</td>\n",
       "      <td>-0.617178</td>\n",
       "      <td>-0.760728</td>\n",
       "      <td>-0.506809</td>\n",
       "      <td>0.134784</td>\n",
       "      <td>-0.404076</td>\n",
       "      <td>1</td>\n",
       "    </tr>\n",
       "    <tr>\n",
       "      <th>2</th>\n",
       "      <td>-0.966488</td>\n",
       "      <td>0.537143</td>\n",
       "      <td>0.966488</td>\n",
       "      <td>1.090505</td>\n",
       "      <td>-0.106824</td>\n",
       "      <td>-1.383048</td>\n",
       "      <td>-1.214132</td>\n",
       "      <td>-0.617178</td>\n",
       "      <td>-0.760728</td>\n",
       "      <td>-0.506809</td>\n",
       "      <td>0.134784</td>\n",
       "      <td>-0.404076</td>\n",
       "      <td>0</td>\n",
       "    </tr>\n",
       "    <tr>\n",
       "      <th>3</th>\n",
       "      <td>-0.808841</td>\n",
       "      <td>-1.291005</td>\n",
       "      <td>0.808841</td>\n",
       "      <td>-1.346067</td>\n",
       "      <td>0.450280</td>\n",
       "      <td>-1.383048</td>\n",
       "      <td>-1.214132</td>\n",
       "      <td>-0.617178</td>\n",
       "      <td>-0.760728</td>\n",
       "      <td>-0.506809</td>\n",
       "      <td>0.134784</td>\n",
       "      <td>-0.404076</td>\n",
       "      <td>1</td>\n",
       "    </tr>\n",
       "    <tr>\n",
       "      <th>4</th>\n",
       "      <td>-0.651195</td>\n",
       "      <td>-0.323162</td>\n",
       "      <td>0.651195</td>\n",
       "      <td>-1.075337</td>\n",
       "      <td>1.660539</td>\n",
       "      <td>-1.383048</td>\n",
       "      <td>-1.214132</td>\n",
       "      <td>-0.617178</td>\n",
       "      <td>-0.760728</td>\n",
       "      <td>-0.506809</td>\n",
       "      <td>0.134784</td>\n",
       "      <td>-0.404076</td>\n",
       "      <td>1</td>\n",
       "    </tr>\n",
       "  </tbody>\n",
       "</table>\n",
       "</div>"
      ],
      "text/plain": [
       "        age   dob_day  dob_year  dob_month    tenure  friend_count  \\\n",
       "0 -1.439427 -1.183467  1.439427  -1.075337 -1.124978     -1.383048   \n",
       "1 -1.360604  0.967295  1.360604  -1.346067 -0.625506     -1.383048   \n",
       "2 -0.966488  0.537143  0.966488   1.090505 -0.106824     -1.383048   \n",
       "3 -0.808841 -1.291005  0.808841  -1.346067  0.450280     -1.383048   \n",
       "4 -0.651195 -0.323162  0.651195  -1.075337  1.660539     -1.383048   \n",
       "\n",
       "   friendships_initiated  likes_received  mobile_likes  mobile_likes_received  \\\n",
       "0              -1.214132       -0.617178     -0.760728              -0.506809   \n",
       "1              -1.214132       -0.617178     -0.760728              -0.506809   \n",
       "2              -1.214132       -0.617178     -0.760728              -0.506809   \n",
       "3              -1.214132       -0.617178     -0.760728              -0.506809   \n",
       "4              -1.214132       -0.617178     -0.760728              -0.506809   \n",
       "\n",
       "   www_likes  www_likes_received  gender_male  \n",
       "0   0.134784           -0.404076            1  \n",
       "1   0.134784           -0.404076            1  \n",
       "2   0.134784           -0.404076            0  \n",
       "3   0.134784           -0.404076            1  \n",
       "4   0.134784           -0.404076            1  "
      ]
     },
     "execution_count": 1091,
     "metadata": {},
     "output_type": "execute_result"
    }
   ],
   "source": [
    "y_IQR = df_likes_IQR['likes']\n",
    "y_IQR = np.sqrt(y_IQR)\n",
    "X_full_IQR.head()"
   ]
  },
  {
   "cell_type": "code",
   "execution_count": 1092,
   "metadata": {
    "scrolled": true
   },
   "outputs": [
    {
     "data": {
      "text/plain": [
       "(1178, 13)"
      ]
     },
     "execution_count": 1092,
     "metadata": {},
     "output_type": "execute_result"
    }
   ],
   "source": [
    "X_full_IQR.shape"
   ]
  },
  {
   "cell_type": "code",
   "execution_count": 1093,
   "metadata": {
    "scrolled": true
   },
   "outputs": [
    {
     "name": "stdout",
     "output_type": "stream",
     "text": [
      "X_train_full (824, 13)\n",
      "X_test_full (354, 13)\n",
      "y_train_full (824,)\n",
      "y_test_full (354,)\n"
     ]
    }
   ],
   "source": [
    "\n",
    "X_train_full_IQR,X_test_full_IQR,y_train_full_IQR,y_test_full_IQR = train_test_split(X_full_IQR,y_IQR,test_size=0.3,random_state=1)\n",
    "print(\"X_train_full\",X_train_full_IQR.shape)\n",
    "print(\"X_test_full\",X_test_full_IQR.shape)\n",
    "print(\"y_train_full\",y_train_full_IQR.shape)\n",
    "print(\"y_test_full\",y_test_full_IQR.shape)"
   ]
  },
  {
   "cell_type": "code",
   "execution_count": 1094,
   "metadata": {
    "scrolled": false
   },
   "outputs": [
    {
     "data": {
      "text/html": [
       "<table class=\"simpletable\">\n",
       "<caption>OLS Regression Results</caption>\n",
       "<tr>\n",
       "  <th>Dep. Variable:</th>          <td>likes</td>      <th>  R-squared:         </th> <td>   0.960</td>\n",
       "</tr>\n",
       "<tr>\n",
       "  <th>Model:</th>                   <td>OLS</td>       <th>  Adj. R-squared:    </th> <td>   0.960</td>\n",
       "</tr>\n",
       "<tr>\n",
       "  <th>Method:</th>             <td>Least Squares</td>  <th>  F-statistic:       </th> <td>   1782.</td>\n",
       "</tr>\n",
       "<tr>\n",
       "  <th>Date:</th>             <td>Thu, 24 Nov 2022</td> <th>  Prob (F-statistic):</th>  <td>  0.00</td> \n",
       "</tr>\n",
       "<tr>\n",
       "  <th>Time:</th>                 <td>22:35:28</td>     <th>  Log-Likelihood:    </th> <td>  439.46</td>\n",
       "</tr>\n",
       "<tr>\n",
       "  <th>No. Observations:</th>      <td>   824</td>      <th>  AIC:               </th> <td>  -854.9</td>\n",
       "</tr>\n",
       "<tr>\n",
       "  <th>Df Residuals:</th>          <td>   812</td>      <th>  BIC:               </th> <td>  -798.3</td>\n",
       "</tr>\n",
       "<tr>\n",
       "  <th>Df Model:</th>              <td>    11</td>      <th>                     </th>     <td> </td>   \n",
       "</tr>\n",
       "<tr>\n",
       "  <th>Covariance Type:</th>      <td>nonrobust</td>    <th>                     </th>     <td> </td>   \n",
       "</tr>\n",
       "</table>\n",
       "<table class=\"simpletable\">\n",
       "<tr>\n",
       "            <td></td>               <th>coef</th>     <th>std err</th>      <th>t</th>      <th>P>|t|</th>  <th>[0.025</th>    <th>0.975]</th>  \n",
       "</tr>\n",
       "<tr>\n",
       "  <th>const</th>                 <td>    1.6429</td> <td>    0.009</td> <td>  185.076</td> <td> 0.000</td> <td>    1.625</td> <td>    1.660</td>\n",
       "</tr>\n",
       "<tr>\n",
       "  <th>age</th>                   <td>   -0.0004</td> <td>    0.003</td> <td>   -0.174</td> <td> 0.862</td> <td>   -0.005</td> <td>    0.004</td>\n",
       "</tr>\n",
       "<tr>\n",
       "  <th>dob_day</th>               <td>    0.0035</td> <td>    0.005</td> <td>    0.679</td> <td> 0.498</td> <td>   -0.007</td> <td>    0.013</td>\n",
       "</tr>\n",
       "<tr>\n",
       "  <th>dob_year</th>              <td>    0.0004</td> <td>    0.003</td> <td>    0.174</td> <td> 0.862</td> <td>   -0.004</td> <td>    0.005</td>\n",
       "</tr>\n",
       "<tr>\n",
       "  <th>dob_month</th>             <td>    0.0059</td> <td>    0.005</td> <td>    1.144</td> <td> 0.253</td> <td>   -0.004</td> <td>    0.016</td>\n",
       "</tr>\n",
       "<tr>\n",
       "  <th>tenure</th>                <td>   -0.0011</td> <td>    0.005</td> <td>   -0.221</td> <td> 0.825</td> <td>   -0.011</td> <td>    0.009</td>\n",
       "</tr>\n",
       "<tr>\n",
       "  <th>friend_count</th>          <td>   -0.0276</td> <td>    0.007</td> <td>   -3.694</td> <td> 0.000</td> <td>   -0.042</td> <td>   -0.013</td>\n",
       "</tr>\n",
       "<tr>\n",
       "  <th>friendships_initiated</th> <td>    0.0241</td> <td>    0.007</td> <td>    3.224</td> <td> 0.001</td> <td>    0.009</td> <td>    0.039</td>\n",
       "</tr>\n",
       "<tr>\n",
       "  <th>likes_received</th>        <td>    0.0127</td> <td>    0.003</td> <td>    4.967</td> <td> 0.000</td> <td>    0.008</td> <td>    0.018</td>\n",
       "</tr>\n",
       "<tr>\n",
       "  <th>mobile_likes</th>          <td>    0.7069</td> <td>    0.005</td> <td>  129.188</td> <td> 0.000</td> <td>    0.696</td> <td>    0.718</td>\n",
       "</tr>\n",
       "<tr>\n",
       "  <th>mobile_likes_received</th> <td>    0.0155</td> <td>    0.003</td> <td>    4.530</td> <td> 0.000</td> <td>    0.009</td> <td>    0.022</td>\n",
       "</tr>\n",
       "<tr>\n",
       "  <th>www_likes</th>             <td>    0.3620</td> <td>    0.005</td> <td>   66.470</td> <td> 0.000</td> <td>    0.351</td> <td>    0.373</td>\n",
       "</tr>\n",
       "<tr>\n",
       "  <th>www_likes_received</th>    <td>   -0.0019</td> <td>    0.005</td> <td>   -0.376</td> <td> 0.707</td> <td>   -0.012</td> <td>    0.008</td>\n",
       "</tr>\n",
       "<tr>\n",
       "  <th>gender_male</th>           <td>   -0.0205</td> <td>    0.011</td> <td>   -1.896</td> <td> 0.058</td> <td>   -0.042</td> <td>    0.001</td>\n",
       "</tr>\n",
       "</table>\n",
       "<table class=\"simpletable\">\n",
       "<tr>\n",
       "  <th>Omnibus:</th>       <td>82.499</td> <th>  Durbin-Watson:     </th> <td>   1.976</td>\n",
       "</tr>\n",
       "<tr>\n",
       "  <th>Prob(Omnibus):</th> <td> 0.000</td> <th>  Jarque-Bera (JB):  </th> <td> 156.358</td>\n",
       "</tr>\n",
       "<tr>\n",
       "  <th>Skew:</th>          <td>-0.632</td> <th>  Prob(JB):          </th> <td>1.12e-34</td>\n",
       "</tr>\n",
       "<tr>\n",
       "  <th>Kurtosis:</th>      <td> 4.719</td> <th>  Cond. No.          </th> <td>1.16e+16</td>\n",
       "</tr>\n",
       "</table><br/><br/>Notes:<br/>[1] Standard Errors assume that the covariance matrix of the errors is correctly specified.<br/>[2] The smallest eigenvalue is 1.31e-29. This might indicate that there are<br/>strong multicollinearity problems or that the design matrix is singular."
      ],
      "text/plain": [
       "<class 'statsmodels.iolib.summary.Summary'>\n",
       "\"\"\"\n",
       "                            OLS Regression Results                            \n",
       "==============================================================================\n",
       "Dep. Variable:                  likes   R-squared:                       0.960\n",
       "Model:                            OLS   Adj. R-squared:                  0.960\n",
       "Method:                 Least Squares   F-statistic:                     1782.\n",
       "Date:                Thu, 24 Nov 2022   Prob (F-statistic):               0.00\n",
       "Time:                        22:35:28   Log-Likelihood:                 439.46\n",
       "No. Observations:                 824   AIC:                            -854.9\n",
       "Df Residuals:                     812   BIC:                            -798.3\n",
       "Df Model:                          11                                         \n",
       "Covariance Type:            nonrobust                                         \n",
       "=========================================================================================\n",
       "                            coef    std err          t      P>|t|      [0.025      0.975]\n",
       "-----------------------------------------------------------------------------------------\n",
       "const                     1.6429      0.009    185.076      0.000       1.625       1.660\n",
       "age                      -0.0004      0.003     -0.174      0.862      -0.005       0.004\n",
       "dob_day                   0.0035      0.005      0.679      0.498      -0.007       0.013\n",
       "dob_year                  0.0004      0.003      0.174      0.862      -0.004       0.005\n",
       "dob_month                 0.0059      0.005      1.144      0.253      -0.004       0.016\n",
       "tenure                   -0.0011      0.005     -0.221      0.825      -0.011       0.009\n",
       "friend_count             -0.0276      0.007     -3.694      0.000      -0.042      -0.013\n",
       "friendships_initiated     0.0241      0.007      3.224      0.001       0.009       0.039\n",
       "likes_received            0.0127      0.003      4.967      0.000       0.008       0.018\n",
       "mobile_likes              0.7069      0.005    129.188      0.000       0.696       0.718\n",
       "mobile_likes_received     0.0155      0.003      4.530      0.000       0.009       0.022\n",
       "www_likes                 0.3620      0.005     66.470      0.000       0.351       0.373\n",
       "www_likes_received       -0.0019      0.005     -0.376      0.707      -0.012       0.008\n",
       "gender_male              -0.0205      0.011     -1.896      0.058      -0.042       0.001\n",
       "==============================================================================\n",
       "Omnibus:                       82.499   Durbin-Watson:                   1.976\n",
       "Prob(Omnibus):                  0.000   Jarque-Bera (JB):              156.358\n",
       "Skew:                          -0.632   Prob(JB):                     1.12e-34\n",
       "Kurtosis:                       4.719   Cond. No.                     1.16e+16\n",
       "==============================================================================\n",
       "\n",
       "Notes:\n",
       "[1] Standard Errors assume that the covariance matrix of the errors is correctly specified.\n",
       "[2] The smallest eigenvalue is 1.31e-29. This might indicate that there are\n",
       "strong multicollinearity problems or that the design matrix is singular.\n",
       "\"\"\""
      ]
     },
     "execution_count": 1094,
     "metadata": {},
     "output_type": "execute_result"
    }
   ],
   "source": [
    "model_IQR = sm.OLS(y_train_full_IQR,sm.add_constant(X_train_full_IQR)).fit()\n",
    "model_IQR.summary()"
   ]
  },
  {
   "cell_type": "code",
   "execution_count": 1095,
   "metadata": {
    "scrolled": true
   },
   "outputs": [
    {
     "name": "stdout",
     "output_type": "stream",
     "text": [
      "      VIF_Factor                Feature\n",
      "1   1.070456e+00                dob_day\n",
      "4   1.076867e+00                 tenure\n",
      "3   1.086525e+00              dob_month\n",
      "8   1.110131e+00           mobile_likes\n",
      "10  1.149841e+00              www_likes\n",
      "6   2.138335e+00  friendships_initiated\n",
      "5   2.177274e+00           friend_count\n",
      "12  2.472782e+00            gender_male\n",
      "7   4.194304e+04         likes_received\n",
      "9   5.178153e+04  mobile_likes_received\n",
      "11  2.322106e+05     www_likes_received\n",
      "0            inf                    age\n",
      "2            inf               dob_year\n"
     ]
    }
   ],
   "source": [
    "vif_IQR = pd.DataFrame()\n",
    "\n",
    "vif_IQR['VIF_Factor'] = [variance_inflation_factor(X_full_IQR.values,i) for i in range(X_full_IQR.shape[1])]\n",
    "\n",
    "vif_IQR['Feature'] = X_train_full_IQR.columns\n",
    "\n",
    "print(vif_IQR.sort_values(by='VIF_Factor',ascending=True))"
   ]
  },
  {
   "cell_type": "code",
   "execution_count": 1096,
   "metadata": {},
   "outputs": [],
   "source": [
    "X_vif_IQR = X_full_IQR.drop(['likes_received','mobile_likes_received','www_likes_received','dob_year'],axis=1)"
   ]
  },
  {
   "cell_type": "code",
   "execution_count": 1097,
   "metadata": {},
   "outputs": [
    {
     "data": {
      "text/html": [
       "<div>\n",
       "<style scoped>\n",
       "    .dataframe tbody tr th:only-of-type {\n",
       "        vertical-align: middle;\n",
       "    }\n",
       "\n",
       "    .dataframe tbody tr th {\n",
       "        vertical-align: top;\n",
       "    }\n",
       "\n",
       "    .dataframe thead th {\n",
       "        text-align: right;\n",
       "    }\n",
       "</style>\n",
       "<table border=\"1\" class=\"dataframe\">\n",
       "  <thead>\n",
       "    <tr style=\"text-align: right;\">\n",
       "      <th></th>\n",
       "      <th>age</th>\n",
       "      <th>dob_day</th>\n",
       "      <th>dob_month</th>\n",
       "      <th>tenure</th>\n",
       "      <th>friend_count</th>\n",
       "      <th>friendships_initiated</th>\n",
       "      <th>mobile_likes</th>\n",
       "      <th>www_likes</th>\n",
       "      <th>gender_male</th>\n",
       "    </tr>\n",
       "  </thead>\n",
       "  <tbody>\n",
       "    <tr>\n",
       "      <th>0</th>\n",
       "      <td>-1.439427</td>\n",
       "      <td>-1.183467</td>\n",
       "      <td>-1.075337</td>\n",
       "      <td>-1.124978</td>\n",
       "      <td>-1.383048</td>\n",
       "      <td>-1.214132</td>\n",
       "      <td>-0.760728</td>\n",
       "      <td>0.134784</td>\n",
       "      <td>1</td>\n",
       "    </tr>\n",
       "    <tr>\n",
       "      <th>1</th>\n",
       "      <td>-1.360604</td>\n",
       "      <td>0.967295</td>\n",
       "      <td>-1.346067</td>\n",
       "      <td>-0.625506</td>\n",
       "      <td>-1.383048</td>\n",
       "      <td>-1.214132</td>\n",
       "      <td>-0.760728</td>\n",
       "      <td>0.134784</td>\n",
       "      <td>1</td>\n",
       "    </tr>\n",
       "    <tr>\n",
       "      <th>2</th>\n",
       "      <td>-0.966488</td>\n",
       "      <td>0.537143</td>\n",
       "      <td>1.090505</td>\n",
       "      <td>-0.106824</td>\n",
       "      <td>-1.383048</td>\n",
       "      <td>-1.214132</td>\n",
       "      <td>-0.760728</td>\n",
       "      <td>0.134784</td>\n",
       "      <td>0</td>\n",
       "    </tr>\n",
       "    <tr>\n",
       "      <th>3</th>\n",
       "      <td>-0.808841</td>\n",
       "      <td>-1.291005</td>\n",
       "      <td>-1.346067</td>\n",
       "      <td>0.450280</td>\n",
       "      <td>-1.383048</td>\n",
       "      <td>-1.214132</td>\n",
       "      <td>-0.760728</td>\n",
       "      <td>0.134784</td>\n",
       "      <td>1</td>\n",
       "    </tr>\n",
       "    <tr>\n",
       "      <th>4</th>\n",
       "      <td>-0.651195</td>\n",
       "      <td>-0.323162</td>\n",
       "      <td>-1.075337</td>\n",
       "      <td>1.660539</td>\n",
       "      <td>-1.383048</td>\n",
       "      <td>-1.214132</td>\n",
       "      <td>-0.760728</td>\n",
       "      <td>0.134784</td>\n",
       "      <td>1</td>\n",
       "    </tr>\n",
       "  </tbody>\n",
       "</table>\n",
       "</div>"
      ],
      "text/plain": [
       "        age   dob_day  dob_month    tenure  friend_count  \\\n",
       "0 -1.439427 -1.183467  -1.075337 -1.124978     -1.383048   \n",
       "1 -1.360604  0.967295  -1.346067 -0.625506     -1.383048   \n",
       "2 -0.966488  0.537143   1.090505 -0.106824     -1.383048   \n",
       "3 -0.808841 -1.291005  -1.346067  0.450280     -1.383048   \n",
       "4 -0.651195 -0.323162  -1.075337  1.660539     -1.383048   \n",
       "\n",
       "   friendships_initiated  mobile_likes  www_likes  gender_male  \n",
       "0              -1.214132     -0.760728   0.134784            1  \n",
       "1              -1.214132     -0.760728   0.134784            1  \n",
       "2              -1.214132     -0.760728   0.134784            0  \n",
       "3              -1.214132     -0.760728   0.134784            1  \n",
       "4              -1.214132     -0.760728   0.134784            1  "
      ]
     },
     "execution_count": 1097,
     "metadata": {},
     "output_type": "execute_result"
    }
   ],
   "source": [
    "X_vif_IQR.head()"
   ]
  },
  {
   "cell_type": "code",
   "execution_count": 1098,
   "metadata": {},
   "outputs": [
    {
     "name": "stdout",
     "output_type": "stream",
     "text": [
      "X_train_full (824, 13)\n",
      "X_test_full (354, 13)\n",
      "y_train_full (824,)\n",
      "y_test_full (354,)\n"
     ]
    }
   ],
   "source": [
    "X_train_vif_IQR,X_test_vif_IQR,y_train_vif_IQR,y_test_vif_IQR = train_test_split(X_vif_IQR,y_IQR,test_size=0.3,random_state=1)\n",
    "print(\"X_train_full\",X_train_full_IQR.shape)\n",
    "print(\"X_test_full\",X_test_full_IQR.shape)\n",
    "print(\"y_train_full\",y_train_full_IQR.shape)\n",
    "print(\"y_test_full\",y_test_full_IQR.shape)"
   ]
  },
  {
   "cell_type": "code",
   "execution_count": 1099,
   "metadata": {
    "scrolled": true
   },
   "outputs": [
    {
     "data": {
      "text/html": [
       "<table class=\"simpletable\">\n",
       "<caption>OLS Regression Results</caption>\n",
       "<tr>\n",
       "  <th>Dep. Variable:</th>          <td>likes</td>      <th>  R-squared:         </th> <td>   0.959</td>\n",
       "</tr>\n",
       "<tr>\n",
       "  <th>Model:</th>                   <td>OLS</td>       <th>  Adj. R-squared:    </th> <td>   0.958</td>\n",
       "</tr>\n",
       "<tr>\n",
       "  <th>Method:</th>             <td>Least Squares</td>  <th>  F-statistic:       </th> <td>   2110.</td>\n",
       "</tr>\n",
       "<tr>\n",
       "  <th>Date:</th>             <td>Thu, 24 Nov 2022</td> <th>  Prob (F-statistic):</th>  <td>  0.00</td> \n",
       "</tr>\n",
       "<tr>\n",
       "  <th>Time:</th>                 <td>22:35:28</td>     <th>  Log-Likelihood:    </th> <td>  425.94</td>\n",
       "</tr>\n",
       "<tr>\n",
       "  <th>No. Observations:</th>      <td>   824</td>      <th>  AIC:               </th> <td>  -831.9</td>\n",
       "</tr>\n",
       "<tr>\n",
       "  <th>Df Residuals:</th>          <td>   814</td>      <th>  BIC:               </th> <td>  -784.7</td>\n",
       "</tr>\n",
       "<tr>\n",
       "  <th>Df Model:</th>              <td>     9</td>      <th>                     </th>     <td> </td>   \n",
       "</tr>\n",
       "<tr>\n",
       "  <th>Covariance Type:</th>      <td>nonrobust</td>    <th>                     </th>     <td> </td>   \n",
       "</tr>\n",
       "</table>\n",
       "<table class=\"simpletable\">\n",
       "<tr>\n",
       "            <td></td>               <th>coef</th>     <th>std err</th>      <th>t</th>      <th>P>|t|</th>  <th>[0.025</th>    <th>0.975]</th>  \n",
       "</tr>\n",
       "<tr>\n",
       "  <th>const</th>                 <td>    1.6433</td> <td>    0.009</td> <td>  182.499</td> <td> 0.000</td> <td>    1.626</td> <td>    1.661</td>\n",
       "</tr>\n",
       "<tr>\n",
       "  <th>age</th>                   <td>   -0.0011</td> <td>    0.005</td> <td>   -0.224</td> <td> 0.823</td> <td>   -0.011</td> <td>    0.009</td>\n",
       "</tr>\n",
       "<tr>\n",
       "  <th>dob_day</th>               <td>    0.0050</td> <td>    0.005</td> <td>    0.965</td> <td> 0.335</td> <td>   -0.005</td> <td>    0.015</td>\n",
       "</tr>\n",
       "<tr>\n",
       "  <th>dob_month</th>             <td>    0.0055</td> <td>    0.005</td> <td>    1.060</td> <td> 0.289</td> <td>   -0.005</td> <td>    0.016</td>\n",
       "</tr>\n",
       "<tr>\n",
       "  <th>tenure</th>                <td>   -0.0033</td> <td>    0.005</td> <td>   -0.638</td> <td> 0.523</td> <td>   -0.013</td> <td>    0.007</td>\n",
       "</tr>\n",
       "<tr>\n",
       "  <th>friend_count</th>          <td>   -0.0278</td> <td>    0.008</td> <td>   -3.667</td> <td> 0.000</td> <td>   -0.043</td> <td>   -0.013</td>\n",
       "</tr>\n",
       "<tr>\n",
       "  <th>friendships_initiated</th> <td>    0.0236</td> <td>    0.008</td> <td>    3.115</td> <td> 0.002</td> <td>    0.009</td> <td>    0.039</td>\n",
       "</tr>\n",
       "<tr>\n",
       "  <th>mobile_likes</th>          <td>    0.7121</td> <td>    0.005</td> <td>  130.632</td> <td> 0.000</td> <td>    0.701</td> <td>    0.723</td>\n",
       "</tr>\n",
       "<tr>\n",
       "  <th>www_likes</th>             <td>    0.3632</td> <td>    0.005</td> <td>   68.542</td> <td> 0.000</td> <td>    0.353</td> <td>    0.374</td>\n",
       "</tr>\n",
       "<tr>\n",
       "  <th>gender_male</th>           <td>   -0.0217</td> <td>    0.011</td> <td>   -1.980</td> <td> 0.048</td> <td>   -0.043</td> <td>   -0.000</td>\n",
       "</tr>\n",
       "</table>\n",
       "<table class=\"simpletable\">\n",
       "<tr>\n",
       "  <th>Omnibus:</th>       <td>99.193</td> <th>  Durbin-Watson:     </th> <td>   1.983</td>\n",
       "</tr>\n",
       "<tr>\n",
       "  <th>Prob(Omnibus):</th> <td> 0.000</td> <th>  Jarque-Bera (JB):  </th> <td> 199.534</td>\n",
       "</tr>\n",
       "<tr>\n",
       "  <th>Skew:</th>          <td>-0.719</td> <th>  Prob(JB):          </th> <td>4.70e-44</td>\n",
       "</tr>\n",
       "<tr>\n",
       "  <th>Kurtosis:</th>      <td> 4.934</td> <th>  Cond. No.          </th> <td>    3.61</td>\n",
       "</tr>\n",
       "</table><br/><br/>Notes:<br/>[1] Standard Errors assume that the covariance matrix of the errors is correctly specified."
      ],
      "text/plain": [
       "<class 'statsmodels.iolib.summary.Summary'>\n",
       "\"\"\"\n",
       "                            OLS Regression Results                            \n",
       "==============================================================================\n",
       "Dep. Variable:                  likes   R-squared:                       0.959\n",
       "Model:                            OLS   Adj. R-squared:                  0.958\n",
       "Method:                 Least Squares   F-statistic:                     2110.\n",
       "Date:                Thu, 24 Nov 2022   Prob (F-statistic):               0.00\n",
       "Time:                        22:35:28   Log-Likelihood:                 425.94\n",
       "No. Observations:                 824   AIC:                            -831.9\n",
       "Df Residuals:                     814   BIC:                            -784.7\n",
       "Df Model:                           9                                         \n",
       "Covariance Type:            nonrobust                                         \n",
       "=========================================================================================\n",
       "                            coef    std err          t      P>|t|      [0.025      0.975]\n",
       "-----------------------------------------------------------------------------------------\n",
       "const                     1.6433      0.009    182.499      0.000       1.626       1.661\n",
       "age                      -0.0011      0.005     -0.224      0.823      -0.011       0.009\n",
       "dob_day                   0.0050      0.005      0.965      0.335      -0.005       0.015\n",
       "dob_month                 0.0055      0.005      1.060      0.289      -0.005       0.016\n",
       "tenure                   -0.0033      0.005     -0.638      0.523      -0.013       0.007\n",
       "friend_count             -0.0278      0.008     -3.667      0.000      -0.043      -0.013\n",
       "friendships_initiated     0.0236      0.008      3.115      0.002       0.009       0.039\n",
       "mobile_likes              0.7121      0.005    130.632      0.000       0.701       0.723\n",
       "www_likes                 0.3632      0.005     68.542      0.000       0.353       0.374\n",
       "gender_male              -0.0217      0.011     -1.980      0.048      -0.043      -0.000\n",
       "==============================================================================\n",
       "Omnibus:                       99.193   Durbin-Watson:                   1.983\n",
       "Prob(Omnibus):                  0.000   Jarque-Bera (JB):              199.534\n",
       "Skew:                          -0.719   Prob(JB):                     4.70e-44\n",
       "Kurtosis:                       4.934   Cond. No.                         3.61\n",
       "==============================================================================\n",
       "\n",
       "Notes:\n",
       "[1] Standard Errors assume that the covariance matrix of the errors is correctly specified.\n",
       "\"\"\""
      ]
     },
     "execution_count": 1099,
     "metadata": {},
     "output_type": "execute_result"
    }
   ],
   "source": [
    "model_IQR_vif = sm.OLS(y_train_full_IQR,sm.add_constant(X_train_vif_IQR)).fit()\n",
    "model_IQR_vif.summary()"
   ]
  },
  {
   "cell_type": "code",
   "execution_count": 1100,
   "metadata": {},
   "outputs": [],
   "source": [
    "# We can see that there is no multicolinearity in the model and accurracy of model is around 0.959.\n",
    "# we need to remove insignificant variable from model"
   ]
  },
  {
   "cell_type": "code",
   "execution_count": 1101,
   "metadata": {},
   "outputs": [],
   "source": [
    "# 2\n",
    "lin_reg = LinearRegression()\n",
    "rfe_model_IQR = RFE(estimator=lin_reg,n_features_to_select=5)\n",
    "rfe_model_IQR = rfe_model.fit(X_train_vif_IQR,y_train_full_IQR)"
   ]
  },
  {
   "cell_type": "code",
   "execution_count": 1102,
   "metadata": {},
   "outputs": [],
   "source": [
    "feat_index = pd.Series(rfe_model_IQR.ranking_,index=X_train_vif_IQR.columns)\n",
    "feat_index = feat_index[feat_index==1].index"
   ]
  },
  {
   "cell_type": "code",
   "execution_count": 1103,
   "metadata": {
    "scrolled": true
   },
   "outputs": [
    {
     "data": {
      "text/plain": [
       "Index(['friend_count', 'friendships_initiated', 'mobile_likes', 'www_likes',\n",
       "       'gender_male'],\n",
       "      dtype='object')"
      ]
     },
     "execution_count": 1103,
     "metadata": {},
     "output_type": "execute_result"
    }
   ],
   "source": [
    "feat_index"
   ]
  },
  {
   "cell_type": "code",
   "execution_count": 1104,
   "metadata": {},
   "outputs": [
    {
     "name": "stdout",
     "output_type": "stream",
     "text": [
      "X_train_rfe_IQR_signi (824, 6)\n",
      "X_test_rfe_IQR_signi (354, 6)\n",
      "y_train_rfe_IQR_signi (824,)\n",
      "y_test_IQR_rfe_signi (354,)\n"
     ]
    }
   ],
   "source": [
    "X = X_vif_IQR[feat_index]\n",
    "X = sm.add_constant(X)\n",
    "y = df_likes_IQR['likes']\n",
    "y = np.sqrt(y)\n",
    "X_train_rfe_IQR,X_test_rfe_IQR,y_train_rfe_IQR,y_test_rfe_IQR = train_test_split(X,y,test_size=0.3,random_state=1)\n",
    "\n",
    "print(\"X_train_rfe_IQR_signi\",X_train_rfe_IQR.shape)\n",
    "print(\"X_test_rfe_IQR_signi\",X_test_rfe_IQR.shape)\n",
    "print(\"y_train_rfe_IQR_signi\",y_train_rfe_IQR.shape)\n",
    "print(\"y_test_IQR_rfe_signi\",y_test_rfe_IQR.shape)\n"
   ]
  },
  {
   "cell_type": "code",
   "execution_count": 1105,
   "metadata": {},
   "outputs": [
    {
     "data": {
      "text/html": [
       "<table class=\"simpletable\">\n",
       "<caption>OLS Regression Results</caption>\n",
       "<tr>\n",
       "  <th>Dep. Variable:</th>          <td>likes</td>      <th>  R-squared:         </th> <td>   0.959</td>\n",
       "</tr>\n",
       "<tr>\n",
       "  <th>Model:</th>                   <td>OLS</td>       <th>  Adj. R-squared:    </th> <td>   0.958</td>\n",
       "</tr>\n",
       "<tr>\n",
       "  <th>Method:</th>             <td>Least Squares</td>  <th>  F-statistic:       </th> <td>   3802.</td>\n",
       "</tr>\n",
       "<tr>\n",
       "  <th>Date:</th>             <td>Thu, 24 Nov 2022</td> <th>  Prob (F-statistic):</th>  <td>  0.00</td> \n",
       "</tr>\n",
       "<tr>\n",
       "  <th>Time:</th>                 <td>22:35:28</td>     <th>  Log-Likelihood:    </th> <td>  424.43</td>\n",
       "</tr>\n",
       "<tr>\n",
       "  <th>No. Observations:</th>      <td>   824</td>      <th>  AIC:               </th> <td>  -836.9</td>\n",
       "</tr>\n",
       "<tr>\n",
       "  <th>Df Residuals:</th>          <td>   818</td>      <th>  BIC:               </th> <td>  -808.6</td>\n",
       "</tr>\n",
       "<tr>\n",
       "  <th>Df Model:</th>              <td>     5</td>      <th>                     </th>     <td> </td>   \n",
       "</tr>\n",
       "<tr>\n",
       "  <th>Covariance Type:</th>      <td>nonrobust</td>    <th>                     </th>     <td> </td>   \n",
       "</tr>\n",
       "</table>\n",
       "<table class=\"simpletable\">\n",
       "<tr>\n",
       "            <td></td>               <th>coef</th>     <th>std err</th>      <th>t</th>      <th>P>|t|</th>  <th>[0.025</th>    <th>0.975]</th>  \n",
       "</tr>\n",
       "<tr>\n",
       "  <th>const</th>                 <td>    1.6431</td> <td>    0.009</td> <td>  183.636</td> <td> 0.000</td> <td>    1.625</td> <td>    1.661</td>\n",
       "</tr>\n",
       "<tr>\n",
       "  <th>friend_count</th>          <td>   -0.0285</td> <td>    0.007</td> <td>   -3.811</td> <td> 0.000</td> <td>   -0.043</td> <td>   -0.014</td>\n",
       "</tr>\n",
       "<tr>\n",
       "  <th>friendships_initiated</th> <td>    0.0234</td> <td>    0.008</td> <td>    3.105</td> <td> 0.002</td> <td>    0.009</td> <td>    0.038</td>\n",
       "</tr>\n",
       "<tr>\n",
       "  <th>mobile_likes</th>          <td>    0.7124</td> <td>    0.005</td> <td>  131.151</td> <td> 0.000</td> <td>    0.702</td> <td>    0.723</td>\n",
       "</tr>\n",
       "<tr>\n",
       "  <th>www_likes</th>             <td>    0.3634</td> <td>    0.005</td> <td>   68.839</td> <td> 0.000</td> <td>    0.353</td> <td>    0.374</td>\n",
       "</tr>\n",
       "<tr>\n",
       "  <th>gender_male</th>           <td>   -0.0211</td> <td>    0.011</td> <td>   -1.941</td> <td> 0.053</td> <td>   -0.042</td> <td>    0.000</td>\n",
       "</tr>\n",
       "</table>\n",
       "<table class=\"simpletable\">\n",
       "<tr>\n",
       "  <th>Omnibus:</th>       <td>99.471</td> <th>  Durbin-Watson:     </th> <td>   1.982</td>\n",
       "</tr>\n",
       "<tr>\n",
       "  <th>Prob(Omnibus):</th> <td> 0.000</td> <th>  Jarque-Bera (JB):  </th> <td> 198.532</td>\n",
       "</tr>\n",
       "<tr>\n",
       "  <th>Skew:</th>          <td>-0.724</td> <th>  Prob(JB):          </th> <td>7.75e-44</td>\n",
       "</tr>\n",
       "<tr>\n",
       "  <th>Kurtosis:</th>      <td> 4.920</td> <th>  Cond. No.          </th> <td>    3.55</td>\n",
       "</tr>\n",
       "</table><br/><br/>Notes:<br/>[1] Standard Errors assume that the covariance matrix of the errors is correctly specified."
      ],
      "text/plain": [
       "<class 'statsmodels.iolib.summary.Summary'>\n",
       "\"\"\"\n",
       "                            OLS Regression Results                            \n",
       "==============================================================================\n",
       "Dep. Variable:                  likes   R-squared:                       0.959\n",
       "Model:                            OLS   Adj. R-squared:                  0.958\n",
       "Method:                 Least Squares   F-statistic:                     3802.\n",
       "Date:                Thu, 24 Nov 2022   Prob (F-statistic):               0.00\n",
       "Time:                        22:35:28   Log-Likelihood:                 424.43\n",
       "No. Observations:                 824   AIC:                            -836.9\n",
       "Df Residuals:                     818   BIC:                            -808.6\n",
       "Df Model:                           5                                         \n",
       "Covariance Type:            nonrobust                                         \n",
       "=========================================================================================\n",
       "                            coef    std err          t      P>|t|      [0.025      0.975]\n",
       "-----------------------------------------------------------------------------------------\n",
       "const                     1.6431      0.009    183.636      0.000       1.625       1.661\n",
       "friend_count             -0.0285      0.007     -3.811      0.000      -0.043      -0.014\n",
       "friendships_initiated     0.0234      0.008      3.105      0.002       0.009       0.038\n",
       "mobile_likes              0.7124      0.005    131.151      0.000       0.702       0.723\n",
       "www_likes                 0.3634      0.005     68.839      0.000       0.353       0.374\n",
       "gender_male              -0.0211      0.011     -1.941      0.053      -0.042       0.000\n",
       "==============================================================================\n",
       "Omnibus:                       99.471   Durbin-Watson:                   1.982\n",
       "Prob(Omnibus):                  0.000   Jarque-Bera (JB):              198.532\n",
       "Skew:                          -0.724   Prob(JB):                     7.75e-44\n",
       "Kurtosis:                       4.920   Cond. No.                         3.55\n",
       "==============================================================================\n",
       "\n",
       "Notes:\n",
       "[1] Standard Errors assume that the covariance matrix of the errors is correctly specified.\n",
       "\"\"\""
      ]
     },
     "execution_count": 1105,
     "metadata": {},
     "output_type": "execute_result"
    }
   ],
   "source": [
    "model_rfe_IQR = sm.OLS(y_train_IQR,X_train_rfe_IQR).fit()\n",
    "model_rfe_IQR.summary()"
   ]
  },
  {
   "cell_type": "code",
   "execution_count": 1106,
   "metadata": {},
   "outputs": [],
   "source": [
    "# We can getting 0.959 as r2 value in above model but we can see that gender_male is insignificant value so we will remove that as well and check"
   ]
  },
  {
   "cell_type": "code",
   "execution_count": 1107,
   "metadata": {
    "scrolled": true
   },
   "outputs": [
    {
     "name": "stdout",
     "output_type": "stream",
     "text": [
      "X_train_rfe_IQR_signi (824, 5)\n",
      "X_test_rfe_IQR_signi (354, 5)\n",
      "y_train_rfe_IQR_signi (824,)\n",
      "y_test_IQR_rfe_signi (354,)\n"
     ]
    }
   ],
   "source": [
    "X = X_vif_IQR[feat_index].drop(['gender_male'],axis=1)\n",
    "X = sm.add_constant(X)\n",
    "y = df_likes_IQR['likes']\n",
    "y = np.sqrt(y)\n",
    "X_train_rfe_IQR_signi,X_test_rfe_IQR_signi,y_train_rfe_IQR_signi,y_test_IQR_rfe_signi = train_test_split(X,y,test_size=0.3,random_state=1)\n",
    "\n",
    "print(\"X_train_rfe_IQR_signi\",X_train_rfe_IQR_signi.shape)\n",
    "print(\"X_test_rfe_IQR_signi\",X_test_rfe_IQR_signi.shape)\n",
    "print(\"y_train_rfe_IQR_signi\",y_train_rfe_IQR_signi.shape)\n",
    "print(\"y_test_IQR_rfe_signi\",y_test_IQR_rfe_signi.shape)\n"
   ]
  },
  {
   "cell_type": "code",
   "execution_count": 1108,
   "metadata": {},
   "outputs": [
    {
     "data": {
      "text/html": [
       "<table class=\"simpletable\">\n",
       "<caption>OLS Regression Results</caption>\n",
       "<tr>\n",
       "  <th>Dep. Variable:</th>          <td>likes</td>      <th>  R-squared:         </th> <td>   0.959</td>\n",
       "</tr>\n",
       "<tr>\n",
       "  <th>Model:</th>                   <td>OLS</td>       <th>  Adj. R-squared:    </th> <td>   0.958</td>\n",
       "</tr>\n",
       "<tr>\n",
       "  <th>Method:</th>             <td>Least Squares</td>  <th>  F-statistic:       </th> <td>   3802.</td>\n",
       "</tr>\n",
       "<tr>\n",
       "  <th>Date:</th>             <td>Thu, 24 Nov 2022</td> <th>  Prob (F-statistic):</th>  <td>  0.00</td> \n",
       "</tr>\n",
       "<tr>\n",
       "  <th>Time:</th>                 <td>22:35:28</td>     <th>  Log-Likelihood:    </th> <td>  424.43</td>\n",
       "</tr>\n",
       "<tr>\n",
       "  <th>No. Observations:</th>      <td>   824</td>      <th>  AIC:               </th> <td>  -836.9</td>\n",
       "</tr>\n",
       "<tr>\n",
       "  <th>Df Residuals:</th>          <td>   818</td>      <th>  BIC:               </th> <td>  -808.6</td>\n",
       "</tr>\n",
       "<tr>\n",
       "  <th>Df Model:</th>              <td>     5</td>      <th>                     </th>     <td> </td>   \n",
       "</tr>\n",
       "<tr>\n",
       "  <th>Covariance Type:</th>      <td>nonrobust</td>    <th>                     </th>     <td> </td>   \n",
       "</tr>\n",
       "</table>\n",
       "<table class=\"simpletable\">\n",
       "<tr>\n",
       "            <td></td>               <th>coef</th>     <th>std err</th>      <th>t</th>      <th>P>|t|</th>  <th>[0.025</th>    <th>0.975]</th>  \n",
       "</tr>\n",
       "<tr>\n",
       "  <th>const</th>                 <td>    1.6431</td> <td>    0.009</td> <td>  183.636</td> <td> 0.000</td> <td>    1.625</td> <td>    1.661</td>\n",
       "</tr>\n",
       "<tr>\n",
       "  <th>friend_count</th>          <td>   -0.0285</td> <td>    0.007</td> <td>   -3.811</td> <td> 0.000</td> <td>   -0.043</td> <td>   -0.014</td>\n",
       "</tr>\n",
       "<tr>\n",
       "  <th>friendships_initiated</th> <td>    0.0234</td> <td>    0.008</td> <td>    3.105</td> <td> 0.002</td> <td>    0.009</td> <td>    0.038</td>\n",
       "</tr>\n",
       "<tr>\n",
       "  <th>mobile_likes</th>          <td>    0.7124</td> <td>    0.005</td> <td>  131.151</td> <td> 0.000</td> <td>    0.702</td> <td>    0.723</td>\n",
       "</tr>\n",
       "<tr>\n",
       "  <th>www_likes</th>             <td>    0.3634</td> <td>    0.005</td> <td>   68.839</td> <td> 0.000</td> <td>    0.353</td> <td>    0.374</td>\n",
       "</tr>\n",
       "<tr>\n",
       "  <th>gender_male</th>           <td>   -0.0211</td> <td>    0.011</td> <td>   -1.941</td> <td> 0.053</td> <td>   -0.042</td> <td>    0.000</td>\n",
       "</tr>\n",
       "</table>\n",
       "<table class=\"simpletable\">\n",
       "<tr>\n",
       "  <th>Omnibus:</th>       <td>99.471</td> <th>  Durbin-Watson:     </th> <td>   1.982</td>\n",
       "</tr>\n",
       "<tr>\n",
       "  <th>Prob(Omnibus):</th> <td> 0.000</td> <th>  Jarque-Bera (JB):  </th> <td> 198.532</td>\n",
       "</tr>\n",
       "<tr>\n",
       "  <th>Skew:</th>          <td>-0.724</td> <th>  Prob(JB):          </th> <td>7.75e-44</td>\n",
       "</tr>\n",
       "<tr>\n",
       "  <th>Kurtosis:</th>      <td> 4.920</td> <th>  Cond. No.          </th> <td>    3.55</td>\n",
       "</tr>\n",
       "</table><br/><br/>Notes:<br/>[1] Standard Errors assume that the covariance matrix of the errors is correctly specified."
      ],
      "text/plain": [
       "<class 'statsmodels.iolib.summary.Summary'>\n",
       "\"\"\"\n",
       "                            OLS Regression Results                            \n",
       "==============================================================================\n",
       "Dep. Variable:                  likes   R-squared:                       0.959\n",
       "Model:                            OLS   Adj. R-squared:                  0.958\n",
       "Method:                 Least Squares   F-statistic:                     3802.\n",
       "Date:                Thu, 24 Nov 2022   Prob (F-statistic):               0.00\n",
       "Time:                        22:35:28   Log-Likelihood:                 424.43\n",
       "No. Observations:                 824   AIC:                            -836.9\n",
       "Df Residuals:                     818   BIC:                            -808.6\n",
       "Df Model:                           5                                         \n",
       "Covariance Type:            nonrobust                                         \n",
       "=========================================================================================\n",
       "                            coef    std err          t      P>|t|      [0.025      0.975]\n",
       "-----------------------------------------------------------------------------------------\n",
       "const                     1.6431      0.009    183.636      0.000       1.625       1.661\n",
       "friend_count             -0.0285      0.007     -3.811      0.000      -0.043      -0.014\n",
       "friendships_initiated     0.0234      0.008      3.105      0.002       0.009       0.038\n",
       "mobile_likes              0.7124      0.005    131.151      0.000       0.702       0.723\n",
       "www_likes                 0.3634      0.005     68.839      0.000       0.353       0.374\n",
       "gender_male              -0.0211      0.011     -1.941      0.053      -0.042       0.000\n",
       "==============================================================================\n",
       "Omnibus:                       99.471   Durbin-Watson:                   1.982\n",
       "Prob(Omnibus):                  0.000   Jarque-Bera (JB):              198.532\n",
       "Skew:                          -0.724   Prob(JB):                     7.75e-44\n",
       "Kurtosis:                       4.920   Cond. No.                         3.55\n",
       "==============================================================================\n",
       "\n",
       "Notes:\n",
       "[1] Standard Errors assume that the covariance matrix of the errors is correctly specified.\n",
       "\"\"\""
      ]
     },
     "execution_count": 1108,
     "metadata": {},
     "output_type": "execute_result"
    }
   ],
   "source": [
    "model_rfe_IQR_signi = sm.OLS(y_train_IQR,X_train_rfe_IQR).fit()\n",
    "model_rfe_IQR_signi.summary()"
   ]
  },
  {
   "cell_type": "code",
   "execution_count": 1109,
   "metadata": {},
   "outputs": [],
   "source": [
    "# We can see that there is no significant different after removing gender male. so we can consider model_rfe_IQR as final\n",
    "# linear model"
   ]
  },
  {
   "cell_type": "code",
   "execution_count": 1110,
   "metadata": {},
   "outputs": [
    {
     "name": "stdout",
     "output_type": "stream",
     "text": [
      "train_rsme:  0.0\n",
      "test_rsme:  0.15129805671131555\n"
     ]
    }
   ],
   "source": [
    "y_pred_train_rfe_IQR = model_rfe_IQR.predict(X_train_rfe_IQR)\n",
    "y_pred_test_rfe_IQR = model_rfe_IQR.predict(X_test_rfe_IQR)\n",
    "\n",
    "train_rmse_IQR = np.sqrt(mean_squared_error(y_train_rfe_IQR,y_train_rfe_IQR))\n",
    "test_rmse_IQR =  np.sqrt(mean_squared_error(y_test_rfe_IQR,y_pred_test_rfe_IQR))\n",
    "\n",
    "print(\"train_rsme: \",train_rmse_IQR)\n",
    "print(\"test_rsme: \",test_rmse_IQR)"
   ]
  },
  {
   "cell_type": "code",
   "execution_count": 1111,
   "metadata": {},
   "outputs": [],
   "source": [
    "# we can see that rmse value for both train and test decrease"
   ]
  },
  {
   "cell_type": "markdown",
   "metadata": {},
   "source": [
    "<h2 class=\"list-group-item list-group-item-action active\" >5.Linear Regression Assumptions Validation</h2>\n",
    "\n",
    "\n",
    ">### 1. Linearity of the model\n",
    ">### 2. Homoscedasticity (equal variance) of residuals\n",
    ">### 3. Normality of residuals \n",
    ">### 4. Identifying Outliers/influential Cases"
   ]
  },
  {
   "cell_type": "code",
   "execution_count": 1112,
   "metadata": {
    "scrolled": true
   },
   "outputs": [
    {
     "data": {
      "image/png": "[encoded data removed]",
      "text/plain": [
       "<Figure size 1080x576 with 1 Axes>"
      ]
     },
     "metadata": {},
     "output_type": "display_data"
    }
   ],
   "source": [
    "#1.\n",
    "sns.regplot(y_train_rfe_IQR,y_train_rfe_IQR)\n",
    "plt.show()"
   ]
  },
  {
   "cell_type": "code",
   "execution_count": 1113,
   "metadata": {},
   "outputs": [],
   "source": [
    "y_residual =  y_test_rfe  - y_pred_test_rfe"
   ]
  },
  {
   "cell_type": "code",
   "execution_count": 1114,
   "metadata": {},
   "outputs": [
    {
     "data": {
      "text/plain": [
       "(632,)"
      ]
     },
     "execution_count": 1114,
     "metadata": {},
     "output_type": "execute_result"
    }
   ],
   "source": [
    "y_test_rfe.shape"
   ]
  },
  {
   "cell_type": "code",
   "execution_count": 1115,
   "metadata": {},
   "outputs": [
    {
     "data": {
      "text/plain": [
       "(1472,)"
      ]
     },
     "execution_count": 1115,
     "metadata": {},
     "output_type": "execute_result"
    }
   ],
   "source": [
    "y_pred_train_rfe.shape"
   ]
  },
  {
   "cell_type": "code",
   "execution_count": 1163,
   "metadata": {
    "scrolled": true
   },
   "outputs": [
    {
     "data": {
      "image/png": "[encoded data removed]",
      "text/plain": [
       "<Figure size 1080x576 with 1 Axes>"
      ]
     },
     "metadata": {},
     "output_type": "display_data"
    }
   ],
   "source": [
    "sns.regplot(y=model_rfe.resid,x=y_pred_train_rfe)\n",
    "plt.show()"
   ]
  },
  {
   "cell_type": "code",
   "execution_count": 1162,
   "metadata": {},
   "outputs": [
    {
     "data": {
      "image/png": "[encoded data removed]",
      "text/plain": [
       "<Figure size 1080x576 with 1 Axes>"
      ]
     },
     "metadata": {},
     "output_type": "display_data"
    }
   ],
   "source": [
    "sns.regplot(y=model_rfe_IQR.resid,x=y_pred_train_rfe_IQR)\n",
    "plt.show()"
   ]
  },
  {
   "cell_type": "code",
   "execution_count": 1160,
   "metadata": {},
   "outputs": [],
   "source": [
    "residuals_rfe = model_rfe.resid\n",
    "resids_standardized = model_rfe.get_influence().resid_studentized_internal\n",
    "\n",
    "rmse_resids_standardized = np.sqrt(np.abs(resids_standardized))\n"
   ]
  },
  {
   "cell_type": "code",
   "execution_count": null,
   "metadata": {},
   "outputs": [],
   "source": [
    "y_pred_train_rfe = model_rfe.predict(X_train_rfe)\n",
    "y_pred_test_rfe = model_rfe.predict(X_test_rfe)\n",
    "\n",
    "train_rmse = np.sqrt(mean_squared_error(y_train_rfe,y_pred_train_rfe))\n",
    "test_rmse =  np.sqrt(mean_squared_error(y_test_rfe,y_pred_test_rfe))\n",
    "\n",
    "print(\"train_rsme: \",train_rmse)\n",
    "print(\"test_rsme: \",test_rmse)"
   ]
  },
  {
   "cell_type": "code",
   "execution_count": 1161,
   "metadata": {},
   "outputs": [
    {
     "data": {
      "image/png": "[encoded data removed]",
      "text/plain": [
       "<Figure size 1080x576 with 1 Axes>"
      ]
     },
     "metadata": {},
     "output_type": "display_data"
    }
   ],
   "source": [
    "sns.regplot(y_pred_train_rfe,rmse_resids_standardized)\n",
    "plt.show()"
   ]
  },
  {
   "cell_type": "code",
   "execution_count": 1117,
   "metadata": {
    "scrolled": true
   },
   "outputs": [],
   "source": [
    "residuals_rfe = model_rfe_IQR.resid\n",
    "resids_standardized = model_rfe_IQR.get_influence().resid_studentized_internal\n",
    "\n",
    "rmse_resids_standardized = np.sqrt(np.abs(resids_standardized))\n"
   ]
  },
  {
   "cell_type": "code",
   "execution_count": 1118,
   "metadata": {},
   "outputs": [
    {
     "data": {
      "image/png": "[encoded data removed]",
      "text/plain": [
       "<Figure size 1080x576 with 1 Axes>"
      ]
     },
     "metadata": {},
     "output_type": "display_data"
    }
   ],
   "source": [
    "\n",
    "sns.regplot(y_pred_train_rfe_IQR,rmse_resids_standardized)\n",
    "plt.show()"
   ]
  },
  {
   "cell_type": "code",
   "execution_count": 1119,
   "metadata": {},
   "outputs": [
    {
     "data": {
      "image/png": "[encoded data removed]",
      "text/plain": [
       "<Figure size 1080x576 with 1 Axes>"
      ]
     },
     "metadata": {},
     "output_type": "display_data"
    }
   ],
   "source": [
    "sns.regplot(y = resids_standardized,x=y_pred_train_rfe_IQR)\n",
    "plt.show()"
   ]
  },
  {
   "cell_type": "code",
   "execution_count": 1120,
   "metadata": {},
   "outputs": [
    {
     "data": {
      "image/png": "[encoded data removed]",
      "text/plain": [
       "<Figure size 1080x576 with 1 Axes>"
      ]
     },
     "execution_count": 1120,
     "metadata": {},
     "output_type": "execute_result"
    },
    {
     "data": {
      "image/png": "[encoded data removed]",
      "text/plain": [
       "<Figure size 1080x576 with 1 Axes>"
      ]
     },
     "metadata": {},
     "output_type": "display_data"
    }
   ],
   "source": [
    "qqplot(model_vif.resid,line='r')"
   ]
  },
  {
   "cell_type": "code",
   "execution_count": 1121,
   "metadata": {
    "scrolled": true
   },
   "outputs": [
    {
     "data": {
      "image/png": "[encoded data removed]",
      "text/plain": [
       "<Figure size 1080x576 with 1 Axes>"
      ]
     },
     "execution_count": 1121,
     "metadata": {},
     "output_type": "execute_result"
    },
    {
     "data": {
      "image/png": "[encoded data removed]",
      "text/plain": [
       "<Figure size 1080x576 with 1 Axes>"
      ]
     },
     "metadata": {},
     "output_type": "display_data"
    }
   ],
   "source": [
    "qqplot(model_IQR_vif.resid,line='r')"
   ]
  },
  {
   "cell_type": "code",
   "execution_count": 1122,
   "metadata": {
    "scrolled": true
   },
   "outputs": [
    {
     "data": {
      "text/plain": [
       "(41.52820290018629, 3.446970376551629e-61)"
      ]
     },
     "execution_count": 1122,
     "metadata": {},
     "output_type": "execute_result"
    }
   ],
   "source": [
    "test = sms.het_breuschpagan(model_IQR_vif.resid,model_IQR_vif.model.exog)\n",
    "test[2:]"
   ]
  },
  {
   "cell_type": "code",
   "execution_count": 1123,
   "metadata": {},
   "outputs": [],
   "source": [
    "#  There is not homoskedasticity for residual"
   ]
  },
  {
   "cell_type": "code",
   "execution_count": 1124,
   "metadata": {},
   "outputs": [],
   "source": [
    "stat,pvalue = stats.shapiro(model_IQR_vif.resid)"
   ]
  },
  {
   "cell_type": "code",
   "execution_count": 1125,
   "metadata": {},
   "outputs": [
    {
     "data": {
      "text/plain": [
       "3.631975586309884e-21"
      ]
     },
     "execution_count": 1125,
     "metadata": {},
     "output_type": "execute_result"
    }
   ],
   "source": [
    "pvalue"
   ]
  },
  {
   "cell_type": "code",
   "execution_count": 1126,
   "metadata": {},
   "outputs": [
    {
     "name": "stdout",
     "output_type": "stream",
     "text": [
      "Residual is not normal\n"
     ]
    }
   ],
   "source": [
    "if pvalue > 0.05:\n",
    "    print(\"Residual is normal\")\n",
    "else :\n",
    "    print(\"Residual is not normal\")"
   ]
  },
  {
   "cell_type": "markdown",
   "metadata": {},
   "source": [
    "<h2 class=\"list-group-item list-group-item-action active\" >6.Rebuilding the Model: Feature Selection using RFE & K-Fold Cross Validation</h2>\n",
    "\n",
    "\n",
    ">### A. Finding optimal feature count using RFE and plot the r2 and RMSE against n_features.\n",
    "\n",
    ">### B. K-Fold Cross Validation"
   ]
  },
  {
   "cell_type": "code",
   "execution_count": 1127,
   "metadata": {},
   "outputs": [
    {
     "name": "stderr",
     "output_type": "stream",
     "text": [
      "[Parallel(n_jobs=1)]: Using backend SequentialBackend with 1 concurrent workers.\n",
      "[Parallel(n_jobs=1)]: Done   1 out of   1 | elapsed:    0.0s remaining:    0.0s\n",
      "[Parallel(n_jobs=1)]: Done   8 out of   8 | elapsed:    0.0s finished\n",
      "\n",
      "[2022-11-24 22:35:30] Features: 1/8 -- score: 0.30223729306426816[Parallel(n_jobs=1)]: Using backend SequentialBackend with 1 concurrent workers.\n",
      "[Parallel(n_jobs=1)]: Done   1 out of   1 | elapsed:    0.0s remaining:    0.0s\n",
      "[Parallel(n_jobs=1)]: Done   7 out of   7 | elapsed:    0.0s finished\n",
      "\n",
      "[2022-11-24 22:35:30] Features: 2/8 -- score: 0.3095795596240176[Parallel(n_jobs=1)]: Using backend SequentialBackend with 1 concurrent workers.\n",
      "[Parallel(n_jobs=1)]: Done   1 out of   1 | elapsed:    0.0s remaining:    0.0s\n",
      "[Parallel(n_jobs=1)]: Done   6 out of   6 | elapsed:    0.0s finished\n",
      "\n",
      "[2022-11-24 22:35:30] Features: 3/8 -- score: 0.30936376212811545[Parallel(n_jobs=1)]: Using backend SequentialBackend with 1 concurrent workers.\n",
      "[Parallel(n_jobs=1)]: Done   1 out of   1 | elapsed:    0.0s remaining:    0.0s\n",
      "[Parallel(n_jobs=1)]: Done   5 out of   5 | elapsed:    0.0s finished\n",
      "\n",
      "[2022-11-24 22:35:30] Features: 4/8 -- score: 0.30901573386083714[Parallel(n_jobs=1)]: Using backend SequentialBackend with 1 concurrent workers.\n",
      "[Parallel(n_jobs=1)]: Done   1 out of   1 | elapsed:    0.0s remaining:    0.0s\n",
      "[Parallel(n_jobs=1)]: Done   4 out of   4 | elapsed:    0.0s finished\n",
      "\n",
      "[2022-11-24 22:35:30] Features: 5/8 -- score: 0.3087897116561233[Parallel(n_jobs=1)]: Using backend SequentialBackend with 1 concurrent workers.\n",
      "[Parallel(n_jobs=1)]: Done   1 out of   1 | elapsed:    0.0s remaining:    0.0s\n",
      "[Parallel(n_jobs=1)]: Done   3 out of   3 | elapsed:    0.0s finished\n",
      "\n",
      "[2022-11-24 22:35:30] Features: 6/8 -- score: 0.30825535769654594[Parallel(n_jobs=1)]: Using backend SequentialBackend with 1 concurrent workers.\n",
      "[Parallel(n_jobs=1)]: Done   1 out of   1 | elapsed:    0.0s remaining:    0.0s\n",
      "[Parallel(n_jobs=1)]: Done   2 out of   2 | elapsed:    0.0s finished\n",
      "\n",
      "[2022-11-24 22:35:30] Features: 7/8 -- score: 0.30745148019143814[Parallel(n_jobs=1)]: Using backend SequentialBackend with 1 concurrent workers.\n",
      "[Parallel(n_jobs=1)]: Done   1 out of   1 | elapsed:    0.0s remaining:    0.0s\n",
      "[Parallel(n_jobs=1)]: Done   1 out of   1 | elapsed:    0.0s finished\n",
      "\n",
      "[2022-11-24 22:35:30] Features: 8/8 -- score: 0.2943829638392008"
     ]
    }
   ],
   "source": [
    "linreg = LinearRegression()\n",
    "\n",
    "linreg_forward = sfs(estimator=lin_reg,k_features='best',forward=True,verbose=2,scoring='r2')\n",
    "sfs_forward = linreg_forward.fit(X_train_vif,y_train_full)\n",
    "#y_test_pred = lin_reg.predict(x_train_full)"
   ]
  },
  {
   "cell_type": "code",
   "execution_count": 1128,
   "metadata": {
    "scrolled": true
   },
   "outputs": [
    {
     "data": {
      "text/plain": [
       "('www_likes', 'gender_male')"
      ]
     },
     "execution_count": 1128,
     "metadata": {},
     "output_type": "execute_result"
    }
   ],
   "source": [
    "sfs_forward.k_feature_names_"
   ]
  },
  {
   "cell_type": "code",
   "execution_count": 1129,
   "metadata": {},
   "outputs": [
    {
     "data": {
      "text/plain": [
       "0.3095795596240176"
      ]
     },
     "execution_count": 1129,
     "metadata": {},
     "output_type": "execute_result"
    }
   ],
   "source": [
    "sfs_forward.k_score_"
   ]
  },
  {
   "cell_type": "code",
   "execution_count": 1130,
   "metadata": {},
   "outputs": [
    {
     "name": "stderr",
     "output_type": "stream",
     "text": [
      "[Parallel(n_jobs=1)]: Using backend SequentialBackend with 1 concurrent workers.\n",
      "[Parallel(n_jobs=1)]: Done   1 out of   1 | elapsed:    0.0s remaining:    0.0s\n",
      "[Parallel(n_jobs=1)]: Done   8 out of   8 | elapsed:    0.0s finished\n",
      "\n",
      "[2022-11-24 22:35:30] Features: 7/1 -- score: 0.30745148019143814[Parallel(n_jobs=1)]: Using backend SequentialBackend with 1 concurrent workers.\n",
      "[Parallel(n_jobs=1)]: Done   1 out of   1 | elapsed:    0.0s remaining:    0.0s\n",
      "[Parallel(n_jobs=1)]: Done   7 out of   7 | elapsed:    0.0s finished\n",
      "\n",
      "[2022-11-24 22:35:31] Features: 6/1 -- score: 0.30825535769654594[Parallel(n_jobs=1)]: Using backend SequentialBackend with 1 concurrent workers.\n",
      "[Parallel(n_jobs=1)]: Done   1 out of   1 | elapsed:    0.0s remaining:    0.0s\n",
      "[Parallel(n_jobs=1)]: Done   6 out of   6 | elapsed:    0.0s finished\n",
      "\n",
      "[2022-11-24 22:35:31] Features: 5/1 -- score: 0.3087897116561233[Parallel(n_jobs=1)]: Using backend SequentialBackend with 1 concurrent workers.\n",
      "[Parallel(n_jobs=1)]: Done   1 out of   1 | elapsed:    0.0s remaining:    0.0s\n",
      "[Parallel(n_jobs=1)]: Done   5 out of   5 | elapsed:    0.0s finished\n",
      "\n",
      "[2022-11-24 22:35:31] Features: 4/1 -- score: 0.3090286417241506[Parallel(n_jobs=1)]: Using backend SequentialBackend with 1 concurrent workers.\n",
      "[Parallel(n_jobs=1)]: Done   1 out of   1 | elapsed:    0.0s remaining:    0.0s\n",
      "[Parallel(n_jobs=1)]: Done   4 out of   4 | elapsed:    0.0s finished\n",
      "\n",
      "[2022-11-24 22:35:31] Features: 3/1 -- score: 0.3092391670974505[Parallel(n_jobs=1)]: Using backend SequentialBackend with 1 concurrent workers.\n",
      "[Parallel(n_jobs=1)]: Done   1 out of   1 | elapsed:    0.0s remaining:    0.0s\n",
      "[Parallel(n_jobs=1)]: Done   3 out of   3 | elapsed:    0.0s finished\n",
      "\n",
      "[2022-11-24 22:35:31] Features: 2/1 -- score: 0.3095795596240176[Parallel(n_jobs=1)]: Using backend SequentialBackend with 1 concurrent workers.\n",
      "[Parallel(n_jobs=1)]: Done   1 out of   1 | elapsed:    0.0s remaining:    0.0s\n",
      "[Parallel(n_jobs=1)]: Done   2 out of   2 | elapsed:    0.0s finished\n",
      "\n",
      "[2022-11-24 22:35:31] Features: 1/1 -- score: 0.30223729306426816"
     ]
    }
   ],
   "source": [
    "# back selection\n",
    "linreg = LinearRegression()\n",
    "\n",
    "linreg_backward = sfs(estimator=lin_reg,k_features='best',forward=False,verbose=2,scoring='r2')\n",
    "sfs_backward = linreg_backward.fit(X_train_vif,y_train_full)\n",
    "#y_test_pred = lin_reg.predict(x_train_full)"
   ]
  },
  {
   "cell_type": "code",
   "execution_count": 1131,
   "metadata": {},
   "outputs": [
    {
     "data": {
      "text/plain": [
       "('www_likes', 'gender_male')"
      ]
     },
     "execution_count": 1131,
     "metadata": {},
     "output_type": "execute_result"
    }
   ],
   "source": [
    "sfs_backward.k_feature_names_"
   ]
  },
  {
   "cell_type": "code",
   "execution_count": 1132,
   "metadata": {},
   "outputs": [
    {
     "data": {
      "text/plain": [
       "0.3095795596240176"
      ]
     },
     "execution_count": 1132,
     "metadata": {},
     "output_type": "execute_result"
    }
   ],
   "source": [
    "sfs_backward.k_score_"
   ]
  },
  {
   "cell_type": "code",
   "execution_count": 1133,
   "metadata": {},
   "outputs": [
    {
     "name": "stdout",
     "output_type": "stream",
     "text": [
      "Index(['dob_month', 'friendships_initiated', 'mobile_likes', 'www_likes',\n",
      "       'gender_male'],\n",
      "      dtype='object')\n"
     ]
    }
   ],
   "source": [
    "# RFE selectiom\n",
    "len1 = len(X_train_vif.columns)\n",
    "lin_reg_rfe = LinearRegression()\n",
    "\n",
    "rfe_model = RFE(estimator=lin_reg_rfe,n_features_to_select=13)\n",
    "\n",
    "rfe_model = rfe_model.fit(X_train_vif,y_train_rfe)\n",
    "\n",
    "feat_index = pd.Series(data=rfe_model.ranking_,index=X_train_vif.columns)\n",
    "\n",
    "signi_feat_rfe =  feat_index[feat_index==1].index\n",
    "\n",
    "print(signi_feat_rfe)"
   ]
  },
  {
   "cell_type": "code",
   "execution_count": 1134,
   "metadata": {},
   "outputs": [
    {
     "data": {
      "text/plain": [
       "0        2\n",
       "1        1\n",
       "2       10\n",
       "3        1\n",
       "4        2\n",
       "        ..\n",
       "2099     3\n",
       "2100     4\n",
       "2101     4\n",
       "2102     1\n",
       "2103     8\n",
       "Name: dob_month, Length: 2104, dtype: int64"
      ]
     },
     "execution_count": 1134,
     "metadata": {},
     "output_type": "execute_result"
    }
   ],
   "source": [
    "df_likes['dob_month']"
   ]
  },
  {
   "cell_type": "code",
   "execution_count": 1135,
   "metadata": {},
   "outputs": [],
   "source": [
    "X_RFE = X_full[signi_feat_rfe]\n",
    "y_RFE = np.sqrt(df_likes['likes'])"
   ]
  },
  {
   "cell_type": "code",
   "execution_count": 1136,
   "metadata": {},
   "outputs": [
    {
     "name": "stdout",
     "output_type": "stream",
     "text": [
      "X_train_full (1472, 5)\n",
      "X_test_full (632, 5)\n",
      "y_train_full (1472,)\n",
      "y_test_full (632,)\n"
     ]
    }
   ],
   "source": [
    "X_train_rfe,X_test_rfe,y_train_rfe,y_test_rfe =  train_test_split(X_RFE,y_RFE,test_size=0.3,random_state=1)\n",
    "print(\"X_train_full\",X_train_rfe.shape)\n",
    "print(\"X_test_full\",X_test_rfe.shape)\n",
    "print(\"y_train_full\",y_train_rfe.shape)\n",
    "print(\"y_test_full\",y_test_rfe.shape)"
   ]
  },
  {
   "cell_type": "code",
   "execution_count": 1137,
   "metadata": {},
   "outputs": [],
   "source": [
    "linreg_RFE = LinearRegression()\n",
    "linreg_RFE.fit(X_train_rfe,y_train_rfe)\n",
    "y_pred_rfe = linreg_RFE.predict(X_test_rfe)"
   ]
  },
  {
   "cell_type": "code",
   "execution_count": 1138,
   "metadata": {},
   "outputs": [
    {
     "data": {
      "text/plain": [
       "0.72285308432706"
      ]
     },
     "execution_count": 1138,
     "metadata": {},
     "output_type": "execute_result"
    }
   ],
   "source": [
    "linreg_RFE.score(X_train_rfe,y_train_rfe)"
   ]
  },
  {
   "cell_type": "code",
   "execution_count": 1139,
   "metadata": {},
   "outputs": [
    {
     "data": {
      "text/plain": [
       "2.122148482666323"
      ]
     },
     "execution_count": 1139,
     "metadata": {},
     "output_type": "execute_result"
    }
   ],
   "source": [
    "y_test_rmse_RFE = np.sqrt(mean_squared_error(y_test_rfe,y_pred_rfe))\n",
    "y_test_rmse_RFE"
   ]
  },
  {
   "cell_type": "code",
   "execution_count": 1140,
   "metadata": {},
   "outputs": [],
   "source": [
    "kf = KFold(n_splits=5)"
   ]
  },
  {
   "cell_type": "code",
   "execution_count": 1141,
   "metadata": {},
   "outputs": [],
   "source": [
    "scores = cross_val_score(estimator=LinearRegression(),\n",
    "                        X = X_train_rfe,\n",
    "                        y = y_train_rfe,\n",
    "                        cv = 10,\n",
    "                        scoring = 'r2'\n",
    "                        )"
   ]
  },
  {
   "cell_type": "code",
   "execution_count": 1142,
   "metadata": {},
   "outputs": [
    {
     "name": "stdout",
     "output_type": "stream",
     "text": [
      "All Score [0.48217364 0.69018579 0.75938485 0.60025486 0.58339161 0.55069276\n",
      " 0.22466262 0.85488302 0.58961786 0.60943198]\n"
     ]
    }
   ],
   "source": [
    "print(\"All Score\",scores)"
   ]
  },
  {
   "cell_type": "code",
   "execution_count": 1143,
   "metadata": {},
   "outputs": [
    {
     "name": "stdout",
     "output_type": "stream",
     "text": [
      "Minimum score  0.2247\n",
      "Maximum score  0.8549\n"
     ]
    }
   ],
   "source": [
    "print('Minimum score ',round(min(scores),4))\n",
    "print('Maximum score ',round(max(scores),4))"
   ]
  },
  {
   "cell_type": "code",
   "execution_count": 1144,
   "metadata": {},
   "outputs": [
    {
     "data": {
      "text/plain": [
       "array([2.56443965, 3.20853581, 3.2534069 , ..., 2.42892155, 2.87046504,\n",
       "       3.05418392])"
      ]
     },
     "execution_count": 1144,
     "metadata": {},
     "output_type": "execute_result"
    }
   ],
   "source": [
    "# ridge regression\n",
    "\n",
    "ridge = Ridge(alpha=0.2)\n",
    "ridge.fit(X_train_rfe,y_train_rfe)\n",
    "ridge.predict(X_train_rfe)"
   ]
  },
  {
   "cell_type": "code",
   "execution_count": 1145,
   "metadata": {},
   "outputs": [
    {
     "data": {
      "text/plain": [
       "0.7228530772782111"
      ]
     },
     "execution_count": 1145,
     "metadata": {},
     "output_type": "execute_result"
    }
   ],
   "source": [
    "ridge.score(X_train_rfe,y_train_rfe)"
   ]
  },
  {
   "cell_type": "code",
   "execution_count": 1146,
   "metadata": {},
   "outputs": [
    {
     "data": {
      "text/plain": [
       "array([2.78195348, 2.85731336, 2.93968888, ..., 2.76234982, 3.08285583,\n",
       "       2.74778136])"
      ]
     },
     "execution_count": 1146,
     "metadata": {},
     "output_type": "execute_result"
    }
   ],
   "source": [
    "# lasso regression\n",
    "lasso = Lasso(alpha=0.3)\n",
    "lasso.fit(X_train_rfe,y_train_rfe)\n",
    "lasso.predict(X_train_rfe)"
   ]
  },
  {
   "cell_type": "code",
   "execution_count": 1147,
   "metadata": {},
   "outputs": [
    {
     "data": {
      "text/plain": [
       "0.7125154849997877"
      ]
     },
     "execution_count": 1147,
     "metadata": {},
     "output_type": "execute_result"
    }
   ],
   "source": [
    "lasso.score(X_train_rfe,y_train_rfe)"
   ]
  },
  {
   "cell_type": "markdown",
   "metadata": {},
   "source": [
    "#### Feature selection using IQR Model"
   ]
  },
  {
   "cell_type": "code",
   "execution_count": 1153,
   "metadata": {},
   "outputs": [
    {
     "name": "stderr",
     "output_type": "stream",
     "text": [
      "[Parallel(n_jobs=1)]: Using backend SequentialBackend with 1 concurrent workers.\n",
      "[Parallel(n_jobs=1)]: Done   1 out of   1 | elapsed:    0.0s remaining:    0.0s\n",
      "[Parallel(n_jobs=1)]: Done   6 out of   6 | elapsed:    0.0s finished\n",
      "\n",
      "[2022-11-24 22:38:42] Features: 1/6 -- score: 0.7138070748378375[Parallel(n_jobs=1)]: Using backend SequentialBackend with 1 concurrent workers.\n",
      "[Parallel(n_jobs=1)]: Done   1 out of   1 | elapsed:    0.0s remaining:    0.0s\n",
      "[Parallel(n_jobs=1)]: Done   5 out of   5 | elapsed:    0.0s finished\n",
      "\n",
      "[2022-11-24 22:38:43] Features: 2/6 -- score: 0.9575607353250458[Parallel(n_jobs=1)]: Using backend SequentialBackend with 1 concurrent workers.\n",
      "[Parallel(n_jobs=1)]: Done   1 out of   1 | elapsed:    0.0s remaining:    0.0s\n",
      "[Parallel(n_jobs=1)]: Done   4 out of   4 | elapsed:    0.0s finished\n",
      "\n",
      "[2022-11-24 22:38:43] Features: 3/6 -- score: 0.9577627214806521[Parallel(n_jobs=1)]: Using backend SequentialBackend with 1 concurrent workers.\n",
      "[Parallel(n_jobs=1)]: Done   1 out of   1 | elapsed:    0.0s remaining:    0.0s\n",
      "[Parallel(n_jobs=1)]: Done   3 out of   3 | elapsed:    0.0s finished\n",
      "\n",
      "[2022-11-24 22:38:43] Features: 4/6 -- score: 0.9579348533497924[Parallel(n_jobs=1)]: Using backend SequentialBackend with 1 concurrent workers.\n",
      "[Parallel(n_jobs=1)]: Done   1 out of   1 | elapsed:    0.0s remaining:    0.0s\n",
      "[Parallel(n_jobs=1)]: Done   2 out of   2 | elapsed:    0.0s finished\n",
      "\n",
      "[2022-11-24 22:38:43] Features: 5/6 -- score: 0.9579348533497924[Parallel(n_jobs=1)]: Using backend SequentialBackend with 1 concurrent workers.\n",
      "[Parallel(n_jobs=1)]: Done   1 out of   1 | elapsed:    0.0s remaining:    0.0s\n",
      "[Parallel(n_jobs=1)]: Done   1 out of   1 | elapsed:    0.0s finished\n",
      "\n",
      "[2022-11-24 22:38:43] Features: 6/6 -- score: 0.9578980906939598"
     ]
    }
   ],
   "source": [
    "linreg = LinearRegression()\n",
    "\n",
    "linreg_forward = sfs(estimator=lin_reg,k_features='best',forward=True,verbose=2,scoring='r2')\n",
    "sfs_forward = linreg_forward.fit(X_train_rfe_IQR,y_train_rfe_IQR)\n",
    "#y_test_pred = lin_reg.predict(x_train_full)"
   ]
  },
  {
   "cell_type": "code",
   "execution_count": 1154,
   "metadata": {},
   "outputs": [
    {
     "data": {
      "text/plain": [
       "('www_likes', 'gender_male')"
      ]
     },
     "execution_count": 1154,
     "metadata": {},
     "output_type": "execute_result"
    }
   ],
   "source": [
    "sfs_backward.k_feature_names_"
   ]
  },
  {
   "cell_type": "code",
   "execution_count": 1155,
   "metadata": {},
   "outputs": [
    {
     "data": {
      "text/plain": [
       "0.3095795596240176"
      ]
     },
     "execution_count": 1155,
     "metadata": {},
     "output_type": "execute_result"
    }
   ],
   "source": [
    "sfs_backward.k_score_"
   ]
  },
  {
   "cell_type": "code",
   "execution_count": 1157,
   "metadata": {},
   "outputs": [],
   "source": [
    "scores = cross_val_score(estimator=LinearRegression(),\n",
    "                        X = X_train_rfe_IQR,\n",
    "                        y = y_train_rfe_IQR,\n",
    "                        cv = 5,\n",
    "                        scoring = 'r2'\n",
    "                        )"
   ]
  },
  {
   "cell_type": "code",
   "execution_count": 1158,
   "metadata": {},
   "outputs": [
    {
     "data": {
      "text/plain": [
       "array([0.95152543, 0.96572686, 0.95870424, 0.95726817, 0.95626575])"
      ]
     },
     "execution_count": 1158,
     "metadata": {},
     "output_type": "execute_result"
    }
   ],
   "source": [
    "scores"
   ]
  },
  {
   "cell_type": "code",
   "execution_count": 1159,
   "metadata": {},
   "outputs": [
    {
     "name": "stdout",
     "output_type": "stream",
     "text": [
      "Minimum score  0.9515\n",
      "Maximum score  0.9657\n"
     ]
    }
   ],
   "source": [
    "print('Minimum score ',round(min(scores),4))\n",
    "print('Maximum score ',round(max(scores),4))"
   ]
  },
  {
   "cell_type": "code",
   "execution_count": 1164,
   "metadata": {},
   "outputs": [],
   "source": [
    "# we can say that if we build model with outlier then accuracy of model is around 72%\n",
    "# But if we if we build model without outlier then accuracy of model is around 95%"
   ]
  },
  {
   "cell_type": "code",
   "execution_count": null,
   "metadata": {},
   "outputs": [],
   "source": []
  }
 ],
 "metadata": {
  "kernelspec": {
   "display_name": "Python 3 (ipykernel)",
   "language": "python",
   "name": "python3"
  },
  "language_info": {
   "codemirror_mode": {
    "name": "ipython",
    "version": 3
   },
   "file_extension": ".py",
   "mimetype": "text/x-python",
   "name": "python",
   "nbconvert_exporter": "python",
   "pygments_lexer": "ipython3",
   "version": "3.9.7"
  }
 },
 "nbformat": 4,
 "nbformat_minor": 4
}
